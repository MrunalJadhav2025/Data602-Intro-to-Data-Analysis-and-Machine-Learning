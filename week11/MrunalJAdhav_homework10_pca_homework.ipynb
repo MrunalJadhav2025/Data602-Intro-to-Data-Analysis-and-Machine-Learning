{
  "cells": [
    {
      "cell_type": "markdown",
      "metadata": {
        "id": "E-S8iTuTYuGX"
      },
      "source": [
        "# Week 10 - PCA and Dimension Reduction Homework\n",
        "Execute the below code and answer the following questions. __Do NOT commit the csv file!__"
      ]
    },
    {
      "cell_type": "code",
      "execution_count": 37,
      "metadata": {
        "id": "SSvxx6p4YuGY"
      },
      "outputs": [],
      "source": [
        "import pandas as pd\n",
        "import numpy as np\n",
        "import matplotlib.pyplot as plt\n",
        "%matplotlib inline\n",
        "from sklearn.datasets import make_classification\n",
        "\n",
        "def generate_data():\n",
        "    x, y = make_classification(n_samples=1500,\n",
        "                            n_features = 20,\n",
        "                            n_informative = 8,\n",
        "                            n_redundant = 5,\n",
        "                            n_repeated = 1,\n",
        "                            n_classes = 3,\n",
        "                            weights = (0.5, 0.25, 0.25),\n",
        "                            random_state = 120\n",
        "                            )\n",
        "    colNames = ['var'+str(x) for x in range(20)]\n",
        "    colNames.append('target')\n",
        "\n",
        "    df = pd.DataFrame(np.concatenate((x,y.reshape(-1,1)), axis=1), columns=colNames)\n",
        "#     df.to_csv('pca-dataset.csv', index=False)\n",
        "    return df\n",
        "\n",
        "df = generate_data()"
      ]
    },
    {
      "cell_type": "code",
      "execution_count": 38,
      "metadata": {
        "id": "azxEnYPzYuGZ",
        "outputId": "0587e3da-2a20-4f7c-bab6-17bb9d98f2ee",
        "colab": {
          "base_uri": "https://localhost:8080/",
          "height": 255
        }
      },
      "outputs": [
        {
          "output_type": "execute_result",
          "data": {
            "text/plain": [
              "       var0      var1      var2      var3      var4      var5      var6  \\\n",
              "0 -2.882513 -3.272465 -2.520732 -1.987174 -2.073689 -3.272465 -1.237969   \n",
              "1  0.775242 -1.015994  0.005137  0.057274  0.590205 -1.015994  1.350954   \n",
              "2 -0.876376  0.220453  3.114224 -1.640025  1.180348  0.220453  0.465102   \n",
              "3 -2.550342 -1.968144  0.077681 -1.887719  1.864445 -1.968144 -0.527958   \n",
              "4 -0.454974  1.293300  0.112201 -0.589989 -1.674321  1.293300  0.487302   \n",
              "\n",
              "       var7      var8      var9  ...     var11     var12     var13     var14  \\\n",
              "0  1.690547 -0.211314 -5.753190  ... -0.574979 -1.916275 -5.994075 -3.349615   \n",
              "1 -1.493037 -0.862391 -1.986047  ...  0.523760  0.399579  0.088600  0.718606   \n",
              "2  0.222511  0.880455  2.922315  ... -0.370516  3.585262 -2.168162  2.693429   \n",
              "3 -0.201467 -0.532649  2.287445  ... -0.041341  2.383582 -0.417253  1.305379   \n",
              "4  1.776318  0.702520 -1.024127  ... -0.452869 -0.667306  0.345364 -3.920591   \n",
              "\n",
              "      var15     var16     var17     var18     var19  target  \n",
              "0 -0.846193  2.491347  1.360958 -2.892522 -1.377561     0.0  \n",
              "1 -1.112030  0.083929  0.606544 -1.376793  1.302641     2.0  \n",
              "2 -0.966636  1.586302 -2.821546  0.482164  0.187404     0.0  \n",
              "3 -0.435123 -0.468557  0.923290  3.880050  2.676798     1.0  \n",
              "4 -0.438296 -1.690141  0.176906  1.920142  1.474634     0.0  \n",
              "\n",
              "[5 rows x 21 columns]"
            ],
            "text/html": [
              "\n",
              "  <div id=\"df-a9b75d56-01d2-4896-a088-e007b84d354e\" class=\"colab-df-container\">\n",
              "    <div>\n",
              "<style scoped>\n",
              "    .dataframe tbody tr th:only-of-type {\n",
              "        vertical-align: middle;\n",
              "    }\n",
              "\n",
              "    .dataframe tbody tr th {\n",
              "        vertical-align: top;\n",
              "    }\n",
              "\n",
              "    .dataframe thead th {\n",
              "        text-align: right;\n",
              "    }\n",
              "</style>\n",
              "<table border=\"1\" class=\"dataframe\">\n",
              "  <thead>\n",
              "    <tr style=\"text-align: right;\">\n",
              "      <th></th>\n",
              "      <th>var0</th>\n",
              "      <th>var1</th>\n",
              "      <th>var2</th>\n",
              "      <th>var3</th>\n",
              "      <th>var4</th>\n",
              "      <th>var5</th>\n",
              "      <th>var6</th>\n",
              "      <th>var7</th>\n",
              "      <th>var8</th>\n",
              "      <th>var9</th>\n",
              "      <th>...</th>\n",
              "      <th>var11</th>\n",
              "      <th>var12</th>\n",
              "      <th>var13</th>\n",
              "      <th>var14</th>\n",
              "      <th>var15</th>\n",
              "      <th>var16</th>\n",
              "      <th>var17</th>\n",
              "      <th>var18</th>\n",
              "      <th>var19</th>\n",
              "      <th>target</th>\n",
              "    </tr>\n",
              "  </thead>\n",
              "  <tbody>\n",
              "    <tr>\n",
              "      <th>0</th>\n",
              "      <td>-2.882513</td>\n",
              "      <td>-3.272465</td>\n",
              "      <td>-2.520732</td>\n",
              "      <td>-1.987174</td>\n",
              "      <td>-2.073689</td>\n",
              "      <td>-3.272465</td>\n",
              "      <td>-1.237969</td>\n",
              "      <td>1.690547</td>\n",
              "      <td>-0.211314</td>\n",
              "      <td>-5.753190</td>\n",
              "      <td>...</td>\n",
              "      <td>-0.574979</td>\n",
              "      <td>-1.916275</td>\n",
              "      <td>-5.994075</td>\n",
              "      <td>-3.349615</td>\n",
              "      <td>-0.846193</td>\n",
              "      <td>2.491347</td>\n",
              "      <td>1.360958</td>\n",
              "      <td>-2.892522</td>\n",
              "      <td>-1.377561</td>\n",
              "      <td>0.0</td>\n",
              "    </tr>\n",
              "    <tr>\n",
              "      <th>1</th>\n",
              "      <td>0.775242</td>\n",
              "      <td>-1.015994</td>\n",
              "      <td>0.005137</td>\n",
              "      <td>0.057274</td>\n",
              "      <td>0.590205</td>\n",
              "      <td>-1.015994</td>\n",
              "      <td>1.350954</td>\n",
              "      <td>-1.493037</td>\n",
              "      <td>-0.862391</td>\n",
              "      <td>-1.986047</td>\n",
              "      <td>...</td>\n",
              "      <td>0.523760</td>\n",
              "      <td>0.399579</td>\n",
              "      <td>0.088600</td>\n",
              "      <td>0.718606</td>\n",
              "      <td>-1.112030</td>\n",
              "      <td>0.083929</td>\n",
              "      <td>0.606544</td>\n",
              "      <td>-1.376793</td>\n",
              "      <td>1.302641</td>\n",
              "      <td>2.0</td>\n",
              "    </tr>\n",
              "    <tr>\n",
              "      <th>2</th>\n",
              "      <td>-0.876376</td>\n",
              "      <td>0.220453</td>\n",
              "      <td>3.114224</td>\n",
              "      <td>-1.640025</td>\n",
              "      <td>1.180348</td>\n",
              "      <td>0.220453</td>\n",
              "      <td>0.465102</td>\n",
              "      <td>0.222511</td>\n",
              "      <td>0.880455</td>\n",
              "      <td>2.922315</td>\n",
              "      <td>...</td>\n",
              "      <td>-0.370516</td>\n",
              "      <td>3.585262</td>\n",
              "      <td>-2.168162</td>\n",
              "      <td>2.693429</td>\n",
              "      <td>-0.966636</td>\n",
              "      <td>1.586302</td>\n",
              "      <td>-2.821546</td>\n",
              "      <td>0.482164</td>\n",
              "      <td>0.187404</td>\n",
              "      <td>0.0</td>\n",
              "    </tr>\n",
              "    <tr>\n",
              "      <th>3</th>\n",
              "      <td>-2.550342</td>\n",
              "      <td>-1.968144</td>\n",
              "      <td>0.077681</td>\n",
              "      <td>-1.887719</td>\n",
              "      <td>1.864445</td>\n",
              "      <td>-1.968144</td>\n",
              "      <td>-0.527958</td>\n",
              "      <td>-0.201467</td>\n",
              "      <td>-0.532649</td>\n",
              "      <td>2.287445</td>\n",
              "      <td>...</td>\n",
              "      <td>-0.041341</td>\n",
              "      <td>2.383582</td>\n",
              "      <td>-0.417253</td>\n",
              "      <td>1.305379</td>\n",
              "      <td>-0.435123</td>\n",
              "      <td>-0.468557</td>\n",
              "      <td>0.923290</td>\n",
              "      <td>3.880050</td>\n",
              "      <td>2.676798</td>\n",
              "      <td>1.0</td>\n",
              "    </tr>\n",
              "    <tr>\n",
              "      <th>4</th>\n",
              "      <td>-0.454974</td>\n",
              "      <td>1.293300</td>\n",
              "      <td>0.112201</td>\n",
              "      <td>-0.589989</td>\n",
              "      <td>-1.674321</td>\n",
              "      <td>1.293300</td>\n",
              "      <td>0.487302</td>\n",
              "      <td>1.776318</td>\n",
              "      <td>0.702520</td>\n",
              "      <td>-1.024127</td>\n",
              "      <td>...</td>\n",
              "      <td>-0.452869</td>\n",
              "      <td>-0.667306</td>\n",
              "      <td>0.345364</td>\n",
              "      <td>-3.920591</td>\n",
              "      <td>-0.438296</td>\n",
              "      <td>-1.690141</td>\n",
              "      <td>0.176906</td>\n",
              "      <td>1.920142</td>\n",
              "      <td>1.474634</td>\n",
              "      <td>0.0</td>\n",
              "    </tr>\n",
              "  </tbody>\n",
              "</table>\n",
              "<p>5 rows × 21 columns</p>\n",
              "</div>\n",
              "    <div class=\"colab-df-buttons\">\n",
              "\n",
              "  <div class=\"colab-df-container\">\n",
              "    <button class=\"colab-df-convert\" onclick=\"convertToInteractive('df-a9b75d56-01d2-4896-a088-e007b84d354e')\"\n",
              "            title=\"Convert this dataframe to an interactive table.\"\n",
              "            style=\"display:none;\">\n",
              "\n",
              "  <svg xmlns=\"http://www.w3.org/2000/svg\" height=\"24px\" viewBox=\"0 -960 960 960\">\n",
              "    <path d=\"M120-120v-720h720v720H120Zm60-500h600v-160H180v160Zm220 220h160v-160H400v160Zm0 220h160v-160H400v160ZM180-400h160v-160H180v160Zm440 0h160v-160H620v160ZM180-180h160v-160H180v160Zm440 0h160v-160H620v160Z\"/>\n",
              "  </svg>\n",
              "    </button>\n",
              "\n",
              "  <style>\n",
              "    .colab-df-container {\n",
              "      display:flex;\n",
              "      gap: 12px;\n",
              "    }\n",
              "\n",
              "    .colab-df-convert {\n",
              "      background-color: #E8F0FE;\n",
              "      border: none;\n",
              "      border-radius: 50%;\n",
              "      cursor: pointer;\n",
              "      display: none;\n",
              "      fill: #1967D2;\n",
              "      height: 32px;\n",
              "      padding: 0 0 0 0;\n",
              "      width: 32px;\n",
              "    }\n",
              "\n",
              "    .colab-df-convert:hover {\n",
              "      background-color: #E2EBFA;\n",
              "      box-shadow: 0px 1px 2px rgba(60, 64, 67, 0.3), 0px 1px 3px 1px rgba(60, 64, 67, 0.15);\n",
              "      fill: #174EA6;\n",
              "    }\n",
              "\n",
              "    .colab-df-buttons div {\n",
              "      margin-bottom: 4px;\n",
              "    }\n",
              "\n",
              "    [theme=dark] .colab-df-convert {\n",
              "      background-color: #3B4455;\n",
              "      fill: #D2E3FC;\n",
              "    }\n",
              "\n",
              "    [theme=dark] .colab-df-convert:hover {\n",
              "      background-color: #434B5C;\n",
              "      box-shadow: 0px 1px 3px 1px rgba(0, 0, 0, 0.15);\n",
              "      filter: drop-shadow(0px 1px 2px rgba(0, 0, 0, 0.3));\n",
              "      fill: #FFFFFF;\n",
              "    }\n",
              "  </style>\n",
              "\n",
              "    <script>\n",
              "      const buttonEl =\n",
              "        document.querySelector('#df-a9b75d56-01d2-4896-a088-e007b84d354e button.colab-df-convert');\n",
              "      buttonEl.style.display =\n",
              "        google.colab.kernel.accessAllowed ? 'block' : 'none';\n",
              "\n",
              "      async function convertToInteractive(key) {\n",
              "        const element = document.querySelector('#df-a9b75d56-01d2-4896-a088-e007b84d354e');\n",
              "        const dataTable =\n",
              "          await google.colab.kernel.invokeFunction('convertToInteractive',\n",
              "                                                    [key], {});\n",
              "        if (!dataTable) return;\n",
              "\n",
              "        const docLinkHtml = 'Like what you see? Visit the ' +\n",
              "          '<a target=\"_blank\" href=https://colab.research.google.com/notebooks/data_table.ipynb>data table notebook</a>'\n",
              "          + ' to learn more about interactive tables.';\n",
              "        element.innerHTML = '';\n",
              "        dataTable['output_type'] = 'display_data';\n",
              "        await google.colab.output.renderOutput(dataTable, element);\n",
              "        const docLink = document.createElement('div');\n",
              "        docLink.innerHTML = docLinkHtml;\n",
              "        element.appendChild(docLink);\n",
              "      }\n",
              "    </script>\n",
              "  </div>\n",
              "\n",
              "\n",
              "    <div id=\"df-b84d2055-9289-487a-968a-75fb404a8a26\">\n",
              "      <button class=\"colab-df-quickchart\" onclick=\"quickchart('df-b84d2055-9289-487a-968a-75fb404a8a26')\"\n",
              "                title=\"Suggest charts\"\n",
              "                style=\"display:none;\">\n",
              "\n",
              "<svg xmlns=\"http://www.w3.org/2000/svg\" height=\"24px\"viewBox=\"0 0 24 24\"\n",
              "     width=\"24px\">\n",
              "    <g>\n",
              "        <path d=\"M19 3H5c-1.1 0-2 .9-2 2v14c0 1.1.9 2 2 2h14c1.1 0 2-.9 2-2V5c0-1.1-.9-2-2-2zM9 17H7v-7h2v7zm4 0h-2V7h2v10zm4 0h-2v-4h2v4z\"/>\n",
              "    </g>\n",
              "</svg>\n",
              "      </button>\n",
              "\n",
              "<style>\n",
              "  .colab-df-quickchart {\n",
              "      --bg-color: #E8F0FE;\n",
              "      --fill-color: #1967D2;\n",
              "      --hover-bg-color: #E2EBFA;\n",
              "      --hover-fill-color: #174EA6;\n",
              "      --disabled-fill-color: #AAA;\n",
              "      --disabled-bg-color: #DDD;\n",
              "  }\n",
              "\n",
              "  [theme=dark] .colab-df-quickchart {\n",
              "      --bg-color: #3B4455;\n",
              "      --fill-color: #D2E3FC;\n",
              "      --hover-bg-color: #434B5C;\n",
              "      --hover-fill-color: #FFFFFF;\n",
              "      --disabled-bg-color: #3B4455;\n",
              "      --disabled-fill-color: #666;\n",
              "  }\n",
              "\n",
              "  .colab-df-quickchart {\n",
              "    background-color: var(--bg-color);\n",
              "    border: none;\n",
              "    border-radius: 50%;\n",
              "    cursor: pointer;\n",
              "    display: none;\n",
              "    fill: var(--fill-color);\n",
              "    height: 32px;\n",
              "    padding: 0;\n",
              "    width: 32px;\n",
              "  }\n",
              "\n",
              "  .colab-df-quickchart:hover {\n",
              "    background-color: var(--hover-bg-color);\n",
              "    box-shadow: 0 1px 2px rgba(60, 64, 67, 0.3), 0 1px 3px 1px rgba(60, 64, 67, 0.15);\n",
              "    fill: var(--button-hover-fill-color);\n",
              "  }\n",
              "\n",
              "  .colab-df-quickchart-complete:disabled,\n",
              "  .colab-df-quickchart-complete:disabled:hover {\n",
              "    background-color: var(--disabled-bg-color);\n",
              "    fill: var(--disabled-fill-color);\n",
              "    box-shadow: none;\n",
              "  }\n",
              "\n",
              "  .colab-df-spinner {\n",
              "    border: 2px solid var(--fill-color);\n",
              "    border-color: transparent;\n",
              "    border-bottom-color: var(--fill-color);\n",
              "    animation:\n",
              "      spin 1s steps(1) infinite;\n",
              "  }\n",
              "\n",
              "  @keyframes spin {\n",
              "    0% {\n",
              "      border-color: transparent;\n",
              "      border-bottom-color: var(--fill-color);\n",
              "      border-left-color: var(--fill-color);\n",
              "    }\n",
              "    20% {\n",
              "      border-color: transparent;\n",
              "      border-left-color: var(--fill-color);\n",
              "      border-top-color: var(--fill-color);\n",
              "    }\n",
              "    30% {\n",
              "      border-color: transparent;\n",
              "      border-left-color: var(--fill-color);\n",
              "      border-top-color: var(--fill-color);\n",
              "      border-right-color: var(--fill-color);\n",
              "    }\n",
              "    40% {\n",
              "      border-color: transparent;\n",
              "      border-right-color: var(--fill-color);\n",
              "      border-top-color: var(--fill-color);\n",
              "    }\n",
              "    60% {\n",
              "      border-color: transparent;\n",
              "      border-right-color: var(--fill-color);\n",
              "    }\n",
              "    80% {\n",
              "      border-color: transparent;\n",
              "      border-right-color: var(--fill-color);\n",
              "      border-bottom-color: var(--fill-color);\n",
              "    }\n",
              "    90% {\n",
              "      border-color: transparent;\n",
              "      border-bottom-color: var(--fill-color);\n",
              "    }\n",
              "  }\n",
              "</style>\n",
              "\n",
              "      <script>\n",
              "        async function quickchart(key) {\n",
              "          const quickchartButtonEl =\n",
              "            document.querySelector('#' + key + ' button');\n",
              "          quickchartButtonEl.disabled = true;  // To prevent multiple clicks.\n",
              "          quickchartButtonEl.classList.add('colab-df-spinner');\n",
              "          try {\n",
              "            const charts = await google.colab.kernel.invokeFunction(\n",
              "                'suggestCharts', [key], {});\n",
              "          } catch (error) {\n",
              "            console.error('Error during call to suggestCharts:', error);\n",
              "          }\n",
              "          quickchartButtonEl.classList.remove('colab-df-spinner');\n",
              "          quickchartButtonEl.classList.add('colab-df-quickchart-complete');\n",
              "        }\n",
              "        (() => {\n",
              "          let quickchartButtonEl =\n",
              "            document.querySelector('#df-b84d2055-9289-487a-968a-75fb404a8a26 button');\n",
              "          quickchartButtonEl.style.display =\n",
              "            google.colab.kernel.accessAllowed ? 'block' : 'none';\n",
              "        })();\n",
              "      </script>\n",
              "    </div>\n",
              "\n",
              "    </div>\n",
              "  </div>\n"
            ],
            "application/vnd.google.colaboratory.intrinsic+json": {
              "type": "dataframe",
              "variable_name": "df"
            }
          },
          "metadata": {},
          "execution_count": 38
        }
      ],
      "source": [
        "df.head()"
      ]
    },
    {
      "cell_type": "code",
      "execution_count": 39,
      "metadata": {
        "id": "ZrMHxX2xYuGa",
        "outputId": "a0dfd4e3-2464-4c09-a64b-f60b0d367988",
        "colab": {
          "base_uri": "https://localhost:8080/"
        }
      },
      "outputs": [
        {
          "output_type": "stream",
          "name": "stdout",
          "text": [
            "<class 'pandas.core.frame.DataFrame'>\n",
            "RangeIndex: 1500 entries, 0 to 1499\n",
            "Data columns (total 21 columns):\n",
            " #   Column  Non-Null Count  Dtype  \n",
            "---  ------  --------------  -----  \n",
            " 0   var0    1500 non-null   float64\n",
            " 1   var1    1500 non-null   float64\n",
            " 2   var2    1500 non-null   float64\n",
            " 3   var3    1500 non-null   float64\n",
            " 4   var4    1500 non-null   float64\n",
            " 5   var5    1500 non-null   float64\n",
            " 6   var6    1500 non-null   float64\n",
            " 7   var7    1500 non-null   float64\n",
            " 8   var8    1500 non-null   float64\n",
            " 9   var9    1500 non-null   float64\n",
            " 10  var10   1500 non-null   float64\n",
            " 11  var11   1500 non-null   float64\n",
            " 12  var12   1500 non-null   float64\n",
            " 13  var13   1500 non-null   float64\n",
            " 14  var14   1500 non-null   float64\n",
            " 15  var15   1500 non-null   float64\n",
            " 16  var16   1500 non-null   float64\n",
            " 17  var17   1500 non-null   float64\n",
            " 18  var18   1500 non-null   float64\n",
            " 19  var19   1500 non-null   float64\n",
            " 20  target  1500 non-null   float64\n",
            "dtypes: float64(21)\n",
            "memory usage: 246.2 KB\n"
          ]
        }
      ],
      "source": [
        "df.info()"
      ]
    },
    {
      "cell_type": "code",
      "execution_count": 40,
      "metadata": {
        "id": "LoaHrljkYuGa",
        "outputId": "161861ba-4c58-4a4b-d38e-ebf8fcb2231b",
        "colab": {
          "base_uri": "https://localhost:8080/"
        }
      },
      "outputs": [
        {
          "output_type": "stream",
          "name": "stdout",
          "text": [
            "Training samples: 1,200\n",
            "Test samples: 300\n",
            "\n",
            "Features:\n",
            "var0\tvar1\tvar2\tvar3\tvar4\tvar5\tvar6\tvar7\tvar8\tvar9\tvar10\tvar11\tvar12\tvar13\tvar14\tvar15\tvar16\tvar17\tvar18\tvar19\n"
          ]
        }
      ],
      "source": [
        "from sklearn.model_selection import train_test_split\n",
        "\n",
        "X = df[[x for x in df.columns if x.startswith('var')]]\n",
        "y = df['target']\n",
        "\n",
        "X_train, X_test, y_training, y_test = train_test_split(X, y, test_size=0.2, random_state=123)\n",
        "\n",
        "print(f'Training samples: {X_train.shape[0]:,}')\n",
        "print(f'Test samples: {X_test.shape[0]:,}')\n",
        "\n",
        "print('\\nFeatures:')\n",
        "print(*X_train, sep='\\t')"
      ]
    },
    {
      "cell_type": "markdown",
      "metadata": {
        "id": "urnDcC-BYuGa"
      },
      "source": [
        "### Data Description\n",
        "- `var1 - var19`: a feature for the data.  \n",
        "- `target`: variable we wish to be able to predict, which is 1 of 3 classes."
      ]
    },
    {
      "cell_type": "markdown",
      "metadata": {
        "id": "a9w0OsBxYuGa"
      },
      "source": [
        "# Question 1\n",
        "- Use principle components analysis to determine the number of components to reduce the data to by evaluating the explained variance ratio (use `X_train`).  \n",
        "- Remember to scale the data first.  \n",
        "- What number of components would you recommend based on your analysis?  \n",
        "- Explain your results using markdown cells."
      ]
    },
    {
      "cell_type": "code",
      "source": [
        "from sklearn.preprocessing import StandardScaler\n",
        "from sklearn.decomposition import PCA"
      ],
      "metadata": {
        "id": "Vm87KAqmZQOy"
      },
      "execution_count": 41,
      "outputs": []
    },
    {
      "cell_type": "code",
      "execution_count": 42,
      "metadata": {
        "id": "0t92srzUYuGa",
        "colab": {
          "base_uri": "https://localhost:8080/",
          "height": 549
        },
        "outputId": "80b86505-ddb9-40d8-d217-1d3669058759"
      },
      "outputs": [
        {
          "output_type": "display_data",
          "data": {
            "text/plain": [
              "<Figure size 1000x700 with 1 Axes>"
            ],
            "image/png": "[encoded data removed]"
          },
          "metadata": {}
        },
        {
          "output_type": "stream",
          "name": "stdout",
          "text": [
            "\n",
            "Components reachning 95% varience: 13\n"
          ]
        }
      ],
      "source": [
        "#data scaling\n",
        "scale = StandardScaler()\n",
        "Xtrain_scale = scale.fit_transform(X_train)\n",
        "\n",
        "#PCA: without no of components\n",
        "Pca = PCA()\n",
        "Pca.fit(Xtrain_scale)\n",
        "\n",
        "#Variance\n",
        "eva_varience = Pca.explained_variance_ratio_\n",
        "cum_varience = np.cumsum(eva_varience)\n",
        "\n",
        "#Plot\n",
        "plt.figure(figsize=(10, 7))\n",
        "plt.plot(range(1, len(cum_varience) + 1), cum_varience, marker='o')\n",
        "plt.axhline(y=0.95, color='green', linestyle='--', label='95% threshold')\n",
        "plt.xlabel('Total Components')\n",
        "plt.ylabel('Varience: Explained and Cumalitive')\n",
        "plt.title('PCA')\n",
        "plt.grid(True)\n",
        "plt.legend()\n",
        "plt.show()\n",
        "\n",
        "#components reachning 95%\n",
        "var_comp = np.argmax(cum_varience >= 0.95) + 1\n",
        "print()\n",
        "print('Components reachning 95% varience:', var_comp)\n"
      ]
    },
    {
      "cell_type": "markdown",
      "metadata": {
        "id": "BdGJkiw-YuGa"
      },
      "source": [
        "> Describe your results here"
      ]
    },
    {
      "cell_type": "markdown",
      "metadata": {
        "id": "MePRmn6UYuGb"
      },
      "source": [
        "From the plot we can determine that: First we used PCA to reduce the features after data was scaled. This makes process faster and as per the results 13 components are reaching 95% variance. which is the required to retain the results."
      ]
    },
    {
      "cell_type": "markdown",
      "metadata": {
        "id": "yxP-CRaLYuGb"
      },
      "source": [
        "# Question 2\n",
        "- Evaluate the target variable in the `df` object.  \n",
        "- Which metric would you use in evaluating a predictive model. Explain your choice in the markdown cell."
      ]
    },
    {
      "cell_type": "code",
      "execution_count": 43,
      "metadata": {
        "id": "8-2BUeLSYuGb",
        "colab": {
          "base_uri": "https://localhost:8080/",
          "height": 706
        },
        "outputId": "d8e0b2e5-435c-423d-ec99-68304a6c7fe8"
      },
      "outputs": [
        {
          "output_type": "display_data",
          "data": {
            "text/plain": [
              "<Figure size 640x480 with 1 Axes>"
            ],
            "image/png": "[encoded data removed]"
          },
          "metadata": {}
        },
        {
          "output_type": "stream",
          "name": "stdout",
          "text": [
            "Count:\n",
            "target\n",
            "0.0    744\n",
            "2.0    380\n",
            "1.0    376\n",
            "Name: count, dtype: int64\n",
            "\n",
            "Proportion:\n",
            "target\n",
            "0.0    0.496000\n",
            "2.0    0.253333\n",
            "1.0    0.250667\n",
            "Name: proportion, dtype: float64\n"
          ]
        }
      ],
      "source": [
        "#targert variable\n",
        "df['target'].value_counts(normalize=True).plot(kind='bar', color='lightgreen')\n",
        "plt.title('Target Variable Distribution')\n",
        "plt.xlabel('Target')\n",
        "plt.ylabel('Proportion')\n",
        "plt.grid(axis='y')\n",
        "plt.show()\n",
        "\n",
        "print(\"Count:\")\n",
        "print(df['target'].value_counts())\n",
        "print()\n",
        "print(\"Proportion:\")\n",
        "print(df['target'].value_counts(normalize=True))\n"
      ]
    },
    {
      "cell_type": "markdown",
      "metadata": {
        "id": "iumzQgbkYuGb"
      },
      "source": [
        "> Describe your results here"
      ]
    },
    {
      "cell_type": "markdown",
      "source": [
        "From Class 1, 2 and 3 we can say that class 1 is double of other two. the data is imbalanced. Accuracy can be misleading. Using F1 score will help to treat class with equality."
      ],
      "metadata": {
        "id": "Ov9zOnk4jvu1"
      }
    },
    {
      "cell_type": "markdown",
      "metadata": {
        "id": "TV1YB034YuGb"
      },
      "source": [
        "# Question 3\n",
        "- Without using PCA, create a logistic regression model using practices discussed in class.  \n",
        "- Which model would you choose? Explain your results in the markdown cells.    \n",
        "- What is the accuracy, precision, and recall for the test data?  "
      ]
    },
    {
      "cell_type": "code",
      "execution_count": 44,
      "metadata": {
        "id": "UZxoeKpGYuGb"
      },
      "outputs": [],
      "source": [
        "from sklearn.preprocessing import StandardScaler\n",
        "from sklearn.linear_model import LogisticRegression\n",
        "from sklearn.metrics import accuracy_score, precision_score, recall_score, classification_report"
      ]
    },
    {
      "cell_type": "code",
      "source": [
        "#Scaling the features for LR\n",
        "scale = StandardScaler()\n",
        "Xtrain_scale = scale.fit_transform(X_train)\n",
        "Xtest_scale = scale.transform(X_test)\n",
        "\n",
        "#Train multinomial LR - 3 classes\n",
        "lr= LogisticRegression(multi_class='multinomial', solver='lbfgs', max_iter=1000, random_state=42)\n",
        "lr.fit(Xtrain_scale, y_training)\n",
        "\n",
        "#Predict\n",
        "pred_y = lr.predict(Xtest_scale)\n",
        "\n",
        "#Evaluate\n",
        "Accuracy = accuracy_score(y_test, pred_y)\n",
        "Precision = precision_score(y_test, pred_y, average='macro')\n",
        "Recall = recall_score(y_test, pred_y, average='macro')\n",
        "\n",
        "print('Accuracy:', Accuracy)\n",
        "print('Precision:', Precision)\n",
        "print('Recall:', Recall)\n",
        "print()\n",
        "#Classification\n",
        "print(\"Classification Report:\")\n",
        "print(classification_report(y_test, pred_y))"
      ],
      "metadata": {
        "colab": {
          "base_uri": "https://localhost:8080/"
        },
        "id": "za2MJzlrlmVc",
        "outputId": "1ea250f0-ba87-42ee-ecb6-ae3b438a599c"
      },
      "execution_count": 45,
      "outputs": [
        {
          "output_type": "stream",
          "name": "stdout",
          "text": [
            "Accuracy: 0.7033333333333334\n",
            "Precision: 0.6855872622001655\n",
            "Recall: 0.681410661265617\n",
            "\n",
            "Classification Report:\n",
            "              precision    recall  f1-score   support\n",
            "\n",
            "         0.0       0.75      0.76      0.76       153\n",
            "         1.0       0.68      0.59      0.63        74\n",
            "         2.0       0.62      0.68      0.65        73\n",
            "\n",
            "    accuracy                           0.70       300\n",
            "   macro avg       0.69      0.68      0.68       300\n",
            "weighted avg       0.70      0.70      0.70       300\n",
            "\n"
          ]
        },
        {
          "output_type": "stream",
          "name": "stderr",
          "text": [
            "/usr/local/lib/python3.11/dist-packages/sklearn/linear_model/_logistic.py:1247: FutureWarning: 'multi_class' was deprecated in version 1.5 and will be removed in 1.7. From then on, it will always use 'multinomial'. Leave it to its default value to avoid this warning.\n",
            "  warnings.warn(\n"
          ]
        }
      ]
    },
    {
      "cell_type": "markdown",
      "metadata": {
        "id": "bEzcXnjEYuGb"
      },
      "source": [
        "> Describe results here"
      ]
    },
    {
      "cell_type": "markdown",
      "source": [
        "we can see the results as following\n",
        "\n",
        "Accuracy: 70.3%\n",
        "\n",
        "Precision: 68.5%\n",
        "\n",
        "Recall: 68.1%\n",
        "\n",
        "Class 1 has highest precision and recall. class 2 has low recall also low on precision and class 3 is close knit with both precision and recall. In conclusion, Logistic regression model gave 70% acurracy"
      ],
      "metadata": {
        "id": "LXybavYnmttb"
      }
    },
    {
      "cell_type": "markdown",
      "metadata": {
        "id": "8GmUKv-nYuGb"
      },
      "source": [
        "# Question 4\n",
        "- Use PCA within a pipeline to create a logistic regression model using best practices from class.  \n",
        "- Which model performs the best on the training data? Explain your results in markdown cells.  \n",
        "- What is the accuracy, precision, and recall for the test data?\n",
        "- Does this perform better than the original logistic regression model?"
      ]
    },
    {
      "cell_type": "code",
      "execution_count": 46,
      "metadata": {
        "id": "XWp4hGMWYuGb"
      },
      "outputs": [],
      "source": [
        "from sklearn.decomposition import PCA\n",
        "from sklearn.pipeline import Pipeline\n",
        "from sklearn.preprocessing import StandardScaler\n",
        "from sklearn.linear_model import LogisticRegression\n",
        "from sklearn.metrics import accuracy_score, precision_score, recall_score, classification_report\n"
      ]
    },
    {
      "cell_type": "code",
      "source": [
        "#Pipeline with PCA(13), LR, Scaling.\n",
        "pipe_line = Pipeline([\n",
        "    ('scaler', StandardScaler()),\n",
        "    ('pca', PCA(n_components=12)),\n",
        "    ('classifier', LogisticRegression(solver='lbfgs', max_iter=1000, random_state=42))\n",
        "])\n",
        "\n",
        "#Train pipeline\n",
        "pipe_line.fit(X_train, y_training)\n",
        "\n",
        "#Predictions: test set\n",
        "pred_y = pipe_line.predict(X_test)\n",
        "\n",
        "#Evaluate\n",
        "Accuracy = accuracy_score(y_test, pred_y)\n",
        "Precision = precision_score(y_test, pred_y, average='macro')\n",
        "Recall = recall_score(y_test, pred_y, average='macro')\n",
        "\n",
        "print('Accuracy:', Accuracy)\n",
        "print('Precision:', Precision)\n",
        "print('Recall:', Recall)\n",
        "print()\n",
        "\n",
        "print(\"Classification Report:\")\n",
        "print(classification_report(y_test,pred_y))"
      ],
      "metadata": {
        "colab": {
          "base_uri": "https://localhost:8080/"
        },
        "id": "ChWPXQ4YoWPS",
        "outputId": "f57dc102-4f11-4ffd-9b88-3a32825a7f22"
      },
      "execution_count": 47,
      "outputs": [
        {
          "output_type": "stream",
          "name": "stdout",
          "text": [
            "Accuracy: 0.7\n",
            "Precision: 0.6815789473684211\n",
            "Recall: 0.6721927406858913\n",
            "\n",
            "Classification Report:\n",
            "              precision    recall  f1-score   support\n",
            "\n",
            "         0.0       0.74      0.78      0.76       153\n",
            "         1.0       0.66      0.57      0.61        74\n",
            "         2.0       0.64      0.67      0.66        73\n",
            "\n",
            "    accuracy                           0.70       300\n",
            "   macro avg       0.68      0.67      0.68       300\n",
            "weighted avg       0.70      0.70      0.70       300\n",
            "\n"
          ]
        }
      ]
    },
    {
      "cell_type": "markdown",
      "metadata": {
        "id": "iUPbB9QrYuGb"
      },
      "source": [
        "> Describe your results here"
      ]
    },
    {
      "cell_type": "markdown",
      "source": [
        "after we did LR using pipeline which includes: 13 PCA components and scaling. we can see the results as following\n",
        "\n",
        "Accuracy: 70%\n",
        "\n",
        "Precision: 68.1%\n",
        "\n",
        "Recall: 67.2%\n",
        "\n",
        "here too Class 1 has highest precision and recall. class 2 and class 3 show average performance. In conclusion,acurracy remains 70% class 1 still gives better results than class 2 and 3."
      ],
      "metadata": {
        "id": "Xx6bp45TtsIA"
      }
    },
    {
      "cell_type": "markdown",
      "metadata": {
        "id": "TAVqxCx8YuGb"
      },
      "source": [
        "# Question 5"
      ]
    },
    {
      "cell_type": "markdown",
      "metadata": {
        "id": "VJKqbhUiYuGb"
      },
      "source": [
        "- Without using PCA, create a decision tree model using best practices discussed in class.  \n",
        "- Which model performs the best on the training data? Explain your results in the markdown cells.  \n",
        "- What is the accuracy, precision, and recall for the test data?  \n",
        "- Does this perform better than either of the logistic regression models?"
      ]
    },
    {
      "cell_type": "code",
      "execution_count": 48,
      "metadata": {
        "id": "c_lpwx_KYuGb"
      },
      "outputs": [],
      "source": [
        "from sklearn.tree import DecisionTreeClassifier\n",
        "from sklearn.metrics import accuracy_score, precision_score, recall_score, classification_report"
      ]
    },
    {
      "cell_type": "code",
      "source": [
        "# Train: Decision Tree\n",
        "DT = DecisionTreeClassifier(random_state=42)\n",
        "DT.fit(X_train, y_training)\n",
        "\n",
        "# Prediction: test set\n",
        "DT_predy_y = DT.predict(X_test)\n",
        "\n",
        "# Evaluate the model\n",
        "DT_Accuracy = accuracy_score(y_test, DT_predy_y)\n",
        "DT_Precision = precision_score(y_test, DT_predy_y, average='macro')\n",
        "DT_Recall = recall_score(y_test, DT_predy_y, average='macro')\n",
        "\n",
        "print('Accuracy:', DT_Accuracy)\n",
        "print('Precision:', DT_Precision)\n",
        "print('Recall:', DT_Recall)\n",
        "print()\n",
        "\n",
        "print(\"Classification Report:\")\n",
        "print(classification_report(y_test,DT_predy_y))"
      ],
      "metadata": {
        "colab": {
          "base_uri": "https://localhost:8080/"
        },
        "id": "DzS0VtVIujX_",
        "outputId": "0ee3c218-5b33-4447-a829-f66027b4973b"
      },
      "execution_count": 49,
      "outputs": [
        {
          "output_type": "stream",
          "name": "stdout",
          "text": [
            "Accuracy: 0.6766666666666666\n",
            "Precision: 0.6633805909678537\n",
            "Recall: 0.6660605004682362\n",
            "\n",
            "Classification Report:\n",
            "              precision    recall  f1-score   support\n",
            "\n",
            "         0.0       0.76      0.71      0.73       153\n",
            "         1.0       0.53      0.66      0.59        74\n",
            "         2.0       0.70      0.63      0.66        73\n",
            "\n",
            "    accuracy                           0.68       300\n",
            "   macro avg       0.66      0.67      0.66       300\n",
            "weighted avg       0.69      0.68      0.68       300\n",
            "\n"
          ]
        }
      ]
    },
    {
      "cell_type": "markdown",
      "metadata": {
        "id": "tQan9PW2YuGb"
      },
      "source": [
        "> Describe your results here"
      ]
    },
    {
      "cell_type": "markdown",
      "source": [
        "from decision tree model we can see the results as following\n",
        "\n",
        "Accuracy: 67.6%\n",
        "\n",
        "Precision: 66.3%\n",
        "\n",
        "Recall: 66.6%\n",
        "\n",
        "Class 1 has highest precision and recall. class 2 has high recall and low precision but compartitively to class 1 both are not giving good results and class 3 has high precision which is close to class 1 and lowest on recall. In conclusion, Decision tree model gave 68% acurracy which is low than earlier linear regression model"
      ],
      "metadata": {
        "id": "Q6ex45KjyYVV"
      }
    },
    {
      "cell_type": "markdown",
      "metadata": {
        "id": "QlLD7aKEYuGc"
      },
      "source": [
        "# Question 6\n",
        "- Repeat `Question 5` but use PCA.  \n",
        "- Does this perform better than the original Decision Tree or the logistic regression models?"
      ]
    },
    {
      "cell_type": "code",
      "execution_count": 50,
      "metadata": {
        "id": "EQDiYNibYuGc"
      },
      "outputs": [],
      "source": [
        "from sklearn.pipeline import Pipeline\n",
        "from sklearn.decomposition import PCA\n",
        "from sklearn.tree import DecisionTreeClassifier\n",
        "from sklearn.preprocessing import StandardScaler\n",
        "from sklearn.metrics import accuracy_score, precision_score, recall_score, classification_report"
      ]
    },
    {
      "cell_type": "code",
      "source": [
        "# Pipeline: PCA, DT, Scaling\n",
        "Pipeline_DT_PCA = Pipeline([\n",
        "    ('scaler', StandardScaler()),\n",
        "    ('pca', PCA(n_components=12)),\n",
        "    ('tree', DecisionTreeClassifier(random_state=42))\n",
        "])\n",
        "\n",
        "# Training\n",
        "Pipeline_DT_PCA.fit(X_train, y_training)\n",
        "\n",
        "# Prediction: test set\n",
        "DT_PCA_pred_y = Pipeline_DT_PCA.predict(X_test)\n",
        "\n",
        "# Evaluate\n",
        "DT_PCA_Accuracy = accuracy_score(y_test, DT_PCA_pred_y)\n",
        "DT_PCA_Precision = precision_score(y_test, DT_PCA_pred_y, average='macro')\n",
        "DT_PCA_recall = recall_score(y_test, DT_PCA_pred_y, average='macro')\n",
        "\n",
        "print('Accuracy:', DT_PCA_Accuracy)\n",
        "print('Precision:', DT_PCA_Precision)\n",
        "print('Recall:', DT_PCA_recall)\n",
        "print()\n",
        "\n",
        "print(\"Classification Report:\")\n",
        "print(classification_report(y_test, DT_PCA_pred_y))"
      ],
      "metadata": {
        "colab": {
          "base_uri": "https://localhost:8080/"
        },
        "id": "0KJdhzyj0xC2",
        "outputId": "1a1b5010-76e1-4750-aa3f-324c096af7cf"
      },
      "execution_count": 51,
      "outputs": [
        {
          "output_type": "stream",
          "name": "stdout",
          "text": [
            "Accuracy: 0.67\n",
            "Precision: 0.6433916711153435\n",
            "Recall: 0.6480565980968881\n",
            "\n",
            "Classification Report:\n",
            "              precision    recall  f1-score   support\n",
            "\n",
            "         0.0       0.74      0.73      0.74       153\n",
            "         1.0       0.56      0.51      0.54        74\n",
            "         2.0       0.63      0.70      0.66        73\n",
            "\n",
            "    accuracy                           0.67       300\n",
            "   macro avg       0.64      0.65      0.64       300\n",
            "weighted avg       0.67      0.67      0.67       300\n",
            "\n"
          ]
        }
      ]
    },
    {
      "cell_type": "markdown",
      "metadata": {
        "id": "u1Ed1wFTYuGc"
      },
      "source": [
        "> Describe results here"
      ]
    },
    {
      "cell_type": "markdown",
      "source": [
        "after we did DT using pipeline which includes: PCA and scaling. we can see the results as following\n",
        "\n",
        "Accuracy: 67%\n",
        "\n",
        "Precision: 64.3%\n",
        "\n",
        "Recall: 64.8%\n",
        "\n",
        "here too Class 1 has highest precision and recall. class 2 has both precision and recall on lower side and class 3 has high recall when compared to class 1 and low precision. In conclusion,acurracy is 67% class 1 still gives better results than class 2 and 3. LR without PCA gives best results."
      ],
      "metadata": {
        "id": "jixY_kYo14kC"
      }
    }
  ],
  "metadata": {
    "kernelspec": {
      "display_name": "Python 3 (ipykernel)",
      "language": "python",
      "name": "python3"
    },
    "language_info": {
      "codemirror_mode": {
        "name": "ipython",
        "version": 3
      },
      "file_extension": ".py",
      "mimetype": "text/x-python",
      "name": "python",
      "nbconvert_exporter": "python",
      "pygments_lexer": "ipython3",
      "version": "3.12.4"
    },
    "toc": {
      "base_numbering": 1,
      "nav_menu": {},
      "number_sections": true,
      "sideBar": true,
      "skip_h1_title": false,
      "title_cell": "Table of Contents",
      "title_sidebar": "Contents",
      "toc_cell": false,
      "toc_position": {},
      "toc_section_display": true,
      "toc_window_display": false
    },
    "colab": {
      "provenance": []
    }
  },
  "nbformat": 4,
  "nbformat_minor": 0
}