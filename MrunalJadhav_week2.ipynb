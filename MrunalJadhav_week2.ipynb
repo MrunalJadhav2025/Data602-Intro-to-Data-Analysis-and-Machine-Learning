{
 "cells": [
  {
   "cell_type": "code",
   "execution_count": 163,
   "id": "7048a2ef-168d-4d4f-90b8-d5168aefad02",
   "metadata": {},
   "outputs": [
    {
     "name": "stdout",
     "output_type": "stream",
     "text": [
      "Requirement already satisfied: browserhistory in c:\\users\\mruna\\anaconda3\\lib\\site-packages (0.1.2)\n"
     ]
    }
   ],
   "source": [
    "!pip install browserhistory"
   ]
  },
  {
   "cell_type": "code",
   "execution_count": 164,
   "id": "7e37b0fa-7b5e-41b9-b480-839969e39065",
   "metadata": {},
   "outputs": [],
   "source": [
    "import browserhistory as bh"
   ]
  },
  {
   "cell_type": "code",
   "execution_count": 165,
   "id": "8ce342de-2cd5-4d1e-86bb-9a3ae6a6d156",
   "metadata": {},
   "outputs": [
    {
     "name": "stdout",
     "output_type": "stream",
     "text": [
      "* Notification * \n",
      "Please Completely Close CHROME Window\n",
      "* Notification * \n",
      "Please Completely Close CHROME Window\n"
     ]
    }
   ],
   "source": [
    "dict_obj = bh.get_browserhistory()\n",
    "bh.write_browserhistory_csv()"
   ]
  },
  {
   "cell_type": "code",
   "execution_count": 166,
   "id": "937cd40c-8a36-4e28-9177-acdb2456796b",
   "metadata": {},
   "outputs": [],
   "source": [
    "import pandas as pd"
   ]
  },
  {
   "cell_type": "code",
   "execution_count": 167,
   "id": "5786c960-82ba-42f2-a880-13a121afa0e0",
   "metadata": {},
   "outputs": [],
   "source": [
    "df = pd.read_csv('browser_history.csv', header=None, names=['Site','Title', 'Time'])"
   ]
  },
  {
   "cell_type": "code",
   "execution_count": 168,
   "id": "92936018-10f5-467b-97cd-99df494fc341",
   "metadata": {},
   "outputs": [
    {
     "data": {
      "text/html": [
       "<div>\n",
       "<style scoped>\n",
       "    .dataframe tbody tr th:only-of-type {\n",
       "        vertical-align: middle;\n",
       "    }\n",
       "\n",
       "    .dataframe tbody tr th {\n",
       "        vertical-align: top;\n",
       "    }\n",
       "\n",
       "    .dataframe thead th {\n",
       "        text-align: right;\n",
       "    }\n",
       "</style>\n",
       "<table border=\"1\" class=\"dataframe\">\n",
       "  <thead>\n",
       "    <tr style=\"text-align: right;\">\n",
       "      <th></th>\n",
       "      <th></th>\n",
       "      <th></th>\n",
       "      <th></th>\n",
       "      <th></th>\n",
       "      <th></th>\n",
       "      <th>Site</th>\n",
       "      <th>Title</th>\n",
       "      <th>Time</th>\n",
       "    </tr>\n",
       "  </thead>\n",
       "  <tbody>\n",
       "    <tr>\n",
       "      <th>order</th>\n",
       "      <th>id</th>\n",
       "      <th>date</th>\n",
       "      <th>time</th>\n",
       "      <th>title</th>\n",
       "      <th>url</th>\n",
       "      <td>visitCount</td>\n",
       "      <td>typedCount</td>\n",
       "      <td>transition</td>\n",
       "    </tr>\n",
       "    <tr>\n",
       "      <th>2</th>\n",
       "      <th>6778</th>\n",
       "      <th>02-11-2025</th>\n",
       "      <th>18:36:30</th>\n",
       "      <th>temp</th>\n",
       "      <th>http://localhost:8891/notebooks/temp.ipynb</th>\n",
       "      <td>1</td>\n",
       "      <td>0</td>\n",
       "      <td>link</td>\n",
       "    </tr>\n",
       "    <tr>\n",
       "      <th>3</th>\n",
       "      <th>6777</th>\n",
       "      <th>02-11-2025</th>\n",
       "      <th>18:36:03</th>\n",
       "      <th>temp</th>\n",
       "      <th>http://localhost:8891/notebooks/Untitled1.ipynb?</th>\n",
       "      <td>1</td>\n",
       "      <td>0</td>\n",
       "      <td>link</td>\n",
       "    </tr>\n",
       "    <tr>\n",
       "      <th>4</th>\n",
       "      <th>6776</th>\n",
       "      <th>02-11-2025</th>\n",
       "      <th>18:36:01</th>\n",
       "      <th>Untitled1</th>\n",
       "      <th>http://localhost:8891/notebooks/Untitled1.ipynb</th>\n",
       "      <td>1</td>\n",
       "      <td>0</td>\n",
       "      <td>link</td>\n",
       "    </tr>\n",
       "    <tr>\n",
       "      <th>5</th>\n",
       "      <th>6775</th>\n",
       "      <th>02-11-2025</th>\n",
       "      <th>18:25:26</th>\n",
       "      <th>Untitled</th>\n",
       "      <th>http://localhost:8891/notebooks/Untitled.ipynb?</th>\n",
       "      <td>1</td>\n",
       "      <td>0</td>\n",
       "      <td>link</td>\n",
       "    </tr>\n",
       "  </tbody>\n",
       "</table>\n",
       "</div>"
      ],
      "text/plain": [
       "                                                                                                 Site  \\\n",
       "order id   date       time     title     url                                               visitCount   \n",
       "2     6778 02-11-2025 18:36:30 temp      http://localhost:8891/notebooks/temp.ipynb                 1   \n",
       "3     6777 02-11-2025 18:36:03 temp      http://localhost:8891/notebooks/Untitled1.ipynb?           1   \n",
       "4     6776 02-11-2025 18:36:01 Untitled1 http://localhost:8891/notebooks/Untitled1.ipynb            1   \n",
       "5     6775 02-11-2025 18:25:26 Untitled  http://localhost:8891/notebooks/Untitled.ipynb?            1   \n",
       "\n",
       "                                                                                                Title  \\\n",
       "order id   date       time     title     url                                               typedCount   \n",
       "2     6778 02-11-2025 18:36:30 temp      http://localhost:8891/notebooks/temp.ipynb                 0   \n",
       "3     6777 02-11-2025 18:36:03 temp      http://localhost:8891/notebooks/Untitled1.ipynb?           0   \n",
       "4     6776 02-11-2025 18:36:01 Untitled1 http://localhost:8891/notebooks/Untitled1.ipynb            0   \n",
       "5     6775 02-11-2025 18:25:26 Untitled  http://localhost:8891/notebooks/Untitled.ipynb?            0   \n",
       "\n",
       "                                                                                                 Time  \n",
       "order id   date       time     title     url                                               transition  \n",
       "2     6778 02-11-2025 18:36:30 temp      http://localhost:8891/notebooks/temp.ipynb              link  \n",
       "3     6777 02-11-2025 18:36:03 temp      http://localhost:8891/notebooks/Untitled1.ipynb?        link  \n",
       "4     6776 02-11-2025 18:36:01 Untitled1 http://localhost:8891/notebooks/Untitled1.ipynb         link  \n",
       "5     6775 02-11-2025 18:25:26 Untitled  http://localhost:8891/notebooks/Untitled.ipynb?         link  "
      ]
     },
     "execution_count": 168,
     "metadata": {},
     "output_type": "execute_result"
    }
   ],
   "source": [
    "df.head()"
   ]
  },
  {
   "cell_type": "code",
   "execution_count": 169,
   "id": "f260b7db-0ed9-445e-a84e-943ecaa16f8c",
   "metadata": {},
   "outputs": [
    {
     "data": {
      "text/html": [
       "<div>\n",
       "<style scoped>\n",
       "    .dataframe tbody tr th:only-of-type {\n",
       "        vertical-align: middle;\n",
       "    }\n",
       "\n",
       "    .dataframe tbody tr th {\n",
       "        vertical-align: top;\n",
       "    }\n",
       "\n",
       "    .dataframe thead th {\n",
       "        text-align: right;\n",
       "    }\n",
       "</style>\n",
       "<table border=\"1\" class=\"dataframe\">\n",
       "  <thead>\n",
       "    <tr style=\"text-align: right;\">\n",
       "      <th></th>\n",
       "      <th></th>\n",
       "      <th></th>\n",
       "      <th></th>\n",
       "      <th></th>\n",
       "      <th></th>\n",
       "      <th>Site</th>\n",
       "      <th>Title</th>\n",
       "      <th>Time</th>\n",
       "    </tr>\n",
       "  </thead>\n",
       "  <tbody>\n",
       "    <tr>\n",
       "      <th>4279</th>\n",
       "      <th>4707</th>\n",
       "      <th>11/14/2024</th>\n",
       "      <th>09:32:35</th>\n",
       "      <th>UMBC Tutoring - iReady Lessons 2024 - 2025 - Google Sheets</th>\n",
       "      <th>https://docs.google.com/spreadsheets/d/1aIl-iz4apRHAOc1yP-bWfjB7T3xJCYSQ-hgXdD28q8U/edit?usp=drive_web&amp;ouid=111478465279062921324</th>\n",
       "      <td>22</td>\n",
       "      <td>0</td>\n",
       "      <td>link</td>\n",
       "    </tr>\n",
       "    <tr>\n",
       "      <th>4280</th>\n",
       "      <th>4707</th>\n",
       "      <th>11/14/2024</th>\n",
       "      <th>09:32:34</th>\n",
       "      <th>UMBC Tutoring - iReady Lessons 2024 - 2025 - Google Sheets</th>\n",
       "      <th>https://docs.google.com/spreadsheets/d/1aIl-iz4apRHAOc1yP-bWfjB7T3xJCYSQ-hgXdD28q8U/edit?usp=drive_web&amp;ouid=111478465279062921324</th>\n",
       "      <td>22</td>\n",
       "      <td>0</td>\n",
       "      <td>link</td>\n",
       "    </tr>\n",
       "    <tr>\n",
       "      <th>4281</th>\n",
       "      <th>4700</th>\n",
       "      <th>11/14/2024</th>\n",
       "      <th>09:32:32</th>\n",
       "      <th>Grade 1 - 5 Lessons - Google Drive</th>\n",
       "      <th>https://drive.google.com/drive/folders/1WgOtEmWLwGRjTdeCIbM3aC6irPPPkSFs</th>\n",
       "      <td>11</td>\n",
       "      <td>0</td>\n",
       "      <td>link</td>\n",
       "    </tr>\n",
       "    <tr>\n",
       "      <th>4282</th>\n",
       "      <th>4453</th>\n",
       "      <th>11/14/2024</th>\n",
       "      <th>09:32:25</th>\n",
       "      <th>Math Coach Materials - Google Drive</th>\n",
       "      <th>https://drive.google.com/drive/folders/1Eg75o3F_SVp_xtYmXzmPh0PcgekqrF3G</th>\n",
       "      <td>57</td>\n",
       "      <td>0</td>\n",
       "      <td>link</td>\n",
       "    </tr>\n",
       "    <tr>\n",
       "      <th>4283</th>\n",
       "      <th>4453</th>\n",
       "      <th>11/14/2024</th>\n",
       "      <th>09:32:23</th>\n",
       "      <th>Math Coach Materials - Google Drive</th>\n",
       "      <th>https://drive.google.com/drive/folders/1Eg75o3F_SVp_xtYmXzmPh0PcgekqrF3G</th>\n",
       "      <td>57</td>\n",
       "      <td>0</td>\n",
       "      <td>auto_bookmark</td>\n",
       "    </tr>\n",
       "  </tbody>\n",
       "</table>\n",
       "</div>"
      ],
      "text/plain": [
       "                                                                                                                                    Site  \\\n",
       "4279 4707 11/14/2024 09:32:35 UMBC Tutoring - iReady Lessons 2024 - 2025 - Go... https://docs.google.com/spreadsheets/d/1aIl-iz4...   22   \n",
       "4280 4707 11/14/2024 09:32:34 UMBC Tutoring - iReady Lessons 2024 - 2025 - Go... https://docs.google.com/spreadsheets/d/1aIl-iz4...   22   \n",
       "4281 4700 11/14/2024 09:32:32 Grade 1 - 5 Lessons - Google Drive                 https://drive.google.com/drive/folders/1WgOtEmW...   11   \n",
       "4282 4453 11/14/2024 09:32:25 Math Coach Materials - Google Drive                https://drive.google.com/drive/folders/1Eg75o3F...   57   \n",
       "4283 4453 11/14/2024 09:32:23 Math Coach Materials - Google Drive                https://drive.google.com/drive/folders/1Eg75o3F...   57   \n",
       "\n",
       "                                                                                                                                    Title  \\\n",
       "4279 4707 11/14/2024 09:32:35 UMBC Tutoring - iReady Lessons 2024 - 2025 - Go... https://docs.google.com/spreadsheets/d/1aIl-iz4...     0   \n",
       "4280 4707 11/14/2024 09:32:34 UMBC Tutoring - iReady Lessons 2024 - 2025 - Go... https://docs.google.com/spreadsheets/d/1aIl-iz4...     0   \n",
       "4281 4700 11/14/2024 09:32:32 Grade 1 - 5 Lessons - Google Drive                 https://drive.google.com/drive/folders/1WgOtEmW...     0   \n",
       "4282 4453 11/14/2024 09:32:25 Math Coach Materials - Google Drive                https://drive.google.com/drive/folders/1Eg75o3F...     0   \n",
       "4283 4453 11/14/2024 09:32:23 Math Coach Materials - Google Drive                https://drive.google.com/drive/folders/1Eg75o3F...     0   \n",
       "\n",
       "                                                                                                                                              Time  \n",
       "4279 4707 11/14/2024 09:32:35 UMBC Tutoring - iReady Lessons 2024 - 2025 - Go... https://docs.google.com/spreadsheets/d/1aIl-iz4...           link  \n",
       "4280 4707 11/14/2024 09:32:34 UMBC Tutoring - iReady Lessons 2024 - 2025 - Go... https://docs.google.com/spreadsheets/d/1aIl-iz4...           link  \n",
       "4281 4700 11/14/2024 09:32:32 Grade 1 - 5 Lessons - Google Drive                 https://drive.google.com/drive/folders/1WgOtEmW...           link  \n",
       "4282 4453 11/14/2024 09:32:25 Math Coach Materials - Google Drive                https://drive.google.com/drive/folders/1Eg75o3F...           link  \n",
       "4283 4453 11/14/2024 09:32:23 Math Coach Materials - Google Drive                https://drive.google.com/drive/folders/1Eg75o3F...  auto_bookmark  "
      ]
     },
     "execution_count": 169,
     "metadata": {},
     "output_type": "execute_result"
    }
   ],
   "source": [
    "df.tail()"
   ]
  },
  {
   "cell_type": "code",
   "execution_count": 170,
   "id": "0518728f-4350-45d9-a881-2f24cfef0518",
   "metadata": {},
   "outputs": [
    {
     "data": {
      "text/plain": [
       "Site     0\n",
       "Title    0\n",
       "Time     0\n",
       "dtype: int64"
      ]
     },
     "execution_count": 170,
     "metadata": {},
     "output_type": "execute_result"
    }
   ],
   "source": [
    "df.isna().sum()"
   ]
  },
  {
   "cell_type": "code",
   "execution_count": 171,
   "id": "63d2010e-987b-4186-8c29-3243e0ed3378",
   "metadata": {},
   "outputs": [
    {
     "name": "stdout",
     "output_type": "stream",
     "text": [
      "www.example.test\n",
      "www.test.com.eu\n"
     ]
    }
   ],
   "source": [
    "from urllib.parse import urlparse\n",
    "\n",
    "print(urlparse('http://www.example.test/foo/bar').netloc) # --> www.example.test\n",
    "print(urlparse('http://www.test.com.eu/ters').netloc) # --> www.example.test"
   ]
  },
  {
   "cell_type": "code",
   "execution_count": 172,
   "id": "ee4fa0b0-9607-494e-98b4-f3e0f262fdbd",
   "metadata": {},
   "outputs": [],
   "source": [
    "def get_domain(url):\n",
    "    domain = urlparse(url).netloc\n",
    "    \n",
    "    if domain == '':\n",
    "        return None\n",
    "\n",
    "    return domain"
   ]
  },
  {
   "cell_type": "code",
   "execution_count": 173,
   "id": "7e694c7a-9f1e-4342-8da5-2322f42606e6",
   "metadata": {},
   "outputs": [],
   "source": [
    "df['domain'] = [ get_domain(s)  for s in df['Site'] ]"
   ]
  },
  {
   "cell_type": "code",
   "execution_count": 174,
   "id": "9db217c4-9848-4f78-9fa0-1c9f4a03062b",
   "metadata": {},
   "outputs": [],
   "source": [
    "df.drop('Site', axis=1, inplace=True) # drop Site column & update the current df object\n",
    "df.drop('Title', axis=1, inplace=True) # drop Site column & update the current df object"
   ]
  },
  {
   "cell_type": "code",
   "execution_count": 175,
   "id": "b17ed24f-fd5a-4bdc-827f-9c84381dd3ef",
   "metadata": {},
   "outputs": [
    {
     "data": {
      "text/plain": [
       "Time         0\n",
       "domain    4283\n",
       "dtype: int64"
      ]
     },
     "execution_count": 175,
     "metadata": {},
     "output_type": "execute_result"
    }
   ],
   "source": [
    "df.isna().sum()"
   ]
  },
  {
   "cell_type": "code",
   "execution_count": 176,
   "id": "c1b3ed9e-5555-4f5a-a6d9-2c8caa93a676",
   "metadata": {},
   "outputs": [],
   "source": [
    "df.dropna(inplace=True)"
   ]
  },
  {
   "cell_type": "code",
   "execution_count": 177,
   "id": "e3beaaf7-f77d-4b5f-8b93-34651249fa7f",
   "metadata": {},
   "outputs": [],
   "source": [
    "from urllib.parse import urlparse\n",
    "from collections import Counter\n",
    "#reading the file\n",
    "df = pd.read_csv('browser_history.csv')"
   ]
  },
  {
   "cell_type": "code",
   "execution_count": 178,
   "id": "49db9232-ecf3-4ff4-b24b-1578a9b47858",
   "metadata": {},
   "outputs": [],
   "source": [
    "#getting the website url names\n",
    "def websitename(domain_url):\n",
    "    url = urlparse(domain_url).netloc\n",
    "    return url"
   ]
  },
  {
   "cell_type": "code",
   "execution_count": 179,
   "id": "f6ba2197-237e-47cb-ba87-d262e7fff864",
   "metadata": {},
   "outputs": [],
   "source": [
    "#extracting the urls\n",
    "df['url'] = df['url'].apply(websitename)"
   ]
  },
  {
   "cell_type": "code",
   "execution_count": 180,
   "id": "20a39b26-f84d-4423-b5b8-984fc08999d4",
   "metadata": {},
   "outputs": [
    {
     "name": "stdout",
     "output_type": "stream",
     "text": [
      "{'official': 1535, 'entertainment': 0, 'shopping': 0, 'education': 201}\n"
     ]
    }
   ],
   "source": [
    "#sorting the websites according to their types \n",
    "official_web = ['slack.com','linkedin.com','gmail.com','webex.com','outlook.com','zoom.com','office.com','docs.google.com','drive.google.com']\n",
    "entertainment_web = ['instagram.com','pinterest.com','facebook.com','youtube.com','discord.com','netflix.com','reddit.com','amazon.com']\n",
    "education_web = ['coursera.com','udemy.org','github.com','wikipedia.com']\n",
    "shopping_web = ['amazon.com','walmart.com','bestbuy.com']\n",
    "\n",
    "#getting total websites\n",
    "total_websites = {'official': df['url'].isin(official_web).sum(), 'entertainment':df['url'].isin(entertainment_web).sum(),\n",
    "                 'shopping': df['url'].isin(shopping_web).sum(),'education': df['url'].isin(education_web).sum()}\n",
    "print(total_websites)"
   ]
  },
  {
   "cell_type": "code",
   "execution_count": 194,
   "id": "5468c95f-93c0-4e99-8fae-44f9271d5377",
   "metadata": {},
   "outputs": [
    {
     "name": "stdout",
     "output_type": "stream",
     "text": [
      "Question 1: Work computer or Personal computer?\n",
      "Answer: Computer is used for work purpose\n",
      "\n",
      "Question 2: User is employed or not?\n",
      "Answer: Unemployed or Other\n",
      "\n",
      "Question 3: Users interests?\n",
      "Answer:\n",
      "docs.google.com : 1155\n",
      "blackboard.umbc.edu : 562\n",
      "colab.research.google.com : 488\n",
      "mail.google.com : 456\n",
      "drive.google.com : 380\n",
      "\n",
      "Question 4: Interesting fact -> most visited website?\n",
      "Answer: docs.google.com\n",
      "\n",
      "Question 4: What else can we tell about this person? -> most active time ?\n",
      "Answer: 18:31:47 Hours\n"
     ]
    }
   ],
   "source": [
    "#to get if it is a personal or work computer\n",
    "type_of_comp = \"Computer is used for work purpose\" if official_web + education_web >  shopping_web + entertainment_web else \"Computer is used for personal purpose\"\n",
    "\n",
    "#to get if the user is employed or unemployed\n",
    "status = 'Employed' if df['url'].isin(['linkedin.com','gmail.com','webex.com','outlook.com','zoom.com','office.com']).any() else \"Unemployed or Other\"\n",
    "\n",
    "#to get the person's interest depending on the websites visited\n",
    "interest = Counter(df['url']).most_common(5)\n",
    "\n",
    "#to get more interesting facts\n",
    "website_visit = df['url'].mode()[0] \n",
    "most_active = df['time'].mode()[0]\n",
    "\n",
    "#printing the answers to the given questions\n",
    "#a. work computer/personal computer?\n",
    "#b. User employed or not?\n",
    "#c. User's interests?\n",
    "#d. Interesting facts?\n",
    "#e. What else can be determined about the user?\n",
    "\n",
    "print('Question 1: Work computer or Personal computer?\\nAnswer:', type_of_comp )\n",
    "print('\\nQuestion 2: User is employed or not?\\nAnswer:', status )\n",
    "print('\\nQuestion 3: Users interests?\\nAnswer:')\n",
    "for websitename, count in interest:\n",
    "    print (websitename,':',count)\n",
    "print('\\nQuestion 4: Interesting fact -> most visited website?\\nAnswer:', website_visit)\n",
    "print('\\nQuestion 4: What else can we tell about this person? -> most active time ?\\nAnswer:', most_active)"
   ]
  },
  {
   "cell_type": "code",
   "execution_count": null,
   "id": "3b65bc73-2f86-49e0-ad7b-e10e61dc15bd",
   "metadata": {},
   "outputs": [],
   "source": []
  }
 ],
 "metadata": {
  "kernelspec": {
   "display_name": "Python [conda env:base] *",
   "language": "python",
   "name": "conda-base-py"
  },
  "language_info": {
   "codemirror_mode": {
    "name": "ipython",
    "version": 3
   },
   "file_extension": ".py",
   "mimetype": "text/x-python",
   "name": "python",
   "nbconvert_exporter": "python",
   "pygments_lexer": "ipython3",
   "version": "3.12.7"
  }
 },
 "nbformat": 4,
 "nbformat_minor": 5
}
