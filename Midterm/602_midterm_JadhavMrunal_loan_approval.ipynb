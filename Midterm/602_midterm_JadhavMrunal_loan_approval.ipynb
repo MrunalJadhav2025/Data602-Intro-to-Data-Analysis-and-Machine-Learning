{
  "cells": [
    {
      "cell_type": "markdown",
      "source": [
        "## INTRODUCTION\n",
        "\n",
        "Creating the model to predict the loan approvement.\n",
        "\n",
        "DataSet : The dataset contains information about the loan approval which also includes there details like credit score, income, home ownership, purpose. It contains 30k entries in the datset."
      ],
      "metadata": {
        "id": "-y1p4GyRnajO"
      },
      "id": "-y1p4GyRnajO"
    },
    {
      "cell_type": "code",
      "execution_count": 3,
      "id": "c83daa21-5029-467e-9f47-07b764f0c92c",
      "metadata": {
        "id": "c83daa21-5029-467e-9f47-07b764f0c92c"
      },
      "outputs": [],
      "source": [
        "import pandas as pd\n",
        "import seaborn as sns"
      ]
    },
    {
      "cell_type": "code",
      "execution_count": 4,
      "id": "82609974-be1c-4835-aba1-b2efb467febb",
      "metadata": {
        "id": "82609974-be1c-4835-aba1-b2efb467febb"
      },
      "outputs": [],
      "source": [
        "df_a = pd.read_csv('loan_approval.csv')"
      ]
    },
    {
      "cell_type": "code",
      "execution_count": 5,
      "id": "8a65ad75-3e13-4e36-b9f1-c0dc26117661",
      "metadata": {
        "id": "8a65ad75-3e13-4e36-b9f1-c0dc26117661",
        "outputId": "98010470-725a-486b-9aae-f56583388848",
        "colab": {
          "base_uri": "https://localhost:8080/",
          "height": 258
        }
      },
      "outputs": [
        {
          "output_type": "execute_result",
          "data": {
            "text/plain": [
              "   income  credit_score  loan_amount  loan_term  employment_length  \\\n",
              "0   57450           600        25788         48                 11   \n",
              "1   47926           647        30628         12                  5   \n",
              "2   59715           670        28411         12                  1   \n",
              "3   72845           707        12220         12                 15   \n",
              "4   46487           751        23137         12                 12   \n",
              "\n",
              "   existing_debt  num_credit_lines home_ownership             purpose  \\\n",
              "0       16569.26                 9           Rent           Education   \n",
              "1       17333.25                 8       Mortgage            Personal   \n",
              "2       23309.66                 4          Other  Debt Consolidation   \n",
              "3       12695.63                 9           Rent    Home Improvement   \n",
              "4       21292.12                 9       Mortgage            Personal   \n",
              "\n",
              "   birth_year  monthly_rent_or_mortgage  has_default_last_7yrs  loan_approved  \n",
              "0        1979                      1691                      0              0  \n",
              "1        1964                      1278                      0              0  \n",
              "2        1954                      1268                      0              0  \n",
              "3        1995                      1815                      0              1  \n",
              "4        1950                       672                      0              1  "
            ],
            "text/html": [
              "\n",
              "  <div id=\"df-d1a445e9-b188-472f-9cbe-b4242cf7bd8d\" class=\"colab-df-container\">\n",
              "    <div>\n",
              "<style scoped>\n",
              "    .dataframe tbody tr th:only-of-type {\n",
              "        vertical-align: middle;\n",
              "    }\n",
              "\n",
              "    .dataframe tbody tr th {\n",
              "        vertical-align: top;\n",
              "    }\n",
              "\n",
              "    .dataframe thead th {\n",
              "        text-align: right;\n",
              "    }\n",
              "</style>\n",
              "<table border=\"1\" class=\"dataframe\">\n",
              "  <thead>\n",
              "    <tr style=\"text-align: right;\">\n",
              "      <th></th>\n",
              "      <th>income</th>\n",
              "      <th>credit_score</th>\n",
              "      <th>loan_amount</th>\n",
              "      <th>loan_term</th>\n",
              "      <th>employment_length</th>\n",
              "      <th>existing_debt</th>\n",
              "      <th>num_credit_lines</th>\n",
              "      <th>home_ownership</th>\n",
              "      <th>purpose</th>\n",
              "      <th>birth_year</th>\n",
              "      <th>monthly_rent_or_mortgage</th>\n",
              "      <th>has_default_last_7yrs</th>\n",
              "      <th>loan_approved</th>\n",
              "    </tr>\n",
              "  </thead>\n",
              "  <tbody>\n",
              "    <tr>\n",
              "      <th>0</th>\n",
              "      <td>57450</td>\n",
              "      <td>600</td>\n",
              "      <td>25788</td>\n",
              "      <td>48</td>\n",
              "      <td>11</td>\n",
              "      <td>16569.26</td>\n",
              "      <td>9</td>\n",
              "      <td>Rent</td>\n",
              "      <td>Education</td>\n",
              "      <td>1979</td>\n",
              "      <td>1691</td>\n",
              "      <td>0</td>\n",
              "      <td>0</td>\n",
              "    </tr>\n",
              "    <tr>\n",
              "      <th>1</th>\n",
              "      <td>47926</td>\n",
              "      <td>647</td>\n",
              "      <td>30628</td>\n",
              "      <td>12</td>\n",
              "      <td>5</td>\n",
              "      <td>17333.25</td>\n",
              "      <td>8</td>\n",
              "      <td>Mortgage</td>\n",
              "      <td>Personal</td>\n",
              "      <td>1964</td>\n",
              "      <td>1278</td>\n",
              "      <td>0</td>\n",
              "      <td>0</td>\n",
              "    </tr>\n",
              "    <tr>\n",
              "      <th>2</th>\n",
              "      <td>59715</td>\n",
              "      <td>670</td>\n",
              "      <td>28411</td>\n",
              "      <td>12</td>\n",
              "      <td>1</td>\n",
              "      <td>23309.66</td>\n",
              "      <td>4</td>\n",
              "      <td>Other</td>\n",
              "      <td>Debt Consolidation</td>\n",
              "      <td>1954</td>\n",
              "      <td>1268</td>\n",
              "      <td>0</td>\n",
              "      <td>0</td>\n",
              "    </tr>\n",
              "    <tr>\n",
              "      <th>3</th>\n",
              "      <td>72845</td>\n",
              "      <td>707</td>\n",
              "      <td>12220</td>\n",
              "      <td>12</td>\n",
              "      <td>15</td>\n",
              "      <td>12695.63</td>\n",
              "      <td>9</td>\n",
              "      <td>Rent</td>\n",
              "      <td>Home Improvement</td>\n",
              "      <td>1995</td>\n",
              "      <td>1815</td>\n",
              "      <td>0</td>\n",
              "      <td>1</td>\n",
              "    </tr>\n",
              "    <tr>\n",
              "      <th>4</th>\n",
              "      <td>46487</td>\n",
              "      <td>751</td>\n",
              "      <td>23137</td>\n",
              "      <td>12</td>\n",
              "      <td>12</td>\n",
              "      <td>21292.12</td>\n",
              "      <td>9</td>\n",
              "      <td>Mortgage</td>\n",
              "      <td>Personal</td>\n",
              "      <td>1950</td>\n",
              "      <td>672</td>\n",
              "      <td>0</td>\n",
              "      <td>1</td>\n",
              "    </tr>\n",
              "  </tbody>\n",
              "</table>\n",
              "</div>\n",
              "    <div class=\"colab-df-buttons\">\n",
              "\n",
              "  <div class=\"colab-df-container\">\n",
              "    <button class=\"colab-df-convert\" onclick=\"convertToInteractive('df-d1a445e9-b188-472f-9cbe-b4242cf7bd8d')\"\n",
              "            title=\"Convert this dataframe to an interactive table.\"\n",
              "            style=\"display:none;\">\n",
              "\n",
              "  <svg xmlns=\"http://www.w3.org/2000/svg\" height=\"24px\" viewBox=\"0 -960 960 960\">\n",
              "    <path d=\"M120-120v-720h720v720H120Zm60-500h600v-160H180v160Zm220 220h160v-160H400v160Zm0 220h160v-160H400v160ZM180-400h160v-160H180v160Zm440 0h160v-160H620v160ZM180-180h160v-160H180v160Zm440 0h160v-160H620v160Z\"/>\n",
              "  </svg>\n",
              "    </button>\n",
              "\n",
              "  <style>\n",
              "    .colab-df-container {\n",
              "      display:flex;\n",
              "      gap: 12px;\n",
              "    }\n",
              "\n",
              "    .colab-df-convert {\n",
              "      background-color: #E8F0FE;\n",
              "      border: none;\n",
              "      border-radius: 50%;\n",
              "      cursor: pointer;\n",
              "      display: none;\n",
              "      fill: #1967D2;\n",
              "      height: 32px;\n",
              "      padding: 0 0 0 0;\n",
              "      width: 32px;\n",
              "    }\n",
              "\n",
              "    .colab-df-convert:hover {\n",
              "      background-color: #E2EBFA;\n",
              "      box-shadow: 0px 1px 2px rgba(60, 64, 67, 0.3), 0px 1px 3px 1px rgba(60, 64, 67, 0.15);\n",
              "      fill: #174EA6;\n",
              "    }\n",
              "\n",
              "    .colab-df-buttons div {\n",
              "      margin-bottom: 4px;\n",
              "    }\n",
              "\n",
              "    [theme=dark] .colab-df-convert {\n",
              "      background-color: #3B4455;\n",
              "      fill: #D2E3FC;\n",
              "    }\n",
              "\n",
              "    [theme=dark] .colab-df-convert:hover {\n",
              "      background-color: #434B5C;\n",
              "      box-shadow: 0px 1px 3px 1px rgba(0, 0, 0, 0.15);\n",
              "      filter: drop-shadow(0px 1px 2px rgba(0, 0, 0, 0.3));\n",
              "      fill: #FFFFFF;\n",
              "    }\n",
              "  </style>\n",
              "\n",
              "    <script>\n",
              "      const buttonEl =\n",
              "        document.querySelector('#df-d1a445e9-b188-472f-9cbe-b4242cf7bd8d button.colab-df-convert');\n",
              "      buttonEl.style.display =\n",
              "        google.colab.kernel.accessAllowed ? 'block' : 'none';\n",
              "\n",
              "      async function convertToInteractive(key) {\n",
              "        const element = document.querySelector('#df-d1a445e9-b188-472f-9cbe-b4242cf7bd8d');\n",
              "        const dataTable =\n",
              "          await google.colab.kernel.invokeFunction('convertToInteractive',\n",
              "                                                    [key], {});\n",
              "        if (!dataTable) return;\n",
              "\n",
              "        const docLinkHtml = 'Like what you see? Visit the ' +\n",
              "          '<a target=\"_blank\" href=https://colab.research.google.com/notebooks/data_table.ipynb>data table notebook</a>'\n",
              "          + ' to learn more about interactive tables.';\n",
              "        element.innerHTML = '';\n",
              "        dataTable['output_type'] = 'display_data';\n",
              "        await google.colab.output.renderOutput(dataTable, element);\n",
              "        const docLink = document.createElement('div');\n",
              "        docLink.innerHTML = docLinkHtml;\n",
              "        element.appendChild(docLink);\n",
              "      }\n",
              "    </script>\n",
              "  </div>\n",
              "\n",
              "\n",
              "<div id=\"df-0af7b2a9-9308-4e6f-89e4-496505e7becd\">\n",
              "  <button class=\"colab-df-quickchart\" onclick=\"quickchart('df-0af7b2a9-9308-4e6f-89e4-496505e7becd')\"\n",
              "            title=\"Suggest charts\"\n",
              "            style=\"display:none;\">\n",
              "\n",
              "<svg xmlns=\"http://www.w3.org/2000/svg\" height=\"24px\"viewBox=\"0 0 24 24\"\n",
              "     width=\"24px\">\n",
              "    <g>\n",
              "        <path d=\"M19 3H5c-1.1 0-2 .9-2 2v14c0 1.1.9 2 2 2h14c1.1 0 2-.9 2-2V5c0-1.1-.9-2-2-2zM9 17H7v-7h2v7zm4 0h-2V7h2v10zm4 0h-2v-4h2v4z\"/>\n",
              "    </g>\n",
              "</svg>\n",
              "  </button>\n",
              "\n",
              "<style>\n",
              "  .colab-df-quickchart {\n",
              "      --bg-color: #E8F0FE;\n",
              "      --fill-color: #1967D2;\n",
              "      --hover-bg-color: #E2EBFA;\n",
              "      --hover-fill-color: #174EA6;\n",
              "      --disabled-fill-color: #AAA;\n",
              "      --disabled-bg-color: #DDD;\n",
              "  }\n",
              "\n",
              "  [theme=dark] .colab-df-quickchart {\n",
              "      --bg-color: #3B4455;\n",
              "      --fill-color: #D2E3FC;\n",
              "      --hover-bg-color: #434B5C;\n",
              "      --hover-fill-color: #FFFFFF;\n",
              "      --disabled-bg-color: #3B4455;\n",
              "      --disabled-fill-color: #666;\n",
              "  }\n",
              "\n",
              "  .colab-df-quickchart {\n",
              "    background-color: var(--bg-color);\n",
              "    border: none;\n",
              "    border-radius: 50%;\n",
              "    cursor: pointer;\n",
              "    display: none;\n",
              "    fill: var(--fill-color);\n",
              "    height: 32px;\n",
              "    padding: 0;\n",
              "    width: 32px;\n",
              "  }\n",
              "\n",
              "  .colab-df-quickchart:hover {\n",
              "    background-color: var(--hover-bg-color);\n",
              "    box-shadow: 0 1px 2px rgba(60, 64, 67, 0.3), 0 1px 3px 1px rgba(60, 64, 67, 0.15);\n",
              "    fill: var(--button-hover-fill-color);\n",
              "  }\n",
              "\n",
              "  .colab-df-quickchart-complete:disabled,\n",
              "  .colab-df-quickchart-complete:disabled:hover {\n",
              "    background-color: var(--disabled-bg-color);\n",
              "    fill: var(--disabled-fill-color);\n",
              "    box-shadow: none;\n",
              "  }\n",
              "\n",
              "  .colab-df-spinner {\n",
              "    border: 2px solid var(--fill-color);\n",
              "    border-color: transparent;\n",
              "    border-bottom-color: var(--fill-color);\n",
              "    animation:\n",
              "      spin 1s steps(1) infinite;\n",
              "  }\n",
              "\n",
              "  @keyframes spin {\n",
              "    0% {\n",
              "      border-color: transparent;\n",
              "      border-bottom-color: var(--fill-color);\n",
              "      border-left-color: var(--fill-color);\n",
              "    }\n",
              "    20% {\n",
              "      border-color: transparent;\n",
              "      border-left-color: var(--fill-color);\n",
              "      border-top-color: var(--fill-color);\n",
              "    }\n",
              "    30% {\n",
              "      border-color: transparent;\n",
              "      border-left-color: var(--fill-color);\n",
              "      border-top-color: var(--fill-color);\n",
              "      border-right-color: var(--fill-color);\n",
              "    }\n",
              "    40% {\n",
              "      border-color: transparent;\n",
              "      border-right-color: var(--fill-color);\n",
              "      border-top-color: var(--fill-color);\n",
              "    }\n",
              "    60% {\n",
              "      border-color: transparent;\n",
              "      border-right-color: var(--fill-color);\n",
              "    }\n",
              "    80% {\n",
              "      border-color: transparent;\n",
              "      border-right-color: var(--fill-color);\n",
              "      border-bottom-color: var(--fill-color);\n",
              "    }\n",
              "    90% {\n",
              "      border-color: transparent;\n",
              "      border-bottom-color: var(--fill-color);\n",
              "    }\n",
              "  }\n",
              "</style>\n",
              "\n",
              "  <script>\n",
              "    async function quickchart(key) {\n",
              "      const quickchartButtonEl =\n",
              "        document.querySelector('#' + key + ' button');\n",
              "      quickchartButtonEl.disabled = true;  // To prevent multiple clicks.\n",
              "      quickchartButtonEl.classList.add('colab-df-spinner');\n",
              "      try {\n",
              "        const charts = await google.colab.kernel.invokeFunction(\n",
              "            'suggestCharts', [key], {});\n",
              "      } catch (error) {\n",
              "        console.error('Error during call to suggestCharts:', error);\n",
              "      }\n",
              "      quickchartButtonEl.classList.remove('colab-df-spinner');\n",
              "      quickchartButtonEl.classList.add('colab-df-quickchart-complete');\n",
              "    }\n",
              "    (() => {\n",
              "      let quickchartButtonEl =\n",
              "        document.querySelector('#df-0af7b2a9-9308-4e6f-89e4-496505e7becd button');\n",
              "      quickchartButtonEl.style.display =\n",
              "        google.colab.kernel.accessAllowed ? 'block' : 'none';\n",
              "    })();\n",
              "  </script>\n",
              "</div>\n",
              "\n",
              "    </div>\n",
              "  </div>\n"
            ],
            "application/vnd.google.colaboratory.intrinsic+json": {
              "type": "dataframe",
              "variable_name": "df_a",
              "summary": "{\n  \"name\": \"df_a\",\n  \"rows\": 30000,\n  \"fields\": [\n    {\n      \"column\": \"income\",\n      \"properties\": {\n        \"dtype\": \"number\",\n        \"std\": 14673,\n        \"min\": 20000,\n        \"max\": 117186,\n        \"num_unique_values\": 22325,\n        \"samples\": [\n          27931,\n          38235,\n          48506\n        ],\n        \"semantic_type\": \"\",\n        \"description\": \"\"\n      }\n    },\n    {\n      \"column\": \"credit_score\",\n      \"properties\": {\n        \"dtype\": \"number\",\n        \"std\": 50,\n        \"min\": 476,\n        \"max\": 850,\n        \"num_unique_values\": 326,\n        \"samples\": [\n          796,\n          756,\n          586\n        ],\n        \"semantic_type\": \"\",\n        \"description\": \"\"\n      }\n    },\n    {\n      \"column\": \"loan_amount\",\n      \"properties\": {\n        \"dtype\": \"number\",\n        \"std\": 9759,\n        \"min\": 5000,\n        \"max\": 50000,\n        \"num_unique_values\": 19717,\n        \"samples\": [\n          33456,\n          18246,\n          21737\n        ],\n        \"semantic_type\": \"\",\n        \"description\": \"\"\n      }\n    },\n    {\n      \"column\": \"loan_term\",\n      \"properties\": {\n        \"dtype\": \"number\",\n        \"std\": 16,\n        \"min\": 12,\n        \"max\": 60,\n        \"num_unique_values\": 5,\n        \"samples\": [\n          12,\n          60,\n          24\n        ],\n        \"semantic_type\": \"\",\n        \"description\": \"\"\n      }\n    },\n    {\n      \"column\": \"employment_length\",\n      \"properties\": {\n        \"dtype\": \"number\",\n        \"std\": 4,\n        \"min\": 0,\n        \"max\": 30,\n        \"num_unique_values\": 31,\n        \"samples\": [\n          26,\n          18,\n          21\n        ],\n        \"semantic_type\": \"\",\n        \"description\": \"\"\n      }\n    },\n    {\n      \"column\": \"existing_debt\",\n      \"properties\": {\n        \"dtype\": \"number\",\n        \"std\": 9803.476548774892,\n        \"min\": 0.0,\n        \"max\": 50000.0,\n        \"num_unique_values\": 29128,\n        \"samples\": [\n          27412.15,\n          37589.09,\n          16816.3\n        ],\n        \"semantic_type\": \"\",\n        \"description\": \"\"\n      }\n    },\n    {\n      \"column\": \"num_credit_lines\",\n      \"properties\": {\n        \"dtype\": \"number\",\n        \"std\": 2,\n        \"min\": 1,\n        \"max\": 15,\n        \"num_unique_values\": 15,\n        \"samples\": [\n          1,\n          2,\n          9\n        ],\n        \"semantic_type\": \"\",\n        \"description\": \"\"\n      }\n    },\n    {\n      \"column\": \"home_ownership\",\n      \"properties\": {\n        \"dtype\": \"category\",\n        \"num_unique_values\": 4,\n        \"samples\": [\n          \"Mortgage\",\n          \"Own\",\n          \"Rent\"\n        ],\n        \"semantic_type\": \"\",\n        \"description\": \"\"\n      }\n    },\n    {\n      \"column\": \"purpose\",\n      \"properties\": {\n        \"dtype\": \"category\",\n        \"num_unique_values\": 5,\n        \"samples\": [\n          \"Personal\",\n          \"Business\",\n          \"Debt Consolidation\"\n        ],\n        \"semantic_type\": \"\",\n        \"description\": \"\"\n      }\n    },\n    {\n      \"column\": \"birth_year\",\n      \"properties\": {\n        \"dtype\": \"number\",\n        \"std\": 15,\n        \"min\": 1950,\n        \"max\": 2004,\n        \"num_unique_values\": 55,\n        \"samples\": [\n          1963,\n          1984,\n          1951\n        ],\n        \"semantic_type\": \"\",\n        \"description\": \"\"\n      }\n    },\n    {\n      \"column\": \"monthly_rent_or_mortgage\",\n      \"properties\": {\n        \"dtype\": \"number\",\n        \"std\": 497,\n        \"min\": 500,\n        \"max\": 3962,\n        \"num_unique_values\": 2534,\n        \"samples\": [\n          740,\n          2904,\n          1495\n        ],\n        \"semantic_type\": \"\",\n        \"description\": \"\"\n      }\n    },\n    {\n      \"column\": \"has_default_last_7yrs\",\n      \"properties\": {\n        \"dtype\": \"number\",\n        \"std\": 0,\n        \"min\": 0,\n        \"max\": 1,\n        \"num_unique_values\": 2,\n        \"samples\": [\n          1,\n          0\n        ],\n        \"semantic_type\": \"\",\n        \"description\": \"\"\n      }\n    },\n    {\n      \"column\": \"loan_approved\",\n      \"properties\": {\n        \"dtype\": \"number\",\n        \"std\": 0,\n        \"min\": 0,\n        \"max\": 1,\n        \"num_unique_values\": 2,\n        \"samples\": [\n          1,\n          0\n        ],\n        \"semantic_type\": \"\",\n        \"description\": \"\"\n      }\n    }\n  ]\n}"
            }
          },
          "metadata": {},
          "execution_count": 5
        }
      ],
      "source": [
        "df_a.head()"
      ]
    },
    {
      "cell_type": "code",
      "execution_count": 6,
      "id": "6b826ed2-6619-4e82-9601-52b5952551d6",
      "metadata": {
        "id": "6b826ed2-6619-4e82-9601-52b5952551d6",
        "outputId": "9340fc11-7ce6-4388-d14a-da970f0dccf2",
        "colab": {
          "base_uri": "https://localhost:8080/"
        }
      },
      "outputs": [
        {
          "output_type": "stream",
          "name": "stdout",
          "text": [
            "<class 'pandas.core.frame.DataFrame'>\n",
            "RangeIndex: 30000 entries, 0 to 29999\n",
            "Data columns (total 13 columns):\n",
            " #   Column                    Non-Null Count  Dtype  \n",
            "---  ------                    --------------  -----  \n",
            " 0   income                    30000 non-null  int64  \n",
            " 1   credit_score              30000 non-null  int64  \n",
            " 2   loan_amount               30000 non-null  int64  \n",
            " 3   loan_term                 30000 non-null  int64  \n",
            " 4   employment_length         30000 non-null  int64  \n",
            " 5   existing_debt             30000 non-null  float64\n",
            " 6   num_credit_lines          30000 non-null  int64  \n",
            " 7   home_ownership            30000 non-null  object \n",
            " 8   purpose                   30000 non-null  object \n",
            " 9   birth_year                30000 non-null  int64  \n",
            " 10  monthly_rent_or_mortgage  30000 non-null  int64  \n",
            " 11  has_default_last_7yrs     30000 non-null  int64  \n",
            " 12  loan_approved             30000 non-null  int64  \n",
            "dtypes: float64(1), int64(10), object(2)\n",
            "memory usage: 3.0+ MB\n"
          ]
        }
      ],
      "source": [
        "df_a.info()"
      ]
    },
    {
      "cell_type": "code",
      "execution_count": 7,
      "id": "eace99d0-8cae-459b-b299-805ea97fe30e",
      "metadata": {
        "id": "eace99d0-8cae-459b-b299-805ea97fe30e",
        "outputId": "722b0764-a4a9-4060-ea64-0cfdc611dd99",
        "colab": {
          "base_uri": "https://localhost:8080/",
          "height": 447
        }
      },
      "outputs": [
        {
          "output_type": "execute_result",
          "data": {
            "text/plain": [
              "<Axes: >"
            ]
          },
          "metadata": {},
          "execution_count": 7
        },
        {
          "output_type": "display_data",
          "data": {
            "text/plain": [
              "<Figure size 640x480 with 1 Axes>"
            ],
            "image/png": "[encoded data removed]"
          },
          "metadata": {}
        }
      ],
      "source": [
        "# Histogram to find the distribution of the target variable\n",
        "\n",
        "df_a.loan_approved.hist()"
      ]
    },
    {
      "cell_type": "markdown",
      "source": [
        "From the histogram, we can that the dataset is not balanced. The distribution of 1.0 is nearly 3 times more than 0.0."
      ],
      "metadata": {
        "id": "jC8LHcC6pccD"
      },
      "id": "jC8LHcC6pccD"
    },
    {
      "cell_type": "code",
      "execution_count": 8,
      "id": "3c1aabaa-9186-4170-9dd0-1ee51357c8ac",
      "metadata": {
        "id": "3c1aabaa-9186-4170-9dd0-1ee51357c8ac",
        "outputId": "98aded18-b688-4220-c04e-c4a366f152c3",
        "colab": {
          "base_uri": "https://localhost:8080/",
          "height": 317
        }
      },
      "outputs": [
        {
          "output_type": "execute_result",
          "data": {
            "text/plain": [
              "              income  credit_score   loan_amount     loan_term  \\\n",
              "count   30000.000000  30000.000000  30000.000000  30000.000000   \n",
              "mean    50123.081967    699.499233  25108.312867     35.894800   \n",
              "std     14673.226191     50.206795   9759.059073     16.967266   \n",
              "min     20000.000000    476.000000   5000.000000     12.000000   \n",
              "25%     39841.500000    666.000000  18328.750000     24.000000   \n",
              "50%     50027.500000    700.000000  25044.000000     36.000000   \n",
              "75%     60123.250000    734.000000  31748.250000     48.000000   \n",
              "max    117186.000000    850.000000  50000.000000     60.000000   \n",
              "\n",
              "       employment_length  existing_debt  num_credit_lines    birth_year  \\\n",
              "count       30000.000000   30000.000000      30000.000000  30000.000000   \n",
              "mean            9.571900   20119.741999          6.542033   1976.963133   \n",
              "std             4.859213    9803.476549          2.922063     15.849562   \n",
              "min             0.000000       0.000000          1.000000   1950.000000   \n",
              "25%             6.000000   13286.810000          4.000000   1963.000000   \n",
              "50%            10.000000   19944.405000          7.000000   1977.000000   \n",
              "75%            13.000000   26726.295000          9.000000   1991.000000   \n",
              "max            30.000000   50000.000000         15.000000   2004.000000   \n",
              "\n",
              "       monthly_rent_or_mortgage  has_default_last_7yrs  loan_approved  \n",
              "count              30000.000000           30000.000000   30000.000000  \n",
              "mean                1702.633567               0.046000       0.758933  \n",
              "std                  497.529416               0.209489       0.427738  \n",
              "min                  500.000000               0.000000       0.000000  \n",
              "25%                 1366.750000               0.000000       1.000000  \n",
              "50%                 1700.000000               0.000000       1.000000  \n",
              "75%                 2036.000000               0.000000       1.000000  \n",
              "max                 3962.000000               1.000000       1.000000  "
            ],
            "text/html": [
              "\n",
              "  <div id=\"df-3362814d-cf48-4f6c-bf3e-ab27bddacdb3\" class=\"colab-df-container\">\n",
              "    <div>\n",
              "<style scoped>\n",
              "    .dataframe tbody tr th:only-of-type {\n",
              "        vertical-align: middle;\n",
              "    }\n",
              "\n",
              "    .dataframe tbody tr th {\n",
              "        vertical-align: top;\n",
              "    }\n",
              "\n",
              "    .dataframe thead th {\n",
              "        text-align: right;\n",
              "    }\n",
              "</style>\n",
              "<table border=\"1\" class=\"dataframe\">\n",
              "  <thead>\n",
              "    <tr style=\"text-align: right;\">\n",
              "      <th></th>\n",
              "      <th>income</th>\n",
              "      <th>credit_score</th>\n",
              "      <th>loan_amount</th>\n",
              "      <th>loan_term</th>\n",
              "      <th>employment_length</th>\n",
              "      <th>existing_debt</th>\n",
              "      <th>num_credit_lines</th>\n",
              "      <th>birth_year</th>\n",
              "      <th>monthly_rent_or_mortgage</th>\n",
              "      <th>has_default_last_7yrs</th>\n",
              "      <th>loan_approved</th>\n",
              "    </tr>\n",
              "  </thead>\n",
              "  <tbody>\n",
              "    <tr>\n",
              "      <th>count</th>\n",
              "      <td>30000.000000</td>\n",
              "      <td>30000.000000</td>\n",
              "      <td>30000.000000</td>\n",
              "      <td>30000.000000</td>\n",
              "      <td>30000.000000</td>\n",
              "      <td>30000.000000</td>\n",
              "      <td>30000.000000</td>\n",
              "      <td>30000.000000</td>\n",
              "      <td>30000.000000</td>\n",
              "      <td>30000.000000</td>\n",
              "      <td>30000.000000</td>\n",
              "    </tr>\n",
              "    <tr>\n",
              "      <th>mean</th>\n",
              "      <td>50123.081967</td>\n",
              "      <td>699.499233</td>\n",
              "      <td>25108.312867</td>\n",
              "      <td>35.894800</td>\n",
              "      <td>9.571900</td>\n",
              "      <td>20119.741999</td>\n",
              "      <td>6.542033</td>\n",
              "      <td>1976.963133</td>\n",
              "      <td>1702.633567</td>\n",
              "      <td>0.046000</td>\n",
              "      <td>0.758933</td>\n",
              "    </tr>\n",
              "    <tr>\n",
              "      <th>std</th>\n",
              "      <td>14673.226191</td>\n",
              "      <td>50.206795</td>\n",
              "      <td>9759.059073</td>\n",
              "      <td>16.967266</td>\n",
              "      <td>4.859213</td>\n",
              "      <td>9803.476549</td>\n",
              "      <td>2.922063</td>\n",
              "      <td>15.849562</td>\n",
              "      <td>497.529416</td>\n",
              "      <td>0.209489</td>\n",
              "      <td>0.427738</td>\n",
              "    </tr>\n",
              "    <tr>\n",
              "      <th>min</th>\n",
              "      <td>20000.000000</td>\n",
              "      <td>476.000000</td>\n",
              "      <td>5000.000000</td>\n",
              "      <td>12.000000</td>\n",
              "      <td>0.000000</td>\n",
              "      <td>0.000000</td>\n",
              "      <td>1.000000</td>\n",
              "      <td>1950.000000</td>\n",
              "      <td>500.000000</td>\n",
              "      <td>0.000000</td>\n",
              "      <td>0.000000</td>\n",
              "    </tr>\n",
              "    <tr>\n",
              "      <th>25%</th>\n",
              "      <td>39841.500000</td>\n",
              "      <td>666.000000</td>\n",
              "      <td>18328.750000</td>\n",
              "      <td>24.000000</td>\n",
              "      <td>6.000000</td>\n",
              "      <td>13286.810000</td>\n",
              "      <td>4.000000</td>\n",
              "      <td>1963.000000</td>\n",
              "      <td>1366.750000</td>\n",
              "      <td>0.000000</td>\n",
              "      <td>1.000000</td>\n",
              "    </tr>\n",
              "    <tr>\n",
              "      <th>50%</th>\n",
              "      <td>50027.500000</td>\n",
              "      <td>700.000000</td>\n",
              "      <td>25044.000000</td>\n",
              "      <td>36.000000</td>\n",
              "      <td>10.000000</td>\n",
              "      <td>19944.405000</td>\n",
              "      <td>7.000000</td>\n",
              "      <td>1977.000000</td>\n",
              "      <td>1700.000000</td>\n",
              "      <td>0.000000</td>\n",
              "      <td>1.000000</td>\n",
              "    </tr>\n",
              "    <tr>\n",
              "      <th>75%</th>\n",
              "      <td>60123.250000</td>\n",
              "      <td>734.000000</td>\n",
              "      <td>31748.250000</td>\n",
              "      <td>48.000000</td>\n",
              "      <td>13.000000</td>\n",
              "      <td>26726.295000</td>\n",
              "      <td>9.000000</td>\n",
              "      <td>1991.000000</td>\n",
              "      <td>2036.000000</td>\n",
              "      <td>0.000000</td>\n",
              "      <td>1.000000</td>\n",
              "    </tr>\n",
              "    <tr>\n",
              "      <th>max</th>\n",
              "      <td>117186.000000</td>\n",
              "      <td>850.000000</td>\n",
              "      <td>50000.000000</td>\n",
              "      <td>60.000000</td>\n",
              "      <td>30.000000</td>\n",
              "      <td>50000.000000</td>\n",
              "      <td>15.000000</td>\n",
              "      <td>2004.000000</td>\n",
              "      <td>3962.000000</td>\n",
              "      <td>1.000000</td>\n",
              "      <td>1.000000</td>\n",
              "    </tr>\n",
              "  </tbody>\n",
              "</table>\n",
              "</div>\n",
              "    <div class=\"colab-df-buttons\">\n",
              "\n",
              "  <div class=\"colab-df-container\">\n",
              "    <button class=\"colab-df-convert\" onclick=\"convertToInteractive('df-3362814d-cf48-4f6c-bf3e-ab27bddacdb3')\"\n",
              "            title=\"Convert this dataframe to an interactive table.\"\n",
              "            style=\"display:none;\">\n",
              "\n",
              "  <svg xmlns=\"http://www.w3.org/2000/svg\" height=\"24px\" viewBox=\"0 -960 960 960\">\n",
              "    <path d=\"M120-120v-720h720v720H120Zm60-500h600v-160H180v160Zm220 220h160v-160H400v160Zm0 220h160v-160H400v160ZM180-400h160v-160H180v160Zm440 0h160v-160H620v160ZM180-180h160v-160H180v160Zm440 0h160v-160H620v160Z\"/>\n",
              "  </svg>\n",
              "    </button>\n",
              "\n",
              "  <style>\n",
              "    .colab-df-container {\n",
              "      display:flex;\n",
              "      gap: 12px;\n",
              "    }\n",
              "\n",
              "    .colab-df-convert {\n",
              "      background-color: #E8F0FE;\n",
              "      border: none;\n",
              "      border-radius: 50%;\n",
              "      cursor: pointer;\n",
              "      display: none;\n",
              "      fill: #1967D2;\n",
              "      height: 32px;\n",
              "      padding: 0 0 0 0;\n",
              "      width: 32px;\n",
              "    }\n",
              "\n",
              "    .colab-df-convert:hover {\n",
              "      background-color: #E2EBFA;\n",
              "      box-shadow: 0px 1px 2px rgba(60, 64, 67, 0.3), 0px 1px 3px 1px rgba(60, 64, 67, 0.15);\n",
              "      fill: #174EA6;\n",
              "    }\n",
              "\n",
              "    .colab-df-buttons div {\n",
              "      margin-bottom: 4px;\n",
              "    }\n",
              "\n",
              "    [theme=dark] .colab-df-convert {\n",
              "      background-color: #3B4455;\n",
              "      fill: #D2E3FC;\n",
              "    }\n",
              "\n",
              "    [theme=dark] .colab-df-convert:hover {\n",
              "      background-color: #434B5C;\n",
              "      box-shadow: 0px 1px 3px 1px rgba(0, 0, 0, 0.15);\n",
              "      filter: drop-shadow(0px 1px 2px rgba(0, 0, 0, 0.3));\n",
              "      fill: #FFFFFF;\n",
              "    }\n",
              "  </style>\n",
              "\n",
              "    <script>\n",
              "      const buttonEl =\n",
              "        document.querySelector('#df-3362814d-cf48-4f6c-bf3e-ab27bddacdb3 button.colab-df-convert');\n",
              "      buttonEl.style.display =\n",
              "        google.colab.kernel.accessAllowed ? 'block' : 'none';\n",
              "\n",
              "      async function convertToInteractive(key) {\n",
              "        const element = document.querySelector('#df-3362814d-cf48-4f6c-bf3e-ab27bddacdb3');\n",
              "        const dataTable =\n",
              "          await google.colab.kernel.invokeFunction('convertToInteractive',\n",
              "                                                    [key], {});\n",
              "        if (!dataTable) return;\n",
              "\n",
              "        const docLinkHtml = 'Like what you see? Visit the ' +\n",
              "          '<a target=\"_blank\" href=https://colab.research.google.com/notebooks/data_table.ipynb>data table notebook</a>'\n",
              "          + ' to learn more about interactive tables.';\n",
              "        element.innerHTML = '';\n",
              "        dataTable['output_type'] = 'display_data';\n",
              "        await google.colab.output.renderOutput(dataTable, element);\n",
              "        const docLink = document.createElement('div');\n",
              "        docLink.innerHTML = docLinkHtml;\n",
              "        element.appendChild(docLink);\n",
              "      }\n",
              "    </script>\n",
              "  </div>\n",
              "\n",
              "\n",
              "<div id=\"df-eb5054c8-773a-49fc-be37-d9c870bce4e4\">\n",
              "  <button class=\"colab-df-quickchart\" onclick=\"quickchart('df-eb5054c8-773a-49fc-be37-d9c870bce4e4')\"\n",
              "            title=\"Suggest charts\"\n",
              "            style=\"display:none;\">\n",
              "\n",
              "<svg xmlns=\"http://www.w3.org/2000/svg\" height=\"24px\"viewBox=\"0 0 24 24\"\n",
              "     width=\"24px\">\n",
              "    <g>\n",
              "        <path d=\"M19 3H5c-1.1 0-2 .9-2 2v14c0 1.1.9 2 2 2h14c1.1 0 2-.9 2-2V5c0-1.1-.9-2-2-2zM9 17H7v-7h2v7zm4 0h-2V7h2v10zm4 0h-2v-4h2v4z\"/>\n",
              "    </g>\n",
              "</svg>\n",
              "  </button>\n",
              "\n",
              "<style>\n",
              "  .colab-df-quickchart {\n",
              "      --bg-color: #E8F0FE;\n",
              "      --fill-color: #1967D2;\n",
              "      --hover-bg-color: #E2EBFA;\n",
              "      --hover-fill-color: #174EA6;\n",
              "      --disabled-fill-color: #AAA;\n",
              "      --disabled-bg-color: #DDD;\n",
              "  }\n",
              "\n",
              "  [theme=dark] .colab-df-quickchart {\n",
              "      --bg-color: #3B4455;\n",
              "      --fill-color: #D2E3FC;\n",
              "      --hover-bg-color: #434B5C;\n",
              "      --hover-fill-color: #FFFFFF;\n",
              "      --disabled-bg-color: #3B4455;\n",
              "      --disabled-fill-color: #666;\n",
              "  }\n",
              "\n",
              "  .colab-df-quickchart {\n",
              "    background-color: var(--bg-color);\n",
              "    border: none;\n",
              "    border-radius: 50%;\n",
              "    cursor: pointer;\n",
              "    display: none;\n",
              "    fill: var(--fill-color);\n",
              "    height: 32px;\n",
              "    padding: 0;\n",
              "    width: 32px;\n",
              "  }\n",
              "\n",
              "  .colab-df-quickchart:hover {\n",
              "    background-color: var(--hover-bg-color);\n",
              "    box-shadow: 0 1px 2px rgba(60, 64, 67, 0.3), 0 1px 3px 1px rgba(60, 64, 67, 0.15);\n",
              "    fill: var(--button-hover-fill-color);\n",
              "  }\n",
              "\n",
              "  .colab-df-quickchart-complete:disabled,\n",
              "  .colab-df-quickchart-complete:disabled:hover {\n",
              "    background-color: var(--disabled-bg-color);\n",
              "    fill: var(--disabled-fill-color);\n",
              "    box-shadow: none;\n",
              "  }\n",
              "\n",
              "  .colab-df-spinner {\n",
              "    border: 2px solid var(--fill-color);\n",
              "    border-color: transparent;\n",
              "    border-bottom-color: var(--fill-color);\n",
              "    animation:\n",
              "      spin 1s steps(1) infinite;\n",
              "  }\n",
              "\n",
              "  @keyframes spin {\n",
              "    0% {\n",
              "      border-color: transparent;\n",
              "      border-bottom-color: var(--fill-color);\n",
              "      border-left-color: var(--fill-color);\n",
              "    }\n",
              "    20% {\n",
              "      border-color: transparent;\n",
              "      border-left-color: var(--fill-color);\n",
              "      border-top-color: var(--fill-color);\n",
              "    }\n",
              "    30% {\n",
              "      border-color: transparent;\n",
              "      border-left-color: var(--fill-color);\n",
              "      border-top-color: var(--fill-color);\n",
              "      border-right-color: var(--fill-color);\n",
              "    }\n",
              "    40% {\n",
              "      border-color: transparent;\n",
              "      border-right-color: var(--fill-color);\n",
              "      border-top-color: var(--fill-color);\n",
              "    }\n",
              "    60% {\n",
              "      border-color: transparent;\n",
              "      border-right-color: var(--fill-color);\n",
              "    }\n",
              "    80% {\n",
              "      border-color: transparent;\n",
              "      border-right-color: var(--fill-color);\n",
              "      border-bottom-color: var(--fill-color);\n",
              "    }\n",
              "    90% {\n",
              "      border-color: transparent;\n",
              "      border-bottom-color: var(--fill-color);\n",
              "    }\n",
              "  }\n",
              "</style>\n",
              "\n",
              "  <script>\n",
              "    async function quickchart(key) {\n",
              "      const quickchartButtonEl =\n",
              "        document.querySelector('#' + key + ' button');\n",
              "      quickchartButtonEl.disabled = true;  // To prevent multiple clicks.\n",
              "      quickchartButtonEl.classList.add('colab-df-spinner');\n",
              "      try {\n",
              "        const charts = await google.colab.kernel.invokeFunction(\n",
              "            'suggestCharts', [key], {});\n",
              "      } catch (error) {\n",
              "        console.error('Error during call to suggestCharts:', error);\n",
              "      }\n",
              "      quickchartButtonEl.classList.remove('colab-df-spinner');\n",
              "      quickchartButtonEl.classList.add('colab-df-quickchart-complete');\n",
              "    }\n",
              "    (() => {\n",
              "      let quickchartButtonEl =\n",
              "        document.querySelector('#df-eb5054c8-773a-49fc-be37-d9c870bce4e4 button');\n",
              "      quickchartButtonEl.style.display =\n",
              "        google.colab.kernel.accessAllowed ? 'block' : 'none';\n",
              "    })();\n",
              "  </script>\n",
              "</div>\n",
              "\n",
              "    </div>\n",
              "  </div>\n"
            ],
            "application/vnd.google.colaboratory.intrinsic+json": {
              "type": "dataframe",
              "summary": "{\n  \"name\": \"df_a\",\n  \"rows\": 8,\n  \"fields\": [\n    {\n      \"column\": \"income\",\n      \"properties\": {\n        \"dtype\": \"number\",\n        \"std\": 32131.46253564161,\n        \"min\": 14673.226191430334,\n        \"max\": 117186.0,\n        \"num_unique_values\": 8,\n        \"samples\": [\n          50123.081966666665,\n          50027.5,\n          30000.0\n        ],\n        \"semantic_type\": \"\",\n        \"description\": \"\"\n      }\n    },\n    {\n      \"column\": \"credit_score\",\n      \"properties\": {\n        \"dtype\": \"number\",\n        \"std\": 10398.597759768496,\n        \"min\": 50.206794594819165,\n        \"max\": 30000.0,\n        \"num_unique_values\": 8,\n        \"samples\": [\n          699.4992333333333,\n          700.0,\n          30000.0\n        ],\n        \"semantic_type\": \"\",\n        \"description\": \"\"\n      }\n    },\n    {\n      \"column\": \"loan_amount\",\n      \"properties\": {\n        \"dtype\": \"number\",\n        \"std\": 13985.731763182732,\n        \"min\": 5000.0,\n        \"max\": 50000.0,\n        \"num_unique_values\": 8,\n        \"samples\": [\n          25108.312866666667,\n          25044.0,\n          30000.0\n        ],\n        \"semantic_type\": \"\",\n        \"description\": \"\"\n      }\n    },\n    {\n      \"column\": \"loan_term\",\n      \"properties\": {\n        \"dtype\": \"number\",\n        \"std\": 10594.85220509078,\n        \"min\": 12.0,\n        \"max\": 30000.0,\n        \"num_unique_values\": 8,\n        \"samples\": [\n          35.8948,\n          36.0,\n          30000.0\n        ],\n        \"semantic_type\": \"\",\n        \"description\": \"\"\n      }\n    },\n    {\n      \"column\": \"employment_length\",\n      \"properties\": {\n        \"dtype\": \"number\",\n        \"std\": 10602.896591227347,\n        \"min\": 0.0,\n        \"max\": 30000.0,\n        \"num_unique_values\": 8,\n        \"samples\": [\n          9.5719,\n          10.0,\n          30000.0\n        ],\n        \"semantic_type\": \"\",\n        \"description\": \"\"\n      }\n    },\n    {\n      \"column\": \"existing_debt\",\n      \"properties\": {\n        \"dtype\": \"number\",\n        \"std\": 15033.73769827984,\n        \"min\": 0.0,\n        \"max\": 50000.0,\n        \"num_unique_values\": 8,\n        \"samples\": [\n          20119.741999333335,\n          19944.405,\n          30000.0\n        ],\n        \"semantic_type\": \"\",\n        \"description\": \"\"\n      }\n    },\n    {\n      \"column\": \"num_credit_lines\",\n      \"properties\": {\n        \"dtype\": \"number\",\n        \"std\": 10604.306296719182,\n        \"min\": 1.0,\n        \"max\": 30000.0,\n        \"num_unique_values\": 8,\n        \"samples\": [\n          6.542033333333333,\n          7.0,\n          30000.0\n        ],\n        \"semantic_type\": \"\",\n        \"description\": \"\"\n      }\n    },\n    {\n      \"column\": \"birth_year\",\n      \"properties\": {\n        \"dtype\": \"number\",\n        \"std\": 10030.198900757983,\n        \"min\": 15.84956196458985,\n        \"max\": 30000.0,\n        \"num_unique_values\": 8,\n        \"samples\": [\n          1976.9631333333334,\n          1977.0,\n          30000.0\n        ],\n        \"semantic_type\": \"\",\n        \"description\": \"\"\n      }\n    },\n    {\n      \"column\": \"monthly_rent_or_mortgage\",\n      \"properties\": {\n        \"dtype\": \"number\",\n        \"std\": 10070.882693536447,\n        \"min\": 497.5294159584299,\n        \"max\": 30000.0,\n        \"num_unique_values\": 8,\n        \"samples\": [\n          1702.6335666666666,\n          1700.0,\n          30000.0\n        ],\n        \"semantic_type\": \"\",\n        \"description\": \"\"\n      }\n    },\n    {\n      \"column\": \"has_default_last_7yrs\",\n      \"properties\": {\n        \"dtype\": \"number\",\n        \"std\": 10606.538311577046,\n        \"min\": 0.0,\n        \"max\": 30000.0,\n        \"num_unique_values\": 5,\n        \"samples\": [\n          0.046,\n          1.0,\n          0.20948857450643207\n        ],\n        \"semantic_type\": \"\",\n        \"description\": \"\"\n      }\n    },\n    {\n      \"column\": \"loan_approved\",\n      \"properties\": {\n        \"dtype\": \"number\",\n        \"std\": 10606.339757513815,\n        \"min\": 0.0,\n        \"max\": 30000.0,\n        \"num_unique_values\": 5,\n        \"samples\": [\n          0.7589333333333333,\n          1.0,\n          0.42773780233114295\n        ],\n        \"semantic_type\": \"\",\n        \"description\": \"\"\n      }\n    }\n  ]\n}"
            }
          },
          "metadata": {},
          "execution_count": 8
        }
      ],
      "source": [
        "df_a.describe()"
      ]
    },
    {
      "cell_type": "code",
      "execution_count": 9,
      "id": "409b1650-d28b-4258-9aad-418e741b2466",
      "metadata": {
        "id": "409b1650-d28b-4258-9aad-418e741b2466",
        "outputId": "c81945fa-c786-429d-a5dc-c39f7575429c",
        "colab": {
          "base_uri": "https://localhost:8080/",
          "height": 447
        }
      },
      "outputs": [
        {
          "output_type": "execute_result",
          "data": {
            "text/plain": [
              "<Axes: >"
            ]
          },
          "metadata": {},
          "execution_count": 9
        },
        {
          "output_type": "display_data",
          "data": {
            "text/plain": [
              "<Figure size 640x480 with 1 Axes>"
            ],
            "image/png": "[encoded data removed]"
          },
          "metadata": {}
        }
      ],
      "source": [
        "# Histogram to show the distribution of the credit score\n",
        "\n",
        "df_a.credit_score.hist()"
      ]
    },
    {
      "cell_type": "code",
      "execution_count": 10,
      "id": "ccf7b224-9069-4472-9b4b-c599e92c3859",
      "metadata": {
        "id": "ccf7b224-9069-4472-9b4b-c599e92c3859",
        "outputId": "5ab26471-7876-4eda-d51e-7f32c0d40958",
        "colab": {
          "base_uri": "https://localhost:8080/",
          "height": 467
        }
      },
      "outputs": [
        {
          "output_type": "execute_result",
          "data": {
            "text/plain": [
              "<Axes: xlabel='credit_score', ylabel='Count'>"
            ]
          },
          "metadata": {},
          "execution_count": 10
        },
        {
          "output_type": "display_data",
          "data": {
            "text/plain": [
              "<Figure size 640x480 with 1 Axes>"
            ],
            "image/png": "[encoded data removed]"
          },
          "metadata": {}
        }
      ],
      "source": [
        "# Histogram to see if there's any relation between credit score and loan approval\n",
        "\n",
        "sns.histplot(data = df_a, x = 'credit_score', hue = 'loan_approved', kde = False)"
      ]
    },
    {
      "cell_type": "markdown",
      "source": [
        "From the plot we cannot define much, but we can see that the loan approval is high for the people who has credit score 650 - 750 which was also not consistent ."
      ],
      "metadata": {
        "id": "nAos--3vqT5T"
      },
      "id": "nAos--3vqT5T"
    },
    {
      "cell_type": "code",
      "execution_count": 11,
      "id": "9c65dde1-f613-42c6-ba12-35359462e2c0",
      "metadata": {
        "id": "9c65dde1-f613-42c6-ba12-35359462e2c0",
        "outputId": "161ada6b-2d3c-4228-c208-5f8bc7c2cae8",
        "colab": {
          "base_uri": "https://localhost:8080/",
          "height": 447
        }
      },
      "outputs": [
        {
          "output_type": "execute_result",
          "data": {
            "text/plain": [
              "<Axes: >"
            ]
          },
          "metadata": {},
          "execution_count": 11
        },
        {
          "output_type": "display_data",
          "data": {
            "text/plain": [
              "<Figure size 640x480 with 1 Axes>"
            ],
            "image/png": "[encoded data removed]"
          },
          "metadata": {}
        }
      ],
      "source": [
        "# Histogram to show the distribution of the home ownership\n",
        "\n",
        "df_a.home_ownership.hist()"
      ]
    },
    {
      "cell_type": "code",
      "execution_count": 12,
      "id": "c6ed2ced-9671-4208-b0ab-63bf1980fa19",
      "metadata": {
        "id": "c6ed2ced-9671-4208-b0ab-63bf1980fa19",
        "outputId": "f3ce5ed2-cea1-4623-d1af-2df83138d9f2",
        "colab": {
          "base_uri": "https://localhost:8080/",
          "height": 469
        }
      },
      "outputs": [
        {
          "output_type": "execute_result",
          "data": {
            "text/plain": [
              "<Axes: xlabel='home_ownership', ylabel='Count'>"
            ]
          },
          "metadata": {},
          "execution_count": 12
        },
        {
          "output_type": "display_data",
          "data": {
            "text/plain": [
              "<Figure size 640x480 with 1 Axes>"
            ],
            "image/png": "[encoded data removed]"
          },
          "metadata": {}
        }
      ],
      "source": [
        "# Histogram to see if there's any relation between home ownership and loan approval\n",
        "\n",
        "sns.histplot(data = df_a, x = 'home_ownership', hue = 'loan_approved', kde = False)"
      ]
    },
    {
      "cell_type": "markdown",
      "source": [
        "The rate of loan approval is same for all categories."
      ],
      "metadata": {
        "id": "Ew3XbsC7uo9n"
      },
      "id": "Ew3XbsC7uo9n"
    },
    {
      "cell_type": "code",
      "execution_count": 13,
      "id": "0b823247-8dbf-4261-a5b2-163a334d2384",
      "metadata": {
        "id": "0b823247-8dbf-4261-a5b2-163a334d2384",
        "outputId": "8d97ef44-c735-4952-bc91-e5188f4d122e",
        "colab": {
          "base_uri": "https://localhost:8080/",
          "height": 447
        }
      },
      "outputs": [
        {
          "output_type": "execute_result",
          "data": {
            "text/plain": [
              "<Axes: >"
            ]
          },
          "metadata": {},
          "execution_count": 13
        },
        {
          "output_type": "display_data",
          "data": {
            "text/plain": [
              "<Figure size 640x480 with 1 Axes>"
            ],
            "image/png": "[encoded data removed]"
          },
          "metadata": {}
        }
      ],
      "source": [
        "# Histogram to show the distribution of the credit score\n",
        "\n",
        "df_a.income.hist()"
      ]
    },
    {
      "cell_type": "code",
      "execution_count": 14,
      "id": "8ae51047-8f6e-43ce-835c-857978005548",
      "metadata": {
        "id": "8ae51047-8f6e-43ce-835c-857978005548",
        "outputId": "26836f3d-4cb2-4336-8ce6-c2ab32febeab",
        "colab": {
          "base_uri": "https://localhost:8080/",
          "height": 472
        }
      },
      "outputs": [
        {
          "output_type": "execute_result",
          "data": {
            "text/plain": [
              "<Axes: xlabel='income', ylabel='Count'>"
            ]
          },
          "metadata": {},
          "execution_count": 14
        },
        {
          "output_type": "display_data",
          "data": {
            "text/plain": [
              "<Figure size 640x480 with 1 Axes>"
            ],
            "image/png": "[encoded data removed]"
          },
          "metadata": {}
        }
      ],
      "source": [
        "# Histogram to see if there's any relation between income and loan approval\n",
        "\n",
        "sns.histplot(data = df_a, x = 'income', hue = 'loan_approved', kde = False)"
      ]
    },
    {
      "cell_type": "markdown",
      "source": [
        "The plot shows most of the loan rejections were for the people who have salary within range of 20k - 40k."
      ],
      "metadata": {
        "id": "QScCY4jtu-c3"
      },
      "id": "QScCY4jtu-c3"
    },
    {
      "cell_type": "code",
      "execution_count": 15,
      "id": "e40db060-7a74-420b-b7cc-8d7b0c5d668e",
      "metadata": {
        "id": "e40db060-7a74-420b-b7cc-8d7b0c5d668e",
        "outputId": "dd9ece58-20c9-472b-e6e2-f63c24fce385",
        "colab": {
          "base_uri": "https://localhost:8080/",
          "height": 467
        }
      },
      "outputs": [
        {
          "output_type": "execute_result",
          "data": {
            "text/plain": [
              "<Axes: xlabel='loan_amount', ylabel='Count'>"
            ]
          },
          "metadata": {},
          "execution_count": 15
        },
        {
          "output_type": "display_data",
          "data": {
            "text/plain": [
              "<Figure size 640x480 with 1 Axes>"
            ],
            "image/png": "[encoded data removed]"
          },
          "metadata": {}
        }
      ],
      "source": [
        "# Histogram to see if there's any relation between amount of loan and loan approval\n",
        "\n",
        "sns.histplot(data = df_a, x = 'loan_amount', hue = 'loan_approved', kde = False)"
      ]
    },
    {
      "cell_type": "markdown",
      "source": [
        "The loan amount of 20k - 30k has most approval rate. From the plot we can see there is an increase in approval rate from 10k to 25k, the it gradually decreased."
      ],
      "metadata": {
        "id": "gYzsPe5tvaKJ"
      },
      "id": "gYzsPe5tvaKJ"
    },
    {
      "cell_type": "code",
      "execution_count": 16,
      "id": "bcb4e19b-2306-4bd3-9210-7606db00fdf9",
      "metadata": {
        "id": "bcb4e19b-2306-4bd3-9210-7606db00fdf9",
        "outputId": "5419ca9f-be62-4a11-d274-4870380dc0de",
        "colab": {
          "base_uri": "https://localhost:8080/",
          "height": 467
        }
      },
      "outputs": [
        {
          "output_type": "execute_result",
          "data": {
            "text/plain": [
              "<Axes: xlabel='existing_debt', ylabel='Count'>"
            ]
          },
          "metadata": {},
          "execution_count": 16
        },
        {
          "output_type": "display_data",
          "data": {
            "text/plain": [
              "<Figure size 640x480 with 1 Axes>"
            ],
            "image/png": "[encoded data removed]"
          },
          "metadata": {}
        }
      ],
      "source": [
        "# Histogram to see if there's any relation between existing debt and loan approval\n",
        "\n",
        "sns.histplot(data = df_a, x = 'existing_debt', hue = 'loan_approved',kde = True)"
      ]
    },
    {
      "cell_type": "markdown",
      "source": [
        "From the plot we can see that people who have less amount of debt and most amount of debt has less approval rate as compared to people who have debt within the range of 20k."
      ],
      "metadata": {
        "id": "QXE466fbwEA0"
      },
      "id": "QXE466fbwEA0"
    },
    {
      "cell_type": "code",
      "execution_count": 17,
      "id": "e0ab8002-1aa8-4531-9ce9-6ea84515c6c3",
      "metadata": {
        "id": "e0ab8002-1aa8-4531-9ce9-6ea84515c6c3",
        "outputId": "c5eaf59c-59ab-47d1-a6c0-6e6dbd655c8e",
        "colab": {
          "base_uri": "https://localhost:8080/",
          "height": 466
        }
      },
      "outputs": [
        {
          "output_type": "execute_result",
          "data": {
            "text/plain": [
              "<Axes: xlabel='purpose', ylabel='Count'>"
            ]
          },
          "metadata": {},
          "execution_count": 17
        },
        {
          "output_type": "display_data",
          "data": {
            "text/plain": [
              "<Figure size 640x480 with 1 Axes>"
            ],
            "image/png": "[encoded data removed]"
          },
          "metadata": {}
        }
      ],
      "source": [
        "# Histogram to see if there's any relation between purpose and loan approval\n",
        "\n",
        "sns.histplot(data = df_a, x = 'purpose', hue = 'loan_approved', kde = False)"
      ]
    },
    {
      "cell_type": "markdown",
      "source": [
        "We can notice that rate of loan approval is rejection is same for all the categories."
      ],
      "metadata": {
        "id": "acaiR8UMwhlu"
      },
      "id": "acaiR8UMwhlu"
    },
    {
      "cell_type": "code",
      "execution_count": 18,
      "id": "cc33db4e-eda4-4ac8-b866-333a56893d13",
      "metadata": {
        "id": "cc33db4e-eda4-4ac8-b866-333a56893d13",
        "outputId": "ff185cf5-df11-46bd-9962-a2d413869bb3",
        "colab": {
          "base_uri": "https://localhost:8080/",
          "height": 467
        }
      },
      "outputs": [
        {
          "output_type": "execute_result",
          "data": {
            "text/plain": [
              "<Axes: xlabel='loan_term', ylabel='count'>"
            ]
          },
          "metadata": {},
          "execution_count": 18
        },
        {
          "output_type": "display_data",
          "data": {
            "text/plain": [
              "<Figure size 640x480 with 1 Axes>"
            ],
            "image/png": "[encoded data removed]"
          },
          "metadata": {}
        }
      ],
      "source": [
        "# Plot to see if there's any relation between loan term and loan approval\n",
        "\n",
        "sns.countplot(data = df_a, x = 'loan_term', hue = 'loan_approved')"
      ]
    },
    {
      "cell_type": "markdown",
      "source": [
        "The loan approval is high for 24 months and 36 months term as compared to other loan terms."
      ],
      "metadata": {
        "id": "SfGKqEUZwzfT"
      },
      "id": "SfGKqEUZwzfT"
    },
    {
      "cell_type": "code",
      "execution_count": 19,
      "id": "69d15e6b-8374-4c6b-8ce2-d084f5721192",
      "metadata": {
        "id": "69d15e6b-8374-4c6b-8ce2-d084f5721192",
        "outputId": "02eb45c7-797b-49c1-c27f-d2f5ae1befd2",
        "colab": {
          "base_uri": "https://localhost:8080/",
          "height": 467
        }
      },
      "outputs": [
        {
          "output_type": "execute_result",
          "data": {
            "text/plain": [
              "<Axes: xlabel='monthly_rent_or_mortgage', ylabel='Count'>"
            ]
          },
          "metadata": {},
          "execution_count": 19
        },
        {
          "output_type": "display_data",
          "data": {
            "text/plain": [
              "<Figure size 640x480 with 1 Axes>"
            ],
            "image/png": "[encoded data removed]"
          },
          "metadata": {}
        }
      ],
      "source": [
        "# Histogram to see if there's any relation between monthly rent or mortgage and loan approval\n",
        "\n",
        "sns.histplot(data = df_a, x = 'monthly_rent_or_mortgage', hue = 'loan_approved',kde = True)"
      ]
    },
    {
      "cell_type": "code",
      "execution_count": 20,
      "id": "0e261302-0d31-46a3-8826-7a93fa9899fe",
      "metadata": {
        "id": "0e261302-0d31-46a3-8826-7a93fa9899fe",
        "outputId": "24144bac-d314-4744-d4a5-d98110f0f512",
        "colab": {
          "base_uri": "https://localhost:8080/",
          "height": 467
        }
      },
      "outputs": [
        {
          "output_type": "execute_result",
          "data": {
            "text/plain": [
              "<Axes: xlabel='num_credit_lines', ylabel='count'>"
            ]
          },
          "metadata": {},
          "execution_count": 20
        },
        {
          "output_type": "display_data",
          "data": {
            "text/plain": [
              "<Figure size 640x480 with 1 Axes>"
            ],
            "image/png": "[encoded data removed]"
          },
          "metadata": {}
        }
      ],
      "source": [
        "# Plot to see if there's any relation between number of credit lines and loan approval\n",
        "\n",
        "sns.countplot(data = df_a, x = 'num_credit_lines', hue = 'loan_approved')"
      ]
    },
    {
      "cell_type": "markdown",
      "source": [
        "we can see that the people with less number of credit lines and more number of credit lines has less approvals of loan than the people who have the 6-7 credit lines."
      ],
      "metadata": {
        "id": "QoNNNH20xREi"
      },
      "id": "QoNNNH20xREi"
    },
    {
      "cell_type": "markdown",
      "source": [
        "# Findings from the Analysis\n",
        "\n",
        "- The dataset is not balanced.\n",
        "- From the dataset we can use 9 columns as features to develop the model.\n",
        "- We have 7 numerical features and 2 categorical features.\n",
        "- The insights between the target variable and other features are mentioned under the plots."
      ],
      "metadata": {
        "id": "krKFSlW5x_AD"
      },
      "id": "krKFSlW5x_AD"
    },
    {
      "cell_type": "markdown",
      "source": [
        "# Feature Engineering\n",
        "\n",
        "- Imputation\n",
        "- Encoding\n",
        "- Scaling & Normalization\n",
        "- Feature Selection\n"
      ],
      "metadata": {
        "id": "mMLoiUiUJ22z"
      },
      "id": "mMLoiUiUJ22z"
    },
    {
      "cell_type": "code",
      "execution_count": 21,
      "id": "374f0de4-c5b3-4a5e-a431-c6b8ad31c062",
      "metadata": {
        "id": "374f0de4-c5b3-4a5e-a431-c6b8ad31c062",
        "colab": {
          "base_uri": "https://localhost:8080/",
          "height": 258
        },
        "outputId": "82d891c5-9b4e-477f-d23b-33f2f9b9dd00"
      },
      "outputs": [
        {
          "output_type": "execute_result",
          "data": {
            "text/plain": [
              "   income  credit_score  loan_amount  loan_term  employment_length  \\\n",
              "0   57450           600        25788         48                 11   \n",
              "1   47926           647        30628         12                  5   \n",
              "2   59715           670        28411         12                  1   \n",
              "3   72845           707        12220         12                 15   \n",
              "4   46487           751        23137         12                 12   \n",
              "\n",
              "   existing_debt  num_credit_lines home_ownership             purpose  \\\n",
              "0       16569.26                 9           Rent           Education   \n",
              "1       17333.25                 8       Mortgage            Personal   \n",
              "2       23309.66                 4          Other  Debt Consolidation   \n",
              "3       12695.63                 9           Rent    Home Improvement   \n",
              "4       21292.12                 9       Mortgage            Personal   \n",
              "\n",
              "   birth_year  monthly_rent_or_mortgage  has_default_last_7yrs  loan_approved  \n",
              "0        1979                      1691                      0              0  \n",
              "1        1964                      1278                      0              0  \n",
              "2        1954                      1268                      0              0  \n",
              "3        1995                      1815                      0              1  \n",
              "4        1950                       672                      0              1  "
            ],
            "text/html": [
              "\n",
              "  <div id=\"df-03f7aacc-e64b-4976-b522-ad1b0d358830\" class=\"colab-df-container\">\n",
              "    <div>\n",
              "<style scoped>\n",
              "    .dataframe tbody tr th:only-of-type {\n",
              "        vertical-align: middle;\n",
              "    }\n",
              "\n",
              "    .dataframe tbody tr th {\n",
              "        vertical-align: top;\n",
              "    }\n",
              "\n",
              "    .dataframe thead th {\n",
              "        text-align: right;\n",
              "    }\n",
              "</style>\n",
              "<table border=\"1\" class=\"dataframe\">\n",
              "  <thead>\n",
              "    <tr style=\"text-align: right;\">\n",
              "      <th></th>\n",
              "      <th>income</th>\n",
              "      <th>credit_score</th>\n",
              "      <th>loan_amount</th>\n",
              "      <th>loan_term</th>\n",
              "      <th>employment_length</th>\n",
              "      <th>existing_debt</th>\n",
              "      <th>num_credit_lines</th>\n",
              "      <th>home_ownership</th>\n",
              "      <th>purpose</th>\n",
              "      <th>birth_year</th>\n",
              "      <th>monthly_rent_or_mortgage</th>\n",
              "      <th>has_default_last_7yrs</th>\n",
              "      <th>loan_approved</th>\n",
              "    </tr>\n",
              "  </thead>\n",
              "  <tbody>\n",
              "    <tr>\n",
              "      <th>0</th>\n",
              "      <td>57450</td>\n",
              "      <td>600</td>\n",
              "      <td>25788</td>\n",
              "      <td>48</td>\n",
              "      <td>11</td>\n",
              "      <td>16569.26</td>\n",
              "      <td>9</td>\n",
              "      <td>Rent</td>\n",
              "      <td>Education</td>\n",
              "      <td>1979</td>\n",
              "      <td>1691</td>\n",
              "      <td>0</td>\n",
              "      <td>0</td>\n",
              "    </tr>\n",
              "    <tr>\n",
              "      <th>1</th>\n",
              "      <td>47926</td>\n",
              "      <td>647</td>\n",
              "      <td>30628</td>\n",
              "      <td>12</td>\n",
              "      <td>5</td>\n",
              "      <td>17333.25</td>\n",
              "      <td>8</td>\n",
              "      <td>Mortgage</td>\n",
              "      <td>Personal</td>\n",
              "      <td>1964</td>\n",
              "      <td>1278</td>\n",
              "      <td>0</td>\n",
              "      <td>0</td>\n",
              "    </tr>\n",
              "    <tr>\n",
              "      <th>2</th>\n",
              "      <td>59715</td>\n",
              "      <td>670</td>\n",
              "      <td>28411</td>\n",
              "      <td>12</td>\n",
              "      <td>1</td>\n",
              "      <td>23309.66</td>\n",
              "      <td>4</td>\n",
              "      <td>Other</td>\n",
              "      <td>Debt Consolidation</td>\n",
              "      <td>1954</td>\n",
              "      <td>1268</td>\n",
              "      <td>0</td>\n",
              "      <td>0</td>\n",
              "    </tr>\n",
              "    <tr>\n",
              "      <th>3</th>\n",
              "      <td>72845</td>\n",
              "      <td>707</td>\n",
              "      <td>12220</td>\n",
              "      <td>12</td>\n",
              "      <td>15</td>\n",
              "      <td>12695.63</td>\n",
              "      <td>9</td>\n",
              "      <td>Rent</td>\n",
              "      <td>Home Improvement</td>\n",
              "      <td>1995</td>\n",
              "      <td>1815</td>\n",
              "      <td>0</td>\n",
              "      <td>1</td>\n",
              "    </tr>\n",
              "    <tr>\n",
              "      <th>4</th>\n",
              "      <td>46487</td>\n",
              "      <td>751</td>\n",
              "      <td>23137</td>\n",
              "      <td>12</td>\n",
              "      <td>12</td>\n",
              "      <td>21292.12</td>\n",
              "      <td>9</td>\n",
              "      <td>Mortgage</td>\n",
              "      <td>Personal</td>\n",
              "      <td>1950</td>\n",
              "      <td>672</td>\n",
              "      <td>0</td>\n",
              "      <td>1</td>\n",
              "    </tr>\n",
              "  </tbody>\n",
              "</table>\n",
              "</div>\n",
              "    <div class=\"colab-df-buttons\">\n",
              "\n",
              "  <div class=\"colab-df-container\">\n",
              "    <button class=\"colab-df-convert\" onclick=\"convertToInteractive('df-03f7aacc-e64b-4976-b522-ad1b0d358830')\"\n",
              "            title=\"Convert this dataframe to an interactive table.\"\n",
              "            style=\"display:none;\">\n",
              "\n",
              "  <svg xmlns=\"http://www.w3.org/2000/svg\" height=\"24px\" viewBox=\"0 -960 960 960\">\n",
              "    <path d=\"M120-120v-720h720v720H120Zm60-500h600v-160H180v160Zm220 220h160v-160H400v160Zm0 220h160v-160H400v160ZM180-400h160v-160H180v160Zm440 0h160v-160H620v160ZM180-180h160v-160H180v160Zm440 0h160v-160H620v160Z\"/>\n",
              "  </svg>\n",
              "    </button>\n",
              "\n",
              "  <style>\n",
              "    .colab-df-container {\n",
              "      display:flex;\n",
              "      gap: 12px;\n",
              "    }\n",
              "\n",
              "    .colab-df-convert {\n",
              "      background-color: #E8F0FE;\n",
              "      border: none;\n",
              "      border-radius: 50%;\n",
              "      cursor: pointer;\n",
              "      display: none;\n",
              "      fill: #1967D2;\n",
              "      height: 32px;\n",
              "      padding: 0 0 0 0;\n",
              "      width: 32px;\n",
              "    }\n",
              "\n",
              "    .colab-df-convert:hover {\n",
              "      background-color: #E2EBFA;\n",
              "      box-shadow: 0px 1px 2px rgba(60, 64, 67, 0.3), 0px 1px 3px 1px rgba(60, 64, 67, 0.15);\n",
              "      fill: #174EA6;\n",
              "    }\n",
              "\n",
              "    .colab-df-buttons div {\n",
              "      margin-bottom: 4px;\n",
              "    }\n",
              "\n",
              "    [theme=dark] .colab-df-convert {\n",
              "      background-color: #3B4455;\n",
              "      fill: #D2E3FC;\n",
              "    }\n",
              "\n",
              "    [theme=dark] .colab-df-convert:hover {\n",
              "      background-color: #434B5C;\n",
              "      box-shadow: 0px 1px 3px 1px rgba(0, 0, 0, 0.15);\n",
              "      filter: drop-shadow(0px 1px 2px rgba(0, 0, 0, 0.3));\n",
              "      fill: #FFFFFF;\n",
              "    }\n",
              "  </style>\n",
              "\n",
              "    <script>\n",
              "      const buttonEl =\n",
              "        document.querySelector('#df-03f7aacc-e64b-4976-b522-ad1b0d358830 button.colab-df-convert');\n",
              "      buttonEl.style.display =\n",
              "        google.colab.kernel.accessAllowed ? 'block' : 'none';\n",
              "\n",
              "      async function convertToInteractive(key) {\n",
              "        const element = document.querySelector('#df-03f7aacc-e64b-4976-b522-ad1b0d358830');\n",
              "        const dataTable =\n",
              "          await google.colab.kernel.invokeFunction('convertToInteractive',\n",
              "                                                    [key], {});\n",
              "        if (!dataTable) return;\n",
              "\n",
              "        const docLinkHtml = 'Like what you see? Visit the ' +\n",
              "          '<a target=\"_blank\" href=https://colab.research.google.com/notebooks/data_table.ipynb>data table notebook</a>'\n",
              "          + ' to learn more about interactive tables.';\n",
              "        element.innerHTML = '';\n",
              "        dataTable['output_type'] = 'display_data';\n",
              "        await google.colab.output.renderOutput(dataTable, element);\n",
              "        const docLink = document.createElement('div');\n",
              "        docLink.innerHTML = docLinkHtml;\n",
              "        element.appendChild(docLink);\n",
              "      }\n",
              "    </script>\n",
              "  </div>\n",
              "\n",
              "\n",
              "<div id=\"df-fdf9118d-6f12-4461-a28b-96629ae9ff9e\">\n",
              "  <button class=\"colab-df-quickchart\" onclick=\"quickchart('df-fdf9118d-6f12-4461-a28b-96629ae9ff9e')\"\n",
              "            title=\"Suggest charts\"\n",
              "            style=\"display:none;\">\n",
              "\n",
              "<svg xmlns=\"http://www.w3.org/2000/svg\" height=\"24px\"viewBox=\"0 0 24 24\"\n",
              "     width=\"24px\">\n",
              "    <g>\n",
              "        <path d=\"M19 3H5c-1.1 0-2 .9-2 2v14c0 1.1.9 2 2 2h14c1.1 0 2-.9 2-2V5c0-1.1-.9-2-2-2zM9 17H7v-7h2v7zm4 0h-2V7h2v10zm4 0h-2v-4h2v4z\"/>\n",
              "    </g>\n",
              "</svg>\n",
              "  </button>\n",
              "\n",
              "<style>\n",
              "  .colab-df-quickchart {\n",
              "      --bg-color: #E8F0FE;\n",
              "      --fill-color: #1967D2;\n",
              "      --hover-bg-color: #E2EBFA;\n",
              "      --hover-fill-color: #174EA6;\n",
              "      --disabled-fill-color: #AAA;\n",
              "      --disabled-bg-color: #DDD;\n",
              "  }\n",
              "\n",
              "  [theme=dark] .colab-df-quickchart {\n",
              "      --bg-color: #3B4455;\n",
              "      --fill-color: #D2E3FC;\n",
              "      --hover-bg-color: #434B5C;\n",
              "      --hover-fill-color: #FFFFFF;\n",
              "      --disabled-bg-color: #3B4455;\n",
              "      --disabled-fill-color: #666;\n",
              "  }\n",
              "\n",
              "  .colab-df-quickchart {\n",
              "    background-color: var(--bg-color);\n",
              "    border: none;\n",
              "    border-radius: 50%;\n",
              "    cursor: pointer;\n",
              "    display: none;\n",
              "    fill: var(--fill-color);\n",
              "    height: 32px;\n",
              "    padding: 0;\n",
              "    width: 32px;\n",
              "  }\n",
              "\n",
              "  .colab-df-quickchart:hover {\n",
              "    background-color: var(--hover-bg-color);\n",
              "    box-shadow: 0 1px 2px rgba(60, 64, 67, 0.3), 0 1px 3px 1px rgba(60, 64, 67, 0.15);\n",
              "    fill: var(--button-hover-fill-color);\n",
              "  }\n",
              "\n",
              "  .colab-df-quickchart-complete:disabled,\n",
              "  .colab-df-quickchart-complete:disabled:hover {\n",
              "    background-color: var(--disabled-bg-color);\n",
              "    fill: var(--disabled-fill-color);\n",
              "    box-shadow: none;\n",
              "  }\n",
              "\n",
              "  .colab-df-spinner {\n",
              "    border: 2px solid var(--fill-color);\n",
              "    border-color: transparent;\n",
              "    border-bottom-color: var(--fill-color);\n",
              "    animation:\n",
              "      spin 1s steps(1) infinite;\n",
              "  }\n",
              "\n",
              "  @keyframes spin {\n",
              "    0% {\n",
              "      border-color: transparent;\n",
              "      border-bottom-color: var(--fill-color);\n",
              "      border-left-color: var(--fill-color);\n",
              "    }\n",
              "    20% {\n",
              "      border-color: transparent;\n",
              "      border-left-color: var(--fill-color);\n",
              "      border-top-color: var(--fill-color);\n",
              "    }\n",
              "    30% {\n",
              "      border-color: transparent;\n",
              "      border-left-color: var(--fill-color);\n",
              "      border-top-color: var(--fill-color);\n",
              "      border-right-color: var(--fill-color);\n",
              "    }\n",
              "    40% {\n",
              "      border-color: transparent;\n",
              "      border-right-color: var(--fill-color);\n",
              "      border-top-color: var(--fill-color);\n",
              "    }\n",
              "    60% {\n",
              "      border-color: transparent;\n",
              "      border-right-color: var(--fill-color);\n",
              "    }\n",
              "    80% {\n",
              "      border-color: transparent;\n",
              "      border-right-color: var(--fill-color);\n",
              "      border-bottom-color: var(--fill-color);\n",
              "    }\n",
              "    90% {\n",
              "      border-color: transparent;\n",
              "      border-bottom-color: var(--fill-color);\n",
              "    }\n",
              "  }\n",
              "</style>\n",
              "\n",
              "  <script>\n",
              "    async function quickchart(key) {\n",
              "      const quickchartButtonEl =\n",
              "        document.querySelector('#' + key + ' button');\n",
              "      quickchartButtonEl.disabled = true;  // To prevent multiple clicks.\n",
              "      quickchartButtonEl.classList.add('colab-df-spinner');\n",
              "      try {\n",
              "        const charts = await google.colab.kernel.invokeFunction(\n",
              "            'suggestCharts', [key], {});\n",
              "      } catch (error) {\n",
              "        console.error('Error during call to suggestCharts:', error);\n",
              "      }\n",
              "      quickchartButtonEl.classList.remove('colab-df-spinner');\n",
              "      quickchartButtonEl.classList.add('colab-df-quickchart-complete');\n",
              "    }\n",
              "    (() => {\n",
              "      let quickchartButtonEl =\n",
              "        document.querySelector('#df-fdf9118d-6f12-4461-a28b-96629ae9ff9e button');\n",
              "      quickchartButtonEl.style.display =\n",
              "        google.colab.kernel.accessAllowed ? 'block' : 'none';\n",
              "    })();\n",
              "  </script>\n",
              "</div>\n",
              "\n",
              "    </div>\n",
              "  </div>\n"
            ],
            "application/vnd.google.colaboratory.intrinsic+json": {
              "type": "dataframe",
              "variable_name": "df_a",
              "summary": "{\n  \"name\": \"df_a\",\n  \"rows\": 30000,\n  \"fields\": [\n    {\n      \"column\": \"income\",\n      \"properties\": {\n        \"dtype\": \"number\",\n        \"std\": 14673,\n        \"min\": 20000,\n        \"max\": 117186,\n        \"num_unique_values\": 22325,\n        \"samples\": [\n          27931,\n          38235,\n          48506\n        ],\n        \"semantic_type\": \"\",\n        \"description\": \"\"\n      }\n    },\n    {\n      \"column\": \"credit_score\",\n      \"properties\": {\n        \"dtype\": \"number\",\n        \"std\": 50,\n        \"min\": 476,\n        \"max\": 850,\n        \"num_unique_values\": 326,\n        \"samples\": [\n          796,\n          756,\n          586\n        ],\n        \"semantic_type\": \"\",\n        \"description\": \"\"\n      }\n    },\n    {\n      \"column\": \"loan_amount\",\n      \"properties\": {\n        \"dtype\": \"number\",\n        \"std\": 9759,\n        \"min\": 5000,\n        \"max\": 50000,\n        \"num_unique_values\": 19717,\n        \"samples\": [\n          33456,\n          18246,\n          21737\n        ],\n        \"semantic_type\": \"\",\n        \"description\": \"\"\n      }\n    },\n    {\n      \"column\": \"loan_term\",\n      \"properties\": {\n        \"dtype\": \"number\",\n        \"std\": 16,\n        \"min\": 12,\n        \"max\": 60,\n        \"num_unique_values\": 5,\n        \"samples\": [\n          12,\n          60,\n          24\n        ],\n        \"semantic_type\": \"\",\n        \"description\": \"\"\n      }\n    },\n    {\n      \"column\": \"employment_length\",\n      \"properties\": {\n        \"dtype\": \"number\",\n        \"std\": 4,\n        \"min\": 0,\n        \"max\": 30,\n        \"num_unique_values\": 31,\n        \"samples\": [\n          26,\n          18,\n          21\n        ],\n        \"semantic_type\": \"\",\n        \"description\": \"\"\n      }\n    },\n    {\n      \"column\": \"existing_debt\",\n      \"properties\": {\n        \"dtype\": \"number\",\n        \"std\": 9803.476548774892,\n        \"min\": 0.0,\n        \"max\": 50000.0,\n        \"num_unique_values\": 29128,\n        \"samples\": [\n          27412.15,\n          37589.09,\n          16816.3\n        ],\n        \"semantic_type\": \"\",\n        \"description\": \"\"\n      }\n    },\n    {\n      \"column\": \"num_credit_lines\",\n      \"properties\": {\n        \"dtype\": \"number\",\n        \"std\": 2,\n        \"min\": 1,\n        \"max\": 15,\n        \"num_unique_values\": 15,\n        \"samples\": [\n          1,\n          2,\n          9\n        ],\n        \"semantic_type\": \"\",\n        \"description\": \"\"\n      }\n    },\n    {\n      \"column\": \"home_ownership\",\n      \"properties\": {\n        \"dtype\": \"category\",\n        \"num_unique_values\": 4,\n        \"samples\": [\n          \"Mortgage\",\n          \"Own\",\n          \"Rent\"\n        ],\n        \"semantic_type\": \"\",\n        \"description\": \"\"\n      }\n    },\n    {\n      \"column\": \"purpose\",\n      \"properties\": {\n        \"dtype\": \"category\",\n        \"num_unique_values\": 5,\n        \"samples\": [\n          \"Personal\",\n          \"Business\",\n          \"Debt Consolidation\"\n        ],\n        \"semantic_type\": \"\",\n        \"description\": \"\"\n      }\n    },\n    {\n      \"column\": \"birth_year\",\n      \"properties\": {\n        \"dtype\": \"number\",\n        \"std\": 15,\n        \"min\": 1950,\n        \"max\": 2004,\n        \"num_unique_values\": 55,\n        \"samples\": [\n          1963,\n          1984,\n          1951\n        ],\n        \"semantic_type\": \"\",\n        \"description\": \"\"\n      }\n    },\n    {\n      \"column\": \"monthly_rent_or_mortgage\",\n      \"properties\": {\n        \"dtype\": \"number\",\n        \"std\": 497,\n        \"min\": 500,\n        \"max\": 3962,\n        \"num_unique_values\": 2534,\n        \"samples\": [\n          740,\n          2904,\n          1495\n        ],\n        \"semantic_type\": \"\",\n        \"description\": \"\"\n      }\n    },\n    {\n      \"column\": \"has_default_last_7yrs\",\n      \"properties\": {\n        \"dtype\": \"number\",\n        \"std\": 0,\n        \"min\": 0,\n        \"max\": 1,\n        \"num_unique_values\": 2,\n        \"samples\": [\n          1,\n          0\n        ],\n        \"semantic_type\": \"\",\n        \"description\": \"\"\n      }\n    },\n    {\n      \"column\": \"loan_approved\",\n      \"properties\": {\n        \"dtype\": \"number\",\n        \"std\": 0,\n        \"min\": 0,\n        \"max\": 1,\n        \"num_unique_values\": 2,\n        \"samples\": [\n          1,\n          0\n        ],\n        \"semantic_type\": \"\",\n        \"description\": \"\"\n      }\n    }\n  ]\n}"
            }
          },
          "metadata": {},
          "execution_count": 21
        }
      ],
      "source": [
        "df_a.head()"
      ]
    },
    {
      "cell_type": "code",
      "execution_count": 22,
      "id": "69acc551-3d72-4333-874c-5496cea2dc43",
      "metadata": {
        "id": "69acc551-3d72-4333-874c-5496cea2dc43",
        "colab": {
          "base_uri": "https://localhost:8080/",
          "height": 188
        },
        "outputId": "29a1f820-fc1a-4d00-9a9b-ff042ba17222"
      },
      "outputs": [
        {
          "output_type": "execute_result",
          "data": {
            "text/plain": [
              "ColumnTransformer(transformers=[('num pipeline',\n",
              "                                 Pipeline(steps=[('impute_missing',\n",
              "                                                  SimpleImputer(strategy='median')),\n",
              "                                                 ('standardize_num',\n",
              "                                                  StandardScaler())]),\n",
              "                                 ['loan_amount', 'loan_term', 'income',\n",
              "                                  'credit_score', 'existing_debt',\n",
              "                                  'monthly_rent_or_mortgage',\n",
              "                                  'num_credit_lines']),\n",
              "                                ('cat pipeline',\n",
              "                                 Pipeline(steps=[('impute_missing_cats',\n",
              "                                                  SimpleImputer(strategy='most_frequent')),\n",
              "                                                 ('create_dummies_cats',\n",
              "                                                  OneHotEncoder(drop='first',\n",
              "                                                                handle_unknown='ignore'))]),\n",
              "                                 ['home_ownership', 'purpose'])])"
            ],
            "text/html": [
              "<style>#sk-container-id-1 {\n",
              "  /* Definition of color scheme common for light and dark mode */\n",
              "  --sklearn-color-text: #000;\n",
              "  --sklearn-color-text-muted: #666;\n",
              "  --sklearn-color-line: gray;\n",
              "  /* Definition of color scheme for unfitted estimators */\n",
              "  --sklearn-color-unfitted-level-0: #fff5e6;\n",
              "  --sklearn-color-unfitted-level-1: #f6e4d2;\n",
              "  --sklearn-color-unfitted-level-2: #ffe0b3;\n",
              "  --sklearn-color-unfitted-level-3: chocolate;\n",
              "  /* Definition of color scheme for fitted estimators */\n",
              "  --sklearn-color-fitted-level-0: #f0f8ff;\n",
              "  --sklearn-color-fitted-level-1: #d4ebff;\n",
              "  --sklearn-color-fitted-level-2: #b3dbfd;\n",
              "  --sklearn-color-fitted-level-3: cornflowerblue;\n",
              "\n",
              "  /* Specific color for light theme */\n",
              "  --sklearn-color-text-on-default-background: var(--sg-text-color, var(--theme-code-foreground, var(--jp-content-font-color1, black)));\n",
              "  --sklearn-color-background: var(--sg-background-color, var(--theme-background, var(--jp-layout-color0, white)));\n",
              "  --sklearn-color-border-box: var(--sg-text-color, var(--theme-code-foreground, var(--jp-content-font-color1, black)));\n",
              "  --sklearn-color-icon: #696969;\n",
              "\n",
              "  @media (prefers-color-scheme: dark) {\n",
              "    /* Redefinition of color scheme for dark theme */\n",
              "    --sklearn-color-text-on-default-background: var(--sg-text-color, var(--theme-code-foreground, var(--jp-content-font-color1, white)));\n",
              "    --sklearn-color-background: var(--sg-background-color, var(--theme-background, var(--jp-layout-color0, #111)));\n",
              "    --sklearn-color-border-box: var(--sg-text-color, var(--theme-code-foreground, var(--jp-content-font-color1, white)));\n",
              "    --sklearn-color-icon: #878787;\n",
              "  }\n",
              "}\n",
              "\n",
              "#sk-container-id-1 {\n",
              "  color: var(--sklearn-color-text);\n",
              "}\n",
              "\n",
              "#sk-container-id-1 pre {\n",
              "  padding: 0;\n",
              "}\n",
              "\n",
              "#sk-container-id-1 input.sk-hidden--visually {\n",
              "  border: 0;\n",
              "  clip: rect(1px 1px 1px 1px);\n",
              "  clip: rect(1px, 1px, 1px, 1px);\n",
              "  height: 1px;\n",
              "  margin: -1px;\n",
              "  overflow: hidden;\n",
              "  padding: 0;\n",
              "  position: absolute;\n",
              "  width: 1px;\n",
              "}\n",
              "\n",
              "#sk-container-id-1 div.sk-dashed-wrapped {\n",
              "  border: 1px dashed var(--sklearn-color-line);\n",
              "  margin: 0 0.4em 0.5em 0.4em;\n",
              "  box-sizing: border-box;\n",
              "  padding-bottom: 0.4em;\n",
              "  background-color: var(--sklearn-color-background);\n",
              "}\n",
              "\n",
              "#sk-container-id-1 div.sk-container {\n",
              "  /* jupyter's `normalize.less` sets `[hidden] { display: none; }`\n",
              "     but bootstrap.min.css set `[hidden] { display: none !important; }`\n",
              "     so we also need the `!important` here to be able to override the\n",
              "     default hidden behavior on the sphinx rendered scikit-learn.org.\n",
              "     See: https://github.com/scikit-learn/scikit-learn/issues/21755 */\n",
              "  display: inline-block !important;\n",
              "  position: relative;\n",
              "}\n",
              "\n",
              "#sk-container-id-1 div.sk-text-repr-fallback {\n",
              "  display: none;\n",
              "}\n",
              "\n",
              "div.sk-parallel-item,\n",
              "div.sk-serial,\n",
              "div.sk-item {\n",
              "  /* draw centered vertical line to link estimators */\n",
              "  background-image: linear-gradient(var(--sklearn-color-text-on-default-background), var(--sklearn-color-text-on-default-background));\n",
              "  background-size: 2px 100%;\n",
              "  background-repeat: no-repeat;\n",
              "  background-position: center center;\n",
              "}\n",
              "\n",
              "/* Parallel-specific style estimator block */\n",
              "\n",
              "#sk-container-id-1 div.sk-parallel-item::after {\n",
              "  content: \"\";\n",
              "  width: 100%;\n",
              "  border-bottom: 2px solid var(--sklearn-color-text-on-default-background);\n",
              "  flex-grow: 1;\n",
              "}\n",
              "\n",
              "#sk-container-id-1 div.sk-parallel {\n",
              "  display: flex;\n",
              "  align-items: stretch;\n",
              "  justify-content: center;\n",
              "  background-color: var(--sklearn-color-background);\n",
              "  position: relative;\n",
              "}\n",
              "\n",
              "#sk-container-id-1 div.sk-parallel-item {\n",
              "  display: flex;\n",
              "  flex-direction: column;\n",
              "}\n",
              "\n",
              "#sk-container-id-1 div.sk-parallel-item:first-child::after {\n",
              "  align-self: flex-end;\n",
              "  width: 50%;\n",
              "}\n",
              "\n",
              "#sk-container-id-1 div.sk-parallel-item:last-child::after {\n",
              "  align-self: flex-start;\n",
              "  width: 50%;\n",
              "}\n",
              "\n",
              "#sk-container-id-1 div.sk-parallel-item:only-child::after {\n",
              "  width: 0;\n",
              "}\n",
              "\n",
              "/* Serial-specific style estimator block */\n",
              "\n",
              "#sk-container-id-1 div.sk-serial {\n",
              "  display: flex;\n",
              "  flex-direction: column;\n",
              "  align-items: center;\n",
              "  background-color: var(--sklearn-color-background);\n",
              "  padding-right: 1em;\n",
              "  padding-left: 1em;\n",
              "}\n",
              "\n",
              "\n",
              "/* Toggleable style: style used for estimator/Pipeline/ColumnTransformer box that is\n",
              "clickable and can be expanded/collapsed.\n",
              "- Pipeline and ColumnTransformer use this feature and define the default style\n",
              "- Estimators will overwrite some part of the style using the `sk-estimator` class\n",
              "*/\n",
              "\n",
              "/* Pipeline and ColumnTransformer style (default) */\n",
              "\n",
              "#sk-container-id-1 div.sk-toggleable {\n",
              "  /* Default theme specific background. It is overwritten whether we have a\n",
              "  specific estimator or a Pipeline/ColumnTransformer */\n",
              "  background-color: var(--sklearn-color-background);\n",
              "}\n",
              "\n",
              "/* Toggleable label */\n",
              "#sk-container-id-1 label.sk-toggleable__label {\n",
              "  cursor: pointer;\n",
              "  display: flex;\n",
              "  width: 100%;\n",
              "  margin-bottom: 0;\n",
              "  padding: 0.5em;\n",
              "  box-sizing: border-box;\n",
              "  text-align: center;\n",
              "  align-items: start;\n",
              "  justify-content: space-between;\n",
              "  gap: 0.5em;\n",
              "}\n",
              "\n",
              "#sk-container-id-1 label.sk-toggleable__label .caption {\n",
              "  font-size: 0.6rem;\n",
              "  font-weight: lighter;\n",
              "  color: var(--sklearn-color-text-muted);\n",
              "}\n",
              "\n",
              "#sk-container-id-1 label.sk-toggleable__label-arrow:before {\n",
              "  /* Arrow on the left of the label */\n",
              "  content: \"▸\";\n",
              "  float: left;\n",
              "  margin-right: 0.25em;\n",
              "  color: var(--sklearn-color-icon);\n",
              "}\n",
              "\n",
              "#sk-container-id-1 label.sk-toggleable__label-arrow:hover:before {\n",
              "  color: var(--sklearn-color-text);\n",
              "}\n",
              "\n",
              "/* Toggleable content - dropdown */\n",
              "\n",
              "#sk-container-id-1 div.sk-toggleable__content {\n",
              "  max-height: 0;\n",
              "  max-width: 0;\n",
              "  overflow: hidden;\n",
              "  text-align: left;\n",
              "  /* unfitted */\n",
              "  background-color: var(--sklearn-color-unfitted-level-0);\n",
              "}\n",
              "\n",
              "#sk-container-id-1 div.sk-toggleable__content.fitted {\n",
              "  /* fitted */\n",
              "  background-color: var(--sklearn-color-fitted-level-0);\n",
              "}\n",
              "\n",
              "#sk-container-id-1 div.sk-toggleable__content pre {\n",
              "  margin: 0.2em;\n",
              "  border-radius: 0.25em;\n",
              "  color: var(--sklearn-color-text);\n",
              "  /* unfitted */\n",
              "  background-color: var(--sklearn-color-unfitted-level-0);\n",
              "}\n",
              "\n",
              "#sk-container-id-1 div.sk-toggleable__content.fitted pre {\n",
              "  /* unfitted */\n",
              "  background-color: var(--sklearn-color-fitted-level-0);\n",
              "}\n",
              "\n",
              "#sk-container-id-1 input.sk-toggleable__control:checked~div.sk-toggleable__content {\n",
              "  /* Expand drop-down */\n",
              "  max-height: 200px;\n",
              "  max-width: 100%;\n",
              "  overflow: auto;\n",
              "}\n",
              "\n",
              "#sk-container-id-1 input.sk-toggleable__control:checked~label.sk-toggleable__label-arrow:before {\n",
              "  content: \"▾\";\n",
              "}\n",
              "\n",
              "/* Pipeline/ColumnTransformer-specific style */\n",
              "\n",
              "#sk-container-id-1 div.sk-label input.sk-toggleable__control:checked~label.sk-toggleable__label {\n",
              "  color: var(--sklearn-color-text);\n",
              "  background-color: var(--sklearn-color-unfitted-level-2);\n",
              "}\n",
              "\n",
              "#sk-container-id-1 div.sk-label.fitted input.sk-toggleable__control:checked~label.sk-toggleable__label {\n",
              "  background-color: var(--sklearn-color-fitted-level-2);\n",
              "}\n",
              "\n",
              "/* Estimator-specific style */\n",
              "\n",
              "/* Colorize estimator box */\n",
              "#sk-container-id-1 div.sk-estimator input.sk-toggleable__control:checked~label.sk-toggleable__label {\n",
              "  /* unfitted */\n",
              "  background-color: var(--sklearn-color-unfitted-level-2);\n",
              "}\n",
              "\n",
              "#sk-container-id-1 div.sk-estimator.fitted input.sk-toggleable__control:checked~label.sk-toggleable__label {\n",
              "  /* fitted */\n",
              "  background-color: var(--sklearn-color-fitted-level-2);\n",
              "}\n",
              "\n",
              "#sk-container-id-1 div.sk-label label.sk-toggleable__label,\n",
              "#sk-container-id-1 div.sk-label label {\n",
              "  /* The background is the default theme color */\n",
              "  color: var(--sklearn-color-text-on-default-background);\n",
              "}\n",
              "\n",
              "/* On hover, darken the color of the background */\n",
              "#sk-container-id-1 div.sk-label:hover label.sk-toggleable__label {\n",
              "  color: var(--sklearn-color-text);\n",
              "  background-color: var(--sklearn-color-unfitted-level-2);\n",
              "}\n",
              "\n",
              "/* Label box, darken color on hover, fitted */\n",
              "#sk-container-id-1 div.sk-label.fitted:hover label.sk-toggleable__label.fitted {\n",
              "  color: var(--sklearn-color-text);\n",
              "  background-color: var(--sklearn-color-fitted-level-2);\n",
              "}\n",
              "\n",
              "/* Estimator label */\n",
              "\n",
              "#sk-container-id-1 div.sk-label label {\n",
              "  font-family: monospace;\n",
              "  font-weight: bold;\n",
              "  display: inline-block;\n",
              "  line-height: 1.2em;\n",
              "}\n",
              "\n",
              "#sk-container-id-1 div.sk-label-container {\n",
              "  text-align: center;\n",
              "}\n",
              "\n",
              "/* Estimator-specific */\n",
              "#sk-container-id-1 div.sk-estimator {\n",
              "  font-family: monospace;\n",
              "  border: 1px dotted var(--sklearn-color-border-box);\n",
              "  border-radius: 0.25em;\n",
              "  box-sizing: border-box;\n",
              "  margin-bottom: 0.5em;\n",
              "  /* unfitted */\n",
              "  background-color: var(--sklearn-color-unfitted-level-0);\n",
              "}\n",
              "\n",
              "#sk-container-id-1 div.sk-estimator.fitted {\n",
              "  /* fitted */\n",
              "  background-color: var(--sklearn-color-fitted-level-0);\n",
              "}\n",
              "\n",
              "/* on hover */\n",
              "#sk-container-id-1 div.sk-estimator:hover {\n",
              "  /* unfitted */\n",
              "  background-color: var(--sklearn-color-unfitted-level-2);\n",
              "}\n",
              "\n",
              "#sk-container-id-1 div.sk-estimator.fitted:hover {\n",
              "  /* fitted */\n",
              "  background-color: var(--sklearn-color-fitted-level-2);\n",
              "}\n",
              "\n",
              "/* Specification for estimator info (e.g. \"i\" and \"?\") */\n",
              "\n",
              "/* Common style for \"i\" and \"?\" */\n",
              "\n",
              ".sk-estimator-doc-link,\n",
              "a:link.sk-estimator-doc-link,\n",
              "a:visited.sk-estimator-doc-link {\n",
              "  float: right;\n",
              "  font-size: smaller;\n",
              "  line-height: 1em;\n",
              "  font-family: monospace;\n",
              "  background-color: var(--sklearn-color-background);\n",
              "  border-radius: 1em;\n",
              "  height: 1em;\n",
              "  width: 1em;\n",
              "  text-decoration: none !important;\n",
              "  margin-left: 0.5em;\n",
              "  text-align: center;\n",
              "  /* unfitted */\n",
              "  border: var(--sklearn-color-unfitted-level-1) 1pt solid;\n",
              "  color: var(--sklearn-color-unfitted-level-1);\n",
              "}\n",
              "\n",
              ".sk-estimator-doc-link.fitted,\n",
              "a:link.sk-estimator-doc-link.fitted,\n",
              "a:visited.sk-estimator-doc-link.fitted {\n",
              "  /* fitted */\n",
              "  border: var(--sklearn-color-fitted-level-1) 1pt solid;\n",
              "  color: var(--sklearn-color-fitted-level-1);\n",
              "}\n",
              "\n",
              "/* On hover */\n",
              "div.sk-estimator:hover .sk-estimator-doc-link:hover,\n",
              ".sk-estimator-doc-link:hover,\n",
              "div.sk-label-container:hover .sk-estimator-doc-link:hover,\n",
              ".sk-estimator-doc-link:hover {\n",
              "  /* unfitted */\n",
              "  background-color: var(--sklearn-color-unfitted-level-3);\n",
              "  color: var(--sklearn-color-background);\n",
              "  text-decoration: none;\n",
              "}\n",
              "\n",
              "div.sk-estimator.fitted:hover .sk-estimator-doc-link.fitted:hover,\n",
              ".sk-estimator-doc-link.fitted:hover,\n",
              "div.sk-label-container:hover .sk-estimator-doc-link.fitted:hover,\n",
              ".sk-estimator-doc-link.fitted:hover {\n",
              "  /* fitted */\n",
              "  background-color: var(--sklearn-color-fitted-level-3);\n",
              "  color: var(--sklearn-color-background);\n",
              "  text-decoration: none;\n",
              "}\n",
              "\n",
              "/* Span, style for the box shown on hovering the info icon */\n",
              ".sk-estimator-doc-link span {\n",
              "  display: none;\n",
              "  z-index: 9999;\n",
              "  position: relative;\n",
              "  font-weight: normal;\n",
              "  right: .2ex;\n",
              "  padding: .5ex;\n",
              "  margin: .5ex;\n",
              "  width: min-content;\n",
              "  min-width: 20ex;\n",
              "  max-width: 50ex;\n",
              "  color: var(--sklearn-color-text);\n",
              "  box-shadow: 2pt 2pt 4pt #999;\n",
              "  /* unfitted */\n",
              "  background: var(--sklearn-color-unfitted-level-0);\n",
              "  border: .5pt solid var(--sklearn-color-unfitted-level-3);\n",
              "}\n",
              "\n",
              ".sk-estimator-doc-link.fitted span {\n",
              "  /* fitted */\n",
              "  background: var(--sklearn-color-fitted-level-0);\n",
              "  border: var(--sklearn-color-fitted-level-3);\n",
              "}\n",
              "\n",
              ".sk-estimator-doc-link:hover span {\n",
              "  display: block;\n",
              "}\n",
              "\n",
              "/* \"?\"-specific style due to the `<a>` HTML tag */\n",
              "\n",
              "#sk-container-id-1 a.estimator_doc_link {\n",
              "  float: right;\n",
              "  font-size: 1rem;\n",
              "  line-height: 1em;\n",
              "  font-family: monospace;\n",
              "  background-color: var(--sklearn-color-background);\n",
              "  border-radius: 1rem;\n",
              "  height: 1rem;\n",
              "  width: 1rem;\n",
              "  text-decoration: none;\n",
              "  /* unfitted */\n",
              "  color: var(--sklearn-color-unfitted-level-1);\n",
              "  border: var(--sklearn-color-unfitted-level-1) 1pt solid;\n",
              "}\n",
              "\n",
              "#sk-container-id-1 a.estimator_doc_link.fitted {\n",
              "  /* fitted */\n",
              "  border: var(--sklearn-color-fitted-level-1) 1pt solid;\n",
              "  color: var(--sklearn-color-fitted-level-1);\n",
              "}\n",
              "\n",
              "/* On hover */\n",
              "#sk-container-id-1 a.estimator_doc_link:hover {\n",
              "  /* unfitted */\n",
              "  background-color: var(--sklearn-color-unfitted-level-3);\n",
              "  color: var(--sklearn-color-background);\n",
              "  text-decoration: none;\n",
              "}\n",
              "\n",
              "#sk-container-id-1 a.estimator_doc_link.fitted:hover {\n",
              "  /* fitted */\n",
              "  background-color: var(--sklearn-color-fitted-level-3);\n",
              "}\n",
              "</style><div id=\"sk-container-id-1\" class=\"sk-top-container\"><div class=\"sk-text-repr-fallback\"><pre>ColumnTransformer(transformers=[(&#x27;num pipeline&#x27;,\n",
              "                                 Pipeline(steps=[(&#x27;impute_missing&#x27;,\n",
              "                                                  SimpleImputer(strategy=&#x27;median&#x27;)),\n",
              "                                                 (&#x27;standardize_num&#x27;,\n",
              "                                                  StandardScaler())]),\n",
              "                                 [&#x27;loan_amount&#x27;, &#x27;loan_term&#x27;, &#x27;income&#x27;,\n",
              "                                  &#x27;credit_score&#x27;, &#x27;existing_debt&#x27;,\n",
              "                                  &#x27;monthly_rent_or_mortgage&#x27;,\n",
              "                                  &#x27;num_credit_lines&#x27;]),\n",
              "                                (&#x27;cat pipeline&#x27;,\n",
              "                                 Pipeline(steps=[(&#x27;impute_missing_cats&#x27;,\n",
              "                                                  SimpleImputer(strategy=&#x27;most_frequent&#x27;)),\n",
              "                                                 (&#x27;create_dummies_cats&#x27;,\n",
              "                                                  OneHotEncoder(drop=&#x27;first&#x27;,\n",
              "                                                                handle_unknown=&#x27;ignore&#x27;))]),\n",
              "                                 [&#x27;home_ownership&#x27;, &#x27;purpose&#x27;])])</pre><b>In a Jupyter environment, please rerun this cell to show the HTML representation or trust the notebook. <br />On GitHub, the HTML representation is unable to render, please try loading this page with nbviewer.org.</b></div><div class=\"sk-container\" hidden><div class=\"sk-item sk-dashed-wrapped\"><div class=\"sk-label-container\"><div class=\"sk-label  sk-toggleable\"><input class=\"sk-toggleable__control sk-hidden--visually\" id=\"sk-estimator-id-1\" type=\"checkbox\" ><label for=\"sk-estimator-id-1\" class=\"sk-toggleable__label  sk-toggleable__label-arrow\"><div><div>ColumnTransformer</div></div><div><a class=\"sk-estimator-doc-link \" rel=\"noreferrer\" target=\"_blank\" href=\"https://scikit-learn.org/1.6/modules/generated/sklearn.compose.ColumnTransformer.html\">?<span>Documentation for ColumnTransformer</span></a><span class=\"sk-estimator-doc-link \">i<span>Not fitted</span></span></div></label><div class=\"sk-toggleable__content \"><pre>ColumnTransformer(transformers=[(&#x27;num pipeline&#x27;,\n",
              "                                 Pipeline(steps=[(&#x27;impute_missing&#x27;,\n",
              "                                                  SimpleImputer(strategy=&#x27;median&#x27;)),\n",
              "                                                 (&#x27;standardize_num&#x27;,\n",
              "                                                  StandardScaler())]),\n",
              "                                 [&#x27;loan_amount&#x27;, &#x27;loan_term&#x27;, &#x27;income&#x27;,\n",
              "                                  &#x27;credit_score&#x27;, &#x27;existing_debt&#x27;,\n",
              "                                  &#x27;monthly_rent_or_mortgage&#x27;,\n",
              "                                  &#x27;num_credit_lines&#x27;]),\n",
              "                                (&#x27;cat pipeline&#x27;,\n",
              "                                 Pipeline(steps=[(&#x27;impute_missing_cats&#x27;,\n",
              "                                                  SimpleImputer(strategy=&#x27;most_frequent&#x27;)),\n",
              "                                                 (&#x27;create_dummies_cats&#x27;,\n",
              "                                                  OneHotEncoder(drop=&#x27;first&#x27;,\n",
              "                                                                handle_unknown=&#x27;ignore&#x27;))]),\n",
              "                                 [&#x27;home_ownership&#x27;, &#x27;purpose&#x27;])])</pre></div> </div></div><div class=\"sk-parallel\"><div class=\"sk-parallel-item\"><div class=\"sk-item\"><div class=\"sk-label-container\"><div class=\"sk-label  sk-toggleable\"><input class=\"sk-toggleable__control sk-hidden--visually\" id=\"sk-estimator-id-2\" type=\"checkbox\" ><label for=\"sk-estimator-id-2\" class=\"sk-toggleable__label  sk-toggleable__label-arrow\"><div><div>num pipeline</div></div></label><div class=\"sk-toggleable__content \"><pre>[&#x27;loan_amount&#x27;, &#x27;loan_term&#x27;, &#x27;income&#x27;, &#x27;credit_score&#x27;, &#x27;existing_debt&#x27;, &#x27;monthly_rent_or_mortgage&#x27;, &#x27;num_credit_lines&#x27;]</pre></div> </div></div><div class=\"sk-serial\"><div class=\"sk-item\"><div class=\"sk-serial\"><div class=\"sk-item\"><div class=\"sk-estimator  sk-toggleable\"><input class=\"sk-toggleable__control sk-hidden--visually\" id=\"sk-estimator-id-3\" type=\"checkbox\" ><label for=\"sk-estimator-id-3\" class=\"sk-toggleable__label  sk-toggleable__label-arrow\"><div><div>SimpleImputer</div></div><div><a class=\"sk-estimator-doc-link \" rel=\"noreferrer\" target=\"_blank\" href=\"https://scikit-learn.org/1.6/modules/generated/sklearn.impute.SimpleImputer.html\">?<span>Documentation for SimpleImputer</span></a></div></label><div class=\"sk-toggleable__content \"><pre>SimpleImputer(strategy=&#x27;median&#x27;)</pre></div> </div></div><div class=\"sk-item\"><div class=\"sk-estimator  sk-toggleable\"><input class=\"sk-toggleable__control sk-hidden--visually\" id=\"sk-estimator-id-4\" type=\"checkbox\" ><label for=\"sk-estimator-id-4\" class=\"sk-toggleable__label  sk-toggleable__label-arrow\"><div><div>StandardScaler</div></div><div><a class=\"sk-estimator-doc-link \" rel=\"noreferrer\" target=\"_blank\" href=\"https://scikit-learn.org/1.6/modules/generated/sklearn.preprocessing.StandardScaler.html\">?<span>Documentation for StandardScaler</span></a></div></label><div class=\"sk-toggleable__content \"><pre>StandardScaler()</pre></div> </div></div></div></div></div></div></div><div class=\"sk-parallel-item\"><div class=\"sk-item\"><div class=\"sk-label-container\"><div class=\"sk-label  sk-toggleable\"><input class=\"sk-toggleable__control sk-hidden--visually\" id=\"sk-estimator-id-5\" type=\"checkbox\" ><label for=\"sk-estimator-id-5\" class=\"sk-toggleable__label  sk-toggleable__label-arrow\"><div><div>cat pipeline</div></div></label><div class=\"sk-toggleable__content \"><pre>[&#x27;home_ownership&#x27;, &#x27;purpose&#x27;]</pre></div> </div></div><div class=\"sk-serial\"><div class=\"sk-item\"><div class=\"sk-serial\"><div class=\"sk-item\"><div class=\"sk-estimator  sk-toggleable\"><input class=\"sk-toggleable__control sk-hidden--visually\" id=\"sk-estimator-id-6\" type=\"checkbox\" ><label for=\"sk-estimator-id-6\" class=\"sk-toggleable__label  sk-toggleable__label-arrow\"><div><div>SimpleImputer</div></div><div><a class=\"sk-estimator-doc-link \" rel=\"noreferrer\" target=\"_blank\" href=\"https://scikit-learn.org/1.6/modules/generated/sklearn.impute.SimpleImputer.html\">?<span>Documentation for SimpleImputer</span></a></div></label><div class=\"sk-toggleable__content \"><pre>SimpleImputer(strategy=&#x27;most_frequent&#x27;)</pre></div> </div></div><div class=\"sk-item\"><div class=\"sk-estimator  sk-toggleable\"><input class=\"sk-toggleable__control sk-hidden--visually\" id=\"sk-estimator-id-7\" type=\"checkbox\" ><label for=\"sk-estimator-id-7\" class=\"sk-toggleable__label  sk-toggleable__label-arrow\"><div><div>OneHotEncoder</div></div><div><a class=\"sk-estimator-doc-link \" rel=\"noreferrer\" target=\"_blank\" href=\"https://scikit-learn.org/1.6/modules/generated/sklearn.preprocessing.OneHotEncoder.html\">?<span>Documentation for OneHotEncoder</span></a></div></label><div class=\"sk-toggleable__content \"><pre>OneHotEncoder(drop=&#x27;first&#x27;, handle_unknown=&#x27;ignore&#x27;)</pre></div> </div></div></div></div></div></div></div></div></div></div></div>"
            ]
          },
          "metadata": {},
          "execution_count": 22
        }
      ],
      "source": [
        "# Selecting the features\n",
        "Features = ['loan_amount','loan_term','income','credit_score','home_ownership','purpose','existing_debt','num_credit_lines','monthly_rent_or_mortgage']\n",
        "\n",
        "cat_features = ['home_ownership','purpose']\n",
        "num_features = ['loan_amount','loan_term','income','credit_score','existing_debt','monthly_rent_or_mortgage','num_credit_lines']\n",
        "\n",
        "# Pipeline Creation\n",
        "from sklearn.pipeline import Pipeline\n",
        "from sklearn.compose import ColumnTransformer\n",
        "from sklearn.impute import SimpleImputer\n",
        "from sklearn.preprocessing import OneHotEncoder\n",
        "from sklearn.preprocessing import StandardScaler\n",
        "\n",
        "num_pipeline = Pipeline([('impute_missing', SimpleImputer(strategy='median')),\n",
        "                           ('standardize_num', StandardScaler())\n",
        "                        ])\n",
        "\n",
        "cat_pipeline = Pipeline([('impute_missing_cats', SimpleImputer(strategy='most_frequent')),\n",
        "                          ('create_dummies_cats', OneHotEncoder(handle_unknown='ignore', drop='first'))])\n",
        "\n",
        "processing_pipeline = ColumnTransformer(transformers=[('num pipeline', num_pipeline, num_features),\n",
        "                                                      ('cat pipeline', cat_pipeline, cat_features)])\n",
        "\n",
        "processing_pipeline"
      ]
    },
    {
      "cell_type": "markdown",
      "source": [
        "# LOGISTIC REGRESSION AND RANDOM FOREST"
      ],
      "metadata": {
        "id": "1KhmFftd0_vo"
      },
      "id": "1KhmFftd0_vo"
    },
    {
      "cell_type": "markdown",
      "source": [
        "We have built ML models to predict loan approvals.\n",
        "-  ⁠We are checking which algorithm works the best.\n",
        "-  Imbalanced data set: The model may favor approval more than rejection.\n"
      ],
      "metadata": {
        "id": "AN7ntctCFnkK"
      },
      "id": "AN7ntctCFnkK"
    },
    {
      "cell_type": "code",
      "execution_count": 23,
      "id": "f719b089-70eb-4807-9e77-69aa152a87c9",
      "metadata": {
        "id": "f719b089-70eb-4807-9e77-69aa152a87c9",
        "colab": {
          "base_uri": "https://localhost:8080/"
        },
        "outputId": "b243f8cb-277d-404c-9d81-4f72cda4a9c4"
      },
      "outputs": [
        {
          "output_type": "stream",
          "name": "stderr",
          "text": [
            "<ipython-input-23-491094e14a20>:11: DeprecationWarning: DataFrameGroupBy.apply operated on the grouping columns. This behavior is deprecated, and in a future version of pandas the grouping columns will be excluded from the operation. Either pass `include_groups=False` to exclude the groupings or explicitly select the grouping columns after groupby to silence this warning.\n",
            "  balanced_df = df_a.groupby('loan_approved').apply(lambda x: x.sample(sample_size)).reset_index(drop=True)\n"
          ]
        }
      ],
      "source": [
        "import pandas as pd\n",
        "from sklearn.model_selection import train_test_split, cross_val_score\n",
        "from sklearn.linear_model import LogisticRegression\n",
        "from sklearn.ensemble import RandomForestClassifier\n",
        "\n",
        "X = df_a[['loan_amount','loan_term','income','credit_score','home_ownership','purpose','existing_debt','monthly_rent_or_mortgage','num_credit_lines']]\n",
        "y = df_a['loan_approved']\n",
        "\n",
        "# Creating a balanced sample with equal cases of the target variable\n",
        "sample_size = min(df_a['loan_approved'].value_counts())\n",
        "balanced_df = df_a.groupby('loan_approved').apply(lambda x: x.sample(sample_size)).reset_index(drop=True)\n",
        "\n",
        "# Splitting the balanced sample into features and target variable\n",
        "X_balanced = balanced_df[['loan_amount','loan_term','income','credit_score','home_ownership','purpose','existing_debt','monthly_rent_or_mortgage','num_credit_lines']]\n",
        "y_balanced = balanced_df['loan_approved']\n",
        "\n",
        "# Splitting the balanced sample into training and testing sets\n",
        "X_train, X_test, y_train, y_test = train_test_split(X_balanced, y_balanced, test_size=0.2, random_state=42)\n",
        "\n",
        "\n",
        "# Logistic Regression\n",
        "logreg_pipeline = Pipeline([('preprocessing', processing_pipeline),\n",
        "                             ('logreg', LogisticRegression())])\n",
        "\n",
        "# Random Forest\n",
        "rf_pipeline = Pipeline([('preprocessing', processing_pipeline),\n",
        "                        ('rf', RandomForestClassifier())])\n",
        "\n"
      ]
    },
    {
      "cell_type": "markdown",
      "source": [
        "# CROSS VALIDATION ; LOGISTIC REGRESSION AND RANDOM FOREST"
      ],
      "metadata": {
        "id": "qJ6t54O7Hqov"
      },
      "id": "qJ6t54O7Hqov"
    },
    {
      "cell_type": "code",
      "source": [
        "from sklearn.model_selection import cross_val_score\n",
        "from sklearn.linear_model import LogisticRegression\n",
        "from sklearn.ensemble import RandomForestClassifier\n",
        "\n",
        "# Defining the models\n",
        "logistic_regression = LogisticRegression()\n",
        "random_forest = RandomForestClassifier()\n",
        "\n",
        "logistic_regression_pipeline = Pipeline([\n",
        "    ('preprocessing', processing_pipeline),\n",
        "    ('classifier', logistic_regression)\n",
        "])\n",
        "\n",
        "random_forest_pipeline = Pipeline([\n",
        "    ('preprocessing', processing_pipeline),\n",
        "    ('classifier', random_forest)\n",
        "])\n",
        "\n",
        "X = df_a[['loan_amount','loan_term','income','credit_score','home_ownership','purpose','existing_debt','monthly_rent_or_mortgage','num_credit_lines']]\n",
        "y = df_a['loan_approved']\n",
        "# Perform cross-validation\n",
        "logistic_regression_cv_scores = cross_val_score(logistic_regression_pipeline, X, y, cv=5, scoring='precision')\n",
        "random_forest_cv_scores = cross_val_score(random_forest_pipeline, X, y, cv=5, scoring='precision')\n",
        "\n",
        "# Print the mean cross-validation scores\n",
        "print(\"Logistic Regression CV Scores:\", logistic_regression_cv_scores.mean())\n",
        "print(\"Random Forest CV Scores:\", random_forest_cv_scores.mean())"
      ],
      "metadata": {
        "colab": {
          "base_uri": "https://localhost:8080/"
        },
        "id": "oFSxQPOwHoZk",
        "outputId": "0a14ebe6-5e19-43ea-fae4-3ec629c28dbe"
      },
      "id": "oFSxQPOwHoZk",
      "execution_count": 27,
      "outputs": [
        {
          "output_type": "stream",
          "name": "stdout",
          "text": [
            "Logistic Regression CV Scores: 0.8639249143801278\n",
            "Random Forest CV Scores: 0.9031049758169264\n"
          ]
        }
      ]
    },
    {
      "cell_type": "markdown",
      "source": [
        "# EVALUATION USING LOGISTIC REGRESSION AND RANDOM FOREST"
      ],
      "metadata": {
        "id": "faKvxHSx1Vwg"
      },
      "id": "faKvxHSx1Vwg"
    },
    {
      "cell_type": "code",
      "execution_count": 28,
      "id": "872f164f-a677-4603-a35d-18c8178a5969",
      "metadata": {
        "id": "872f164f-a677-4603-a35d-18c8178a5969",
        "colab": {
          "base_uri": "https://localhost:8080/"
        },
        "outputId": "a2a74844-def0-4a11-8b7b-3370285fc4da"
      },
      "outputs": [
        {
          "output_type": "stream",
          "name": "stdout",
          "text": [
            "Logistic Regression Evaluation Metrics:\n",
            "Accuracy: 0.8403\n",
            "Precision: 0.8639216162597676\n",
            "Recall: 0.9371925509486999\n",
            "F1 Score: 0.8990667200370784\n",
            "\n",
            "Random Forest Evaluation Metrics:\n",
            "Accuracy: 0.8783\n",
            "Precision: 0.9039087259666174\n",
            "Recall: 0.9395203794799719\n",
            "F1 Score: 0.9213705769603515\n"
          ]
        }
      ],
      "source": [
        "from sklearn.metrics import accuracy_score, precision_score, recall_score, f1_score\n",
        "from sklearn.model_selection import cross_val_predict\n",
        "\n",
        "# Make predictions using cross-validated logistic regression and random forest models\n",
        "logistic_regression_cv_preds = cross_val_predict(logreg_pipeline, X, y, cv=5)\n",
        "random_forest_cv_preds = cross_val_predict(rf_pipeline, X, y, cv=5)\n",
        "\n",
        "logistic_regression_accuracy = accuracy_score(y, logistic_regression_cv_preds)\n",
        "logistic_regression_precision = precision_score(y, logistic_regression_cv_preds)\n",
        "logistic_regression_recall = recall_score(y, logistic_regression_cv_preds)\n",
        "logistic_regression_f1 = f1_score(y, logistic_regression_cv_preds)\n",
        "\n",
        "# Calculate evaluation metrics for random forest\n",
        "random_forest_accuracy = accuracy_score(y, random_forest_cv_preds)\n",
        "random_forest_precision = precision_score(y, random_forest_cv_preds)\n",
        "random_forest_recall = recall_score(y, random_forest_cv_preds)\n",
        "random_forest_f1 = f1_score(y, random_forest_cv_preds)\n",
        "\n",
        "# Print evaluation metrics\n",
        "print(\"Logistic Regression Evaluation Metrics:\")\n",
        "print(\"Accuracy:\", logistic_regression_accuracy)\n",
        "print(\"Precision:\", logistic_regression_precision)\n",
        "print(\"Recall:\", logistic_regression_recall)\n",
        "print(\"F1 Score:\", logistic_regression_f1)\n",
        "print()\n",
        "\n",
        "print(\"Random Forest Evaluation Metrics:\")\n",
        "print(\"Accuracy:\", random_forest_accuracy)\n",
        "print(\"Precision:\", random_forest_precision)\n",
        "print(\"Recall:\", random_forest_recall)\n",
        "print(\"F1 Score:\", random_forest_f1)"
      ]
    },
    {
      "cell_type": "code",
      "execution_count": 29,
      "id": "572b3e1f-7d79-4b77-902f-8c1ceace1f2b",
      "metadata": {
        "id": "572b3e1f-7d79-4b77-902f-8c1ceace1f2b",
        "colab": {
          "base_uri": "https://localhost:8080/",
          "height": 472
        },
        "outputId": "defae05b-2177-4b70-a6f9-5623528438d0"
      },
      "outputs": [
        {
          "output_type": "display_data",
          "data": {
            "text/plain": [
              "<Figure size 640x480 with 1 Axes>"
            ],
            "image/png": "[encoded data removed]"
          },
          "metadata": {}
        }
      ],
      "source": [
        "from sklearn.metrics import roc_curve, roc_auc_score\n",
        "import matplotlib.pyplot as plt\n",
        "\n",
        "# Calculate predicted probabilities for logistic regression and random forest models\n",
        "logistic_regression_cv_probs = cross_val_predict(logreg_pipeline, X, y, cv=5, method='predict_proba')[:, 1]\n",
        "random_forest_cv_probs = cross_val_predict(rf_pipeline, X, y, cv=5, method='predict_proba')[:, 1]\n",
        "\n",
        "# Calculate ROC curve and AUC for logistic regression\n",
        "logistic_regression_fpr, logistic_regression_tpr, _ = roc_curve(y, logistic_regression_cv_probs)\n",
        "logistic_regression_auc = roc_auc_score(y, logistic_regression_cv_probs)\n",
        "\n",
        "# Calculate ROC curve and AUC for random forest\n",
        "random_forest_fpr, random_forest_tpr, _ = roc_curve(y, random_forest_cv_probs)\n",
        "random_forest_auc = roc_auc_score(y, random_forest_cv_probs)\n",
        "\n",
        "# Plot ROC curve for logistic regression\n",
        "plt.plot(logistic_regression_fpr, logistic_regression_tpr, label='Logistic Regression (AUC = %0.2f)' % logistic_regression_auc)\n",
        "\n",
        "# Plot ROC curve for random forest\n",
        "plt.plot(random_forest_fpr, random_forest_tpr, label='Random Forest (AUC = %0.2f)' % random_forest_auc)\n",
        "\n",
        "# Plot ROC curve for random guessing (baseline)\n",
        "plt.plot([0, 1], [0, 1], linestyle='--', color='grey', label='Random Guessing')\n",
        "\n",
        "# Set plot labels and title\n",
        "plt.xlabel('False Positive Rate')\n",
        "plt.ylabel('True Positive Rate')\n",
        "plt.title('ROC Curve')\n",
        "plt.legend()\n",
        "plt.show()"
      ]
    },
    {
      "cell_type": "markdown",
      "source": [
        "From the graph we can say that the model performance is great, and random forest gives best result than the logistic regression in prediction the approval and rejected applications."
      ],
      "metadata": {
        "id": "oWwHUiMF3KbL"
      },
      "id": "oWwHUiMF3KbL"
    },
    {
      "cell_type": "markdown",
      "source": [
        "In conclusion\n",
        "-  ⁠⁠Credit score & income helps predict approvals but they are not the only factors\n",
        "-  ⁠Owning home doest gurantee aproval\n",
        "- Loan purpose does matters for example the Business loans are risker and less likely to get approved."
      ],
      "metadata": {
        "id": "Y842ugtp59p6"
      },
      "id": "Y842ugtp59p6"
    },
    {
      "cell_type": "markdown",
      "source": [
        "# Logistic Regression Evaluation metrics\n",
        "\n",
        "- Accuracy: 0.8403\n",
        "- Precision: 0.8639216162597676\n",
        "- Recall: 0.9371925509486999\n",
        "- F1 Score: 0.8990667200370784\n",
        "\n"
      ],
      "metadata": {
        "id": "jVMXciL01Cap"
      },
      "id": "jVMXciL01Cap"
    },
    {
      "cell_type": "markdown",
      "source": [
        "# Random Forest Evaluation Metrics\n",
        "\n",
        "- Accuracy: 0.8789333333333333\n",
        "- Precision: 0.903883495145631\n",
        "- Recall: 0.9404866479269149\n",
        "- F1 Score: 0.9218218606052779"
      ],
      "metadata": {
        "id": "L3o9tS_b7U1V"
      },
      "id": "L3o9tS_b7U1V"
    }
  ],
  "metadata": {
    "kernelspec": {
      "display_name": "Python 3 (ipykernel)",
      "language": "python",
      "name": "python3"
    },
    "language_info": {
      "codemirror_mode": {
        "name": "ipython",
        "version": 3
      },
      "file_extension": ".py",
      "mimetype": "text/x-python",
      "name": "python",
      "nbconvert_exporter": "python",
      "pygments_lexer": "ipython3",
      "version": "3.12.4"
    },
    "colab": {
      "provenance": []
    }
  },
  "nbformat": 4,
  "nbformat_minor": 5
}