{
  "cells": [
    {
      "cell_type": "markdown",
      "metadata": {
        "id": "kmw5HZLuGjF1"
      },
      "source": [
        "# Homework  \n",
        "Data documentation: https://tidyr.tidyverse.org/reference/who.html\n",
        "\n",
        "__Directions:__ Answer the three questions below. Create as many code/markdown blocks necessary to answer the questions."
      ]
    },
    {
      "cell_type": "code",
      "execution_count": 30,
      "metadata": {
        "id": "QRRMaYMKGjF4"
      },
      "outputs": [],
      "source": [
        "import pandas as pd\n",
        "import numpy as np\n",
        "import matplotlib.pyplot as plt\n",
        "%matplotlib inline\n",
        "import seaborn as sns\n",
        "import regex as re\n",
        "\n",
        "df = pd.read_csv('https://raw.githubusercontent.com/msaricaumbc/DS_data/master/ds602/who.csv')"
      ]
    },
    {
      "cell_type": "code",
      "execution_count": 31,
      "metadata": {
        "id": "AZGCay5DGjF5",
        "colab": {
          "base_uri": "https://localhost:8080/",
          "height": 255
        },
        "outputId": "1271b2b1-8004-4f7f-bba4-7e6707cb2935"
      },
      "outputs": [
        {
          "output_type": "execute_result",
          "data": {
            "text/plain": [
              "       country iso2 iso3  year  new_sp_m014  new_sp_m1524  new_sp_m2534  \\\n",
              "0  Afghanistan   AF  AFG  1980          NaN           NaN           NaN   \n",
              "1  Afghanistan   AF  AFG  1981          NaN           NaN           NaN   \n",
              "2  Afghanistan   AF  AFG  1982          NaN           NaN           NaN   \n",
              "3  Afghanistan   AF  AFG  1983          NaN           NaN           NaN   \n",
              "4  Afghanistan   AF  AFG  1984          NaN           NaN           NaN   \n",
              "\n",
              "   new_sp_m3544  new_sp_m4554  new_sp_m5564  ...  newrel_m4554  newrel_m5564  \\\n",
              "0           NaN           NaN           NaN  ...           NaN           NaN   \n",
              "1           NaN           NaN           NaN  ...           NaN           NaN   \n",
              "2           NaN           NaN           NaN  ...           NaN           NaN   \n",
              "3           NaN           NaN           NaN  ...           NaN           NaN   \n",
              "4           NaN           NaN           NaN  ...           NaN           NaN   \n",
              "\n",
              "   newrel_m65  newrel_f014  newrel_f1524  newrel_f2534  newrel_f3544  \\\n",
              "0         NaN          NaN           NaN           NaN           NaN   \n",
              "1         NaN          NaN           NaN           NaN           NaN   \n",
              "2         NaN          NaN           NaN           NaN           NaN   \n",
              "3         NaN          NaN           NaN           NaN           NaN   \n",
              "4         NaN          NaN           NaN           NaN           NaN   \n",
              "\n",
              "   newrel_f4554  newrel_f5564  newrel_f65  \n",
              "0           NaN           NaN         NaN  \n",
              "1           NaN           NaN         NaN  \n",
              "2           NaN           NaN         NaN  \n",
              "3           NaN           NaN         NaN  \n",
              "4           NaN           NaN         NaN  \n",
              "\n",
              "[5 rows x 60 columns]"
            ],
            "text/html": [
              "\n",
              "  <div id=\"df-47f2e61b-9850-4da9-be8e-2956481377d4\" class=\"colab-df-container\">\n",
              "    <div>\n",
              "<style scoped>\n",
              "    .dataframe tbody tr th:only-of-type {\n",
              "        vertical-align: middle;\n",
              "    }\n",
              "\n",
              "    .dataframe tbody tr th {\n",
              "        vertical-align: top;\n",
              "    }\n",
              "\n",
              "    .dataframe thead th {\n",
              "        text-align: right;\n",
              "    }\n",
              "</style>\n",
              "<table border=\"1\" class=\"dataframe\">\n",
              "  <thead>\n",
              "    <tr style=\"text-align: right;\">\n",
              "      <th></th>\n",
              "      <th>country</th>\n",
              "      <th>iso2</th>\n",
              "      <th>iso3</th>\n",
              "      <th>year</th>\n",
              "      <th>new_sp_m014</th>\n",
              "      <th>new_sp_m1524</th>\n",
              "      <th>new_sp_m2534</th>\n",
              "      <th>new_sp_m3544</th>\n",
              "      <th>new_sp_m4554</th>\n",
              "      <th>new_sp_m5564</th>\n",
              "      <th>...</th>\n",
              "      <th>newrel_m4554</th>\n",
              "      <th>newrel_m5564</th>\n",
              "      <th>newrel_m65</th>\n",
              "      <th>newrel_f014</th>\n",
              "      <th>newrel_f1524</th>\n",
              "      <th>newrel_f2534</th>\n",
              "      <th>newrel_f3544</th>\n",
              "      <th>newrel_f4554</th>\n",
              "      <th>newrel_f5564</th>\n",
              "      <th>newrel_f65</th>\n",
              "    </tr>\n",
              "  </thead>\n",
              "  <tbody>\n",
              "    <tr>\n",
              "      <th>0</th>\n",
              "      <td>Afghanistan</td>\n",
              "      <td>AF</td>\n",
              "      <td>AFG</td>\n",
              "      <td>1980</td>\n",
              "      <td>NaN</td>\n",
              "      <td>NaN</td>\n",
              "      <td>NaN</td>\n",
              "      <td>NaN</td>\n",
              "      <td>NaN</td>\n",
              "      <td>NaN</td>\n",
              "      <td>...</td>\n",
              "      <td>NaN</td>\n",
              "      <td>NaN</td>\n",
              "      <td>NaN</td>\n",
              "      <td>NaN</td>\n",
              "      <td>NaN</td>\n",
              "      <td>NaN</td>\n",
              "      <td>NaN</td>\n",
              "      <td>NaN</td>\n",
              "      <td>NaN</td>\n",
              "      <td>NaN</td>\n",
              "    </tr>\n",
              "    <tr>\n",
              "      <th>1</th>\n",
              "      <td>Afghanistan</td>\n",
              "      <td>AF</td>\n",
              "      <td>AFG</td>\n",
              "      <td>1981</td>\n",
              "      <td>NaN</td>\n",
              "      <td>NaN</td>\n",
              "      <td>NaN</td>\n",
              "      <td>NaN</td>\n",
              "      <td>NaN</td>\n",
              "      <td>NaN</td>\n",
              "      <td>...</td>\n",
              "      <td>NaN</td>\n",
              "      <td>NaN</td>\n",
              "      <td>NaN</td>\n",
              "      <td>NaN</td>\n",
              "      <td>NaN</td>\n",
              "      <td>NaN</td>\n",
              "      <td>NaN</td>\n",
              "      <td>NaN</td>\n",
              "      <td>NaN</td>\n",
              "      <td>NaN</td>\n",
              "    </tr>\n",
              "    <tr>\n",
              "      <th>2</th>\n",
              "      <td>Afghanistan</td>\n",
              "      <td>AF</td>\n",
              "      <td>AFG</td>\n",
              "      <td>1982</td>\n",
              "      <td>NaN</td>\n",
              "      <td>NaN</td>\n",
              "      <td>NaN</td>\n",
              "      <td>NaN</td>\n",
              "      <td>NaN</td>\n",
              "      <td>NaN</td>\n",
              "      <td>...</td>\n",
              "      <td>NaN</td>\n",
              "      <td>NaN</td>\n",
              "      <td>NaN</td>\n",
              "      <td>NaN</td>\n",
              "      <td>NaN</td>\n",
              "      <td>NaN</td>\n",
              "      <td>NaN</td>\n",
              "      <td>NaN</td>\n",
              "      <td>NaN</td>\n",
              "      <td>NaN</td>\n",
              "    </tr>\n",
              "    <tr>\n",
              "      <th>3</th>\n",
              "      <td>Afghanistan</td>\n",
              "      <td>AF</td>\n",
              "      <td>AFG</td>\n",
              "      <td>1983</td>\n",
              "      <td>NaN</td>\n",
              "      <td>NaN</td>\n",
              "      <td>NaN</td>\n",
              "      <td>NaN</td>\n",
              "      <td>NaN</td>\n",
              "      <td>NaN</td>\n",
              "      <td>...</td>\n",
              "      <td>NaN</td>\n",
              "      <td>NaN</td>\n",
              "      <td>NaN</td>\n",
              "      <td>NaN</td>\n",
              "      <td>NaN</td>\n",
              "      <td>NaN</td>\n",
              "      <td>NaN</td>\n",
              "      <td>NaN</td>\n",
              "      <td>NaN</td>\n",
              "      <td>NaN</td>\n",
              "    </tr>\n",
              "    <tr>\n",
              "      <th>4</th>\n",
              "      <td>Afghanistan</td>\n",
              "      <td>AF</td>\n",
              "      <td>AFG</td>\n",
              "      <td>1984</td>\n",
              "      <td>NaN</td>\n",
              "      <td>NaN</td>\n",
              "      <td>NaN</td>\n",
              "      <td>NaN</td>\n",
              "      <td>NaN</td>\n",
              "      <td>NaN</td>\n",
              "      <td>...</td>\n",
              "      <td>NaN</td>\n",
              "      <td>NaN</td>\n",
              "      <td>NaN</td>\n",
              "      <td>NaN</td>\n",
              "      <td>NaN</td>\n",
              "      <td>NaN</td>\n",
              "      <td>NaN</td>\n",
              "      <td>NaN</td>\n",
              "      <td>NaN</td>\n",
              "      <td>NaN</td>\n",
              "    </tr>\n",
              "  </tbody>\n",
              "</table>\n",
              "<p>5 rows × 60 columns</p>\n",
              "</div>\n",
              "    <div class=\"colab-df-buttons\">\n",
              "\n",
              "  <div class=\"colab-df-container\">\n",
              "    <button class=\"colab-df-convert\" onclick=\"convertToInteractive('df-47f2e61b-9850-4da9-be8e-2956481377d4')\"\n",
              "            title=\"Convert this dataframe to an interactive table.\"\n",
              "            style=\"display:none;\">\n",
              "\n",
              "  <svg xmlns=\"http://www.w3.org/2000/svg\" height=\"24px\" viewBox=\"0 -960 960 960\">\n",
              "    <path d=\"M120-120v-720h720v720H120Zm60-500h600v-160H180v160Zm220 220h160v-160H400v160Zm0 220h160v-160H400v160ZM180-400h160v-160H180v160Zm440 0h160v-160H620v160ZM180-180h160v-160H180v160Zm440 0h160v-160H620v160Z\"/>\n",
              "  </svg>\n",
              "    </button>\n",
              "\n",
              "  <style>\n",
              "    .colab-df-container {\n",
              "      display:flex;\n",
              "      gap: 12px;\n",
              "    }\n",
              "\n",
              "    .colab-df-convert {\n",
              "      background-color: #E8F0FE;\n",
              "      border: none;\n",
              "      border-radius: 50%;\n",
              "      cursor: pointer;\n",
              "      display: none;\n",
              "      fill: #1967D2;\n",
              "      height: 32px;\n",
              "      padding: 0 0 0 0;\n",
              "      width: 32px;\n",
              "    }\n",
              "\n",
              "    .colab-df-convert:hover {\n",
              "      background-color: #E2EBFA;\n",
              "      box-shadow: 0px 1px 2px rgba(60, 64, 67, 0.3), 0px 1px 3px 1px rgba(60, 64, 67, 0.15);\n",
              "      fill: #174EA6;\n",
              "    }\n",
              "\n",
              "    .colab-df-buttons div {\n",
              "      margin-bottom: 4px;\n",
              "    }\n",
              "\n",
              "    [theme=dark] .colab-df-convert {\n",
              "      background-color: #3B4455;\n",
              "      fill: #D2E3FC;\n",
              "    }\n",
              "\n",
              "    [theme=dark] .colab-df-convert:hover {\n",
              "      background-color: #434B5C;\n",
              "      box-shadow: 0px 1px 3px 1px rgba(0, 0, 0, 0.15);\n",
              "      filter: drop-shadow(0px 1px 2px rgba(0, 0, 0, 0.3));\n",
              "      fill: #FFFFFF;\n",
              "    }\n",
              "  </style>\n",
              "\n",
              "    <script>\n",
              "      const buttonEl =\n",
              "        document.querySelector('#df-47f2e61b-9850-4da9-be8e-2956481377d4 button.colab-df-convert');\n",
              "      buttonEl.style.display =\n",
              "        google.colab.kernel.accessAllowed ? 'block' : 'none';\n",
              "\n",
              "      async function convertToInteractive(key) {\n",
              "        const element = document.querySelector('#df-47f2e61b-9850-4da9-be8e-2956481377d4');\n",
              "        const dataTable =\n",
              "          await google.colab.kernel.invokeFunction('convertToInteractive',\n",
              "                                                    [key], {});\n",
              "        if (!dataTable) return;\n",
              "\n",
              "        const docLinkHtml = 'Like what you see? Visit the ' +\n",
              "          '<a target=\"_blank\" href=https://colab.research.google.com/notebooks/data_table.ipynb>data table notebook</a>'\n",
              "          + ' to learn more about interactive tables.';\n",
              "        element.innerHTML = '';\n",
              "        dataTable['output_type'] = 'display_data';\n",
              "        await google.colab.output.renderOutput(dataTable, element);\n",
              "        const docLink = document.createElement('div');\n",
              "        docLink.innerHTML = docLinkHtml;\n",
              "        element.appendChild(docLink);\n",
              "      }\n",
              "    </script>\n",
              "  </div>\n",
              "\n",
              "\n",
              "<div id=\"df-77a96c7a-b830-4cdf-b8c4-19ff380235a7\">\n",
              "  <button class=\"colab-df-quickchart\" onclick=\"quickchart('df-77a96c7a-b830-4cdf-b8c4-19ff380235a7')\"\n",
              "            title=\"Suggest charts\"\n",
              "            style=\"display:none;\">\n",
              "\n",
              "<svg xmlns=\"http://www.w3.org/2000/svg\" height=\"24px\"viewBox=\"0 0 24 24\"\n",
              "     width=\"24px\">\n",
              "    <g>\n",
              "        <path d=\"M19 3H5c-1.1 0-2 .9-2 2v14c0 1.1.9 2 2 2h14c1.1 0 2-.9 2-2V5c0-1.1-.9-2-2-2zM9 17H7v-7h2v7zm4 0h-2V7h2v10zm4 0h-2v-4h2v4z\"/>\n",
              "    </g>\n",
              "</svg>\n",
              "  </button>\n",
              "\n",
              "<style>\n",
              "  .colab-df-quickchart {\n",
              "      --bg-color: #E8F0FE;\n",
              "      --fill-color: #1967D2;\n",
              "      --hover-bg-color: #E2EBFA;\n",
              "      --hover-fill-color: #174EA6;\n",
              "      --disabled-fill-color: #AAA;\n",
              "      --disabled-bg-color: #DDD;\n",
              "  }\n",
              "\n",
              "  [theme=dark] .colab-df-quickchart {\n",
              "      --bg-color: #3B4455;\n",
              "      --fill-color: #D2E3FC;\n",
              "      --hover-bg-color: #434B5C;\n",
              "      --hover-fill-color: #FFFFFF;\n",
              "      --disabled-bg-color: #3B4455;\n",
              "      --disabled-fill-color: #666;\n",
              "  }\n",
              "\n",
              "  .colab-df-quickchart {\n",
              "    background-color: var(--bg-color);\n",
              "    border: none;\n",
              "    border-radius: 50%;\n",
              "    cursor: pointer;\n",
              "    display: none;\n",
              "    fill: var(--fill-color);\n",
              "    height: 32px;\n",
              "    padding: 0;\n",
              "    width: 32px;\n",
              "  }\n",
              "\n",
              "  .colab-df-quickchart:hover {\n",
              "    background-color: var(--hover-bg-color);\n",
              "    box-shadow: 0 1px 2px rgba(60, 64, 67, 0.3), 0 1px 3px 1px rgba(60, 64, 67, 0.15);\n",
              "    fill: var(--button-hover-fill-color);\n",
              "  }\n",
              "\n",
              "  .colab-df-quickchart-complete:disabled,\n",
              "  .colab-df-quickchart-complete:disabled:hover {\n",
              "    background-color: var(--disabled-bg-color);\n",
              "    fill: var(--disabled-fill-color);\n",
              "    box-shadow: none;\n",
              "  }\n",
              "\n",
              "  .colab-df-spinner {\n",
              "    border: 2px solid var(--fill-color);\n",
              "    border-color: transparent;\n",
              "    border-bottom-color: var(--fill-color);\n",
              "    animation:\n",
              "      spin 1s steps(1) infinite;\n",
              "  }\n",
              "\n",
              "  @keyframes spin {\n",
              "    0% {\n",
              "      border-color: transparent;\n",
              "      border-bottom-color: var(--fill-color);\n",
              "      border-left-color: var(--fill-color);\n",
              "    }\n",
              "    20% {\n",
              "      border-color: transparent;\n",
              "      border-left-color: var(--fill-color);\n",
              "      border-top-color: var(--fill-color);\n",
              "    }\n",
              "    30% {\n",
              "      border-color: transparent;\n",
              "      border-left-color: var(--fill-color);\n",
              "      border-top-color: var(--fill-color);\n",
              "      border-right-color: var(--fill-color);\n",
              "    }\n",
              "    40% {\n",
              "      border-color: transparent;\n",
              "      border-right-color: var(--fill-color);\n",
              "      border-top-color: var(--fill-color);\n",
              "    }\n",
              "    60% {\n",
              "      border-color: transparent;\n",
              "      border-right-color: var(--fill-color);\n",
              "    }\n",
              "    80% {\n",
              "      border-color: transparent;\n",
              "      border-right-color: var(--fill-color);\n",
              "      border-bottom-color: var(--fill-color);\n",
              "    }\n",
              "    90% {\n",
              "      border-color: transparent;\n",
              "      border-bottom-color: var(--fill-color);\n",
              "    }\n",
              "  }\n",
              "</style>\n",
              "\n",
              "  <script>\n",
              "    async function quickchart(key) {\n",
              "      const quickchartButtonEl =\n",
              "        document.querySelector('#' + key + ' button');\n",
              "      quickchartButtonEl.disabled = true;  // To prevent multiple clicks.\n",
              "      quickchartButtonEl.classList.add('colab-df-spinner');\n",
              "      try {\n",
              "        const charts = await google.colab.kernel.invokeFunction(\n",
              "            'suggestCharts', [key], {});\n",
              "      } catch (error) {\n",
              "        console.error('Error during call to suggestCharts:', error);\n",
              "      }\n",
              "      quickchartButtonEl.classList.remove('colab-df-spinner');\n",
              "      quickchartButtonEl.classList.add('colab-df-quickchart-complete');\n",
              "    }\n",
              "    (() => {\n",
              "      let quickchartButtonEl =\n",
              "        document.querySelector('#df-77a96c7a-b830-4cdf-b8c4-19ff380235a7 button');\n",
              "      quickchartButtonEl.style.display =\n",
              "        google.colab.kernel.accessAllowed ? 'block' : 'none';\n",
              "    })();\n",
              "  </script>\n",
              "</div>\n",
              "\n",
              "    </div>\n",
              "  </div>\n"
            ],
            "application/vnd.google.colaboratory.intrinsic+json": {
              "type": "dataframe",
              "variable_name": "df"
            }
          },
          "metadata": {},
          "execution_count": 31
        }
      ],
      "source": [
        "df.head()"
      ]
    },
    {
      "cell_type": "code",
      "execution_count": 32,
      "metadata": {
        "id": "QWKl5SHsGjF5",
        "colab": {
          "base_uri": "https://localhost:8080/"
        },
        "outputId": "932feacb-2555-4e13-d587-013b8b3108d1"
      },
      "outputs": [
        {
          "output_type": "stream",
          "name": "stdout",
          "text": [
            "<class 'pandas.core.frame.DataFrame'>\n",
            "RangeIndex: 7240 entries, 0 to 7239\n",
            "Data columns (total 58 columns):\n",
            " #   Column        Non-Null Count  Dtype  \n",
            "---  ------        --------------  -----  \n",
            " 0   country       7240 non-null   object \n",
            " 1   year          7240 non-null   int64  \n",
            " 2   new_sp_m014   3173 non-null   float64\n",
            " 3   new_sp_m1524  3209 non-null   float64\n",
            " 4   new_sp_m2534  3206 non-null   float64\n",
            " 5   new_sp_m3544  3219 non-null   float64\n",
            " 6   new_sp_m4554  3223 non-null   float64\n",
            " 7   new_sp_m5564  3218 non-null   float64\n",
            " 8   new_sp_m65    3209 non-null   float64\n",
            " 9   new_sp_f014   3174 non-null   float64\n",
            " 10  new_sp_f1524  3194 non-null   float64\n",
            " 11  new_sp_f2534  3200 non-null   float64\n",
            " 12  new_sp_f3544  3199 non-null   float64\n",
            " 13  new_sp_f4554  3204 non-null   float64\n",
            " 14  new_sp_f5564  3195 non-null   float64\n",
            " 15  new_sp_f65    3197 non-null   float64\n",
            " 16  new_sn_m014   1045 non-null   float64\n",
            " 17  new_sn_m1524  1030 non-null   float64\n",
            " 18  new_sn_m2534  1022 non-null   float64\n",
            " 19  new_sn_m3544  1025 non-null   float64\n",
            " 20  new_sn_m4554  1027 non-null   float64\n",
            " 21  new_sn_m5564  1021 non-null   float64\n",
            " 22  new_sn_m65    1020 non-null   float64\n",
            " 23  new_sn_f014   1040 non-null   float64\n",
            " 24  new_sn_f1524  1022 non-null   float64\n",
            " 25  new_sn_f2534  1016 non-null   float64\n",
            " 26  new_sn_f3544  1020 non-null   float64\n",
            " 27  new_sn_f4554  1018 non-null   float64\n",
            " 28  new_sn_f5564  1017 non-null   float64\n",
            " 29  new_sn_f65    1019 non-null   float64\n",
            " 30  new_ep_m014   1038 non-null   float64\n",
            " 31  new_ep_m1524  1026 non-null   float64\n",
            " 32  new_ep_m2534  1020 non-null   float64\n",
            " 33  new_ep_m3544  1024 non-null   float64\n",
            " 34  new_ep_m4554  1020 non-null   float64\n",
            " 35  new_ep_m5564  1015 non-null   float64\n",
            " 36  new_ep_m65    1018 non-null   float64\n",
            " 37  new_ep_f014   1032 non-null   float64\n",
            " 38  new_ep_f1524  1021 non-null   float64\n",
            " 39  new_ep_f2534  1021 non-null   float64\n",
            " 40  new_ep_f3544  1021 non-null   float64\n",
            " 41  new_ep_f4554  1017 non-null   float64\n",
            " 42  new_ep_f5564  1017 non-null   float64\n",
            " 43  new_ep_f65    1014 non-null   float64\n",
            " 44  newrel_m014   190 non-null    float64\n",
            " 45  newrel_m1524  182 non-null    float64\n",
            " 46  newrel_m2534  183 non-null    float64\n",
            " 47  newrel_m3544  184 non-null    float64\n",
            " 48  newrel_m4554  184 non-null    float64\n",
            " 49  newrel_m5564  185 non-null    float64\n",
            " 50  newrel_m65    182 non-null    float64\n",
            " 51  newrel_f014   190 non-null    float64\n",
            " 52  newrel_f1524  184 non-null    float64\n",
            " 53  newrel_f2534  182 non-null    float64\n",
            " 54  newrel_f3544  183 non-null    float64\n",
            " 55  newrel_f4554  183 non-null    float64\n",
            " 56  newrel_f5564  183 non-null    float64\n",
            " 57  newrel_f65    185 non-null    float64\n",
            "dtypes: float64(56), int64(1), object(1)\n",
            "memory usage: 3.2+ MB\n"
          ]
        }
      ],
      "source": [
        "df = df.drop(columns=['iso2', 'iso3'])\n",
        "df.info()"
      ]
    },
    {
      "cell_type": "markdown",
      "metadata": {
        "id": "I7cvRFvKGjF5"
      },
      "source": [
        "## Question 1. We need to know what's included in this data.\n",
        "- How many countries are present?  \n",
        "- What's the timespan of the data?  \n",
        "- Does each country have a row for every year present?  \n",
        "- Which countries are missing years?  \n",
        "- How many rows have at least 1 non-null values across the columns 3-57?"
      ]
    },
    {
      "cell_type": "code",
      "execution_count": 33,
      "metadata": {
        "id": "wDC3lwAbGjF5",
        "colab": {
          "base_uri": "https://localhost:8080/"
        },
        "outputId": "38e9e97b-393e-4e19-ab64-2e361055ceb7"
      },
      "outputs": [
        {
          "output_type": "stream",
          "name": "stdout",
          "text": [
            "Total number of countries present: 219\n"
          ]
        }
      ],
      "source": [
        "#counting the countries\n",
        "country = df['country'].nunique()\n",
        "print(\"Total number of countries present:\", country)"
      ]
    },
    {
      "cell_type": "code",
      "source": [
        "#finding the timespan\n",
        "startyear = df['year'].min()\n",
        "endyear = df['year'].max()\n",
        "Total_timespan = endyear - startyear\n",
        "print(\"Total timespan of the data is:\", Total_timespan)"
      ],
      "metadata": {
        "colab": {
          "base_uri": "https://localhost:8080/"
        },
        "id": "egx_7jkSNsa8",
        "outputId": "7a53bb83-2790-46a9-a11e-039a402bd78a"
      },
      "execution_count": 34,
      "outputs": [
        {
          "output_type": "stream",
          "name": "stdout",
          "text": [
            "Total timespan of the data is: 33\n"
          ]
        }
      ]
    },
    {
      "cell_type": "code",
      "source": [
        "#Does each country have a row for every year present?\n",
        "data = df.groupby('country')['year'].nunique()\n",
        "years = df['year'].nunique()\n",
        "everyyear = (data==years).all()\n",
        "print(everyyear)"
      ],
      "metadata": {
        "colab": {
          "base_uri": "https://localhost:8080/"
        },
        "id": "TCuOzIHaPCNT",
        "outputId": "ecf31a07-8de0-4b42-b98d-a6159f5ccbe1"
      },
      "execution_count": 35,
      "outputs": [
        {
          "output_type": "stream",
          "name": "stdout",
          "text": [
            "False\n"
          ]
        }
      ]
    },
    {
      "cell_type": "code",
      "source": [
        "#countries with missing years\n",
        "data = df.groupby('country')['year'].nunique()\n",
        "years = df['year'].nunique()\n",
        "missingyears = list(data[data<years].index)\n",
        "print(\"Total countries with missing years:\", len(missingyears))\n",
        "print(f\"The countries which are missing years: {missingyears[:10]}\")"
      ],
      "metadata": {
        "colab": {
          "base_uri": "https://localhost:8080/"
        },
        "id": "2S_hay9LS_nR",
        "outputId": "8cc51883-0487-46e8-e24d-22251c9b0235"
      },
      "execution_count": 36,
      "outputs": [
        {
          "output_type": "stream",
          "name": "stdout",
          "text": [
            "Total countries with missing years: 9\n",
            "The countries which are missing years: ['Bonaire, Saint Eustatius and Saba', 'Curacao', 'Montenegro', 'Netherlands Antilles', 'Serbia', 'Serbia & Montenegro', 'Sint Maarten (Dutch part)', 'South Sudan', 'Timor-Leste']\n"
          ]
        }
      ]
    },
    {
      "cell_type": "code",
      "source": [
        "#non_null values\n",
        "count = df.iloc[:, 3:58].notnull().any(axis=1).sum()\n",
        "print(f\"Total rows with at least 1 non-null values across the columns 3-57 are: {count}\")"
      ],
      "metadata": {
        "colab": {
          "base_uri": "https://localhost:8080/"
        },
        "id": "z8Huxq4gU5Fj",
        "outputId": "e377909c-ec1f-4174-cb12-4c9b93e18381"
      },
      "execution_count": 37,
      "outputs": [
        {
          "output_type": "stream",
          "name": "stdout",
          "text": [
            "Total rows with at least 1 non-null values across the columns 3-57 are: 3484\n"
          ]
        }
      ]
    },
    {
      "cell_type": "markdown",
      "metadata": {
        "id": "lvIxKG6EGjF6"
      },
      "source": [
        "## Question 2: Wide data isn't usually helpful.\n",
        "Convert this to a long format with the following columns:  \n",
        "1. country  \n",
        "2. year  \n",
        "3. diagnosis method: mapping should be:\n",
        "\n",
        "```\n",
        "  {'newsp':'Pulmonary Smear (+)'\n",
        "  ,'newsn':'Pulmonary Smear (-)'\n",
        "  ,'newep':'Extrapulmonary'\n",
        "  ,'newrel':'Relapse'}   \n",
        " ```\n",
        "\n",
        "4. gender: male or female.   \n",
        "5. age: lower_age - higher_age, e.g., 0-14  \n",
        "6. number of cases  \n",
        "\n",
        "__Note__: You can use `replace` (https://pandas.pydata.org/docs/reference/api/pandas.DataFrame.replace.html)"
      ]
    },
    {
      "cell_type": "code",
      "execution_count": 40,
      "metadata": {
        "id": "kBjGEVPCGjF6",
        "colab": {
          "base_uri": "https://localhost:8080/"
        },
        "outputId": "7c3e5032-3999-46d2-ab05-cd0648c75cbe"
      },
      "outputs": [
        {
          "output_type": "stream",
          "name": "stdout",
          "text": [
            "            country  year  totalcases            diagnosis     gen range\n",
            "0       Afghanistan  1980         NaN  Pulmonary Smear (+)    Male  0-14\n",
            "1       Afghanistan  1981         NaN  Pulmonary Smear (+)    Male  0-14\n",
            "2       Afghanistan  1982         NaN  Pulmonary Smear (+)    Male  0-14\n",
            "3       Afghanistan  1983         NaN  Pulmonary Smear (+)    Male  0-14\n",
            "4       Afghanistan  1984         NaN  Pulmonary Smear (+)    Male  0-14\n",
            "...             ...   ...         ...                  ...     ...   ...\n",
            "405435     Zimbabwe  2009         NaN              Relapse  Female   65+\n",
            "405436     Zimbabwe  2010         NaN              Relapse  Female   65+\n",
            "405437     Zimbabwe  2011         NaN              Relapse  Female   65+\n",
            "405438     Zimbabwe  2012         NaN              Relapse  Female   65+\n",
            "405439     Zimbabwe  2013       725.0              Relapse  Female   65+\n",
            "\n",
            "[405440 rows x 6 columns]\n"
          ]
        }
      ],
      "source": [
        "#disgnosis mapping\n",
        "diagnosismap = {\n",
        "    'new_sp': 'Pulmonary Smear (+)',\n",
        "    'new_sn': 'Pulmonary Smear (-)',\n",
        "    'new_ep': 'Extrapulmonary',\n",
        "    'newrel': 'Relapse'\n",
        "}\n",
        "\n",
        "#long format\n",
        "dataframe_long = df.melt(id_vars=['country', 'year'], var_name='cat', value_name='totalcases')\n",
        "\n",
        "#map\n",
        "dataframe_long['diagnosis'] = dataframe_long['cat'].replace({f'{key}.*': value for key, value in diagnosismap.items()},regex=True)\n",
        "\n",
        "#extraction\n",
        "dataframe_long['gen'] = dataframe_long['cat'].str.extract(r'_([m|f])')\n",
        "dataframe_long['gen'] = dataframe_long['gen'].map({'m': 'Male', 'f': 'Female'})\n",
        "dataframe_long['range'] = dataframe_long['cat'].str.extract(r'_([mf])([a-zA-Z0-9]+)$').iloc[:, 1]\n",
        "\n",
        "def formatage(age_range):\n",
        "  if not age_range:\n",
        "    return None\n",
        "\n",
        "  if re.fullmatch(r'\\d{2}',age_range):\n",
        "    return f'{age_range}+'\n",
        "\n",
        "  elif re.fullmatch(r'\\d{3}',age_range):\n",
        "    return f'{age_range[0]}-{age_range[1:]}'\n",
        "\n",
        "  elif re.fullmatch(r'\\d{4}',age_range):\n",
        "    return f'{age_range[:2]}-{age_range[2:]}'\n",
        "\n",
        "  else:\n",
        "    return age_range\n",
        "\n",
        "dataframe_long['range'] = dataframe_long['range'].apply(formatage)\n",
        "\n",
        "#drop column\n",
        "dataframe_long = dataframe_long.drop(columns=['cat'])\n",
        "\n",
        "#print result\n",
        "print(dataframe_long)"
      ]
    },
    {
      "cell_type": "markdown",
      "source": [],
      "metadata": {
        "id": "wq_Yw9cPdVaD"
      }
    },
    {
      "cell_type": "markdown",
      "metadata": {
        "id": "BPhMouXBGjF6"
      },
      "source": [
        "## Question 3: Create a graph that shows when countries started to report TB cases."
      ]
    },
    {
      "cell_type": "code",
      "execution_count": 39,
      "metadata": {
        "id": "H4DieL4VGjF6",
        "colab": {
          "base_uri": "https://localhost:8080/",
          "height": 718
        },
        "outputId": "bbdd020b-6d07-4ea7-efdd-ef2865dfd734"
      },
      "outputs": [
        {
          "output_type": "display_data",
          "data": {
            "text/plain": [
              "<Figure size 1000x800 with 1 Axes>"
            ],
            "image/png": "[encoded data removed]"
          },
          "metadata": {}
        }
      ],
      "source": [
        "TBstart = dataframe_long.groupby('country')['year'].min().sort_values()\n",
        "\n",
        "#Plotting the graph\n",
        "fig, ax = plt.subplots(figsize=(10,8))\n",
        "ax.scatter(TBstart.values,TBstart.index, color='orange', alpha=0.6)\n",
        "\n",
        "con = TBstart.index\n",
        "total_countries = len(con)\n",
        "lap = max(1,total_countries // 20)\n",
        "ax.set_yticks(con[::lap])\n",
        "ax.set_yticklabels(con[::lap], fontsize=8)\n",
        "\n",
        "plt.title('Graph to show when countries started to report TB cases.')\n",
        "plt.xlabel('Year in which first TB case was reported')\n",
        "plt.ylabel('Countries')\n",
        "plt.grid(True)\n",
        "plt.show()"
      ]
    }
  ],
  "metadata": {
    "kernelspec": {
      "display_name": "Python 3",
      "language": "python",
      "name": "python3"
    },
    "language_info": {
      "codemirror_mode": {
        "name": "ipython",
        "version": 3
      },
      "file_extension": ".py",
      "mimetype": "text/x-python",
      "name": "python",
      "nbconvert_exporter": "python",
      "pygments_lexer": "ipython3",
      "version": "3.8.8"
    },
    "toc": {
      "base_numbering": 1,
      "nav_menu": {},
      "number_sections": false,
      "sideBar": true,
      "skip_h1_title": false,
      "title_cell": "Table of Contents",
      "title_sidebar": "Contents",
      "toc_cell": false,
      "toc_position": {
        "height": "calc(100% - 180px)",
        "left": "10px",
        "top": "150px",
        "width": "165px"
      },
      "toc_section_display": true,
      "toc_window_display": true
    },
    "colab": {
      "provenance": []
    }
  },
  "nbformat": 4,
  "nbformat_minor": 0
}