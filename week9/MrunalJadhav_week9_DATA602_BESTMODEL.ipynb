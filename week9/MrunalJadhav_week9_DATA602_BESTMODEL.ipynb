{
  "nbformat": 4,
  "nbformat_minor": 0,
  "metadata": {
    "colab": {
      "provenance": []
    },
    "kernelspec": {
      "name": "python3",
      "display_name": "Python 3"
    },
    "language_info": {
      "name": "python"
    }
  },
  "cells": [
    {
      "cell_type": "code",
      "execution_count": 19,
      "metadata": {
        "id": "uWNcZJdPvGXC"
      },
      "outputs": [],
      "source": [
        "import joblib\n",
        "\n",
        "best = joblib.load('bestmodel.pkl')"
      ]
    },
    {
      "cell_type": "code",
      "source": [
        "import pandas as pd\n",
        "from sklearn.datasets import make_moons, make_circles\n",
        "\n",
        "def gen_data(sample=300, random_state=60):\n",
        "    X, y = make_circles(n_samples=sample, noise=0.1, random_state = random_state)\n",
        "    dataframe_1 = pd.DataFrame(X)\n",
        "    dataframe_1['y'] = y\n",
        "\n",
        "    X_1, y_1 = make_moons(n_samples=sample, noise=0.1, random_state=random_state)\n",
        "    dataframe_2 = pd.DataFrame(X_1)\n",
        "    dataframe_2['y'] = y_1\n",
        "\n",
        "    dataframe = pd.concat([dataframe_1, dataframe_2])\n",
        "    dataframe = dataframe.sample(frac=1).reset_index(drop=True)\n",
        "    return dataframe[[0,1]].to_numpy(), dataframe['y']"
      ],
      "metadata": {
        "id": "ppNPTmxA0oul"
      },
      "execution_count": 20,
      "outputs": []
    },
    {
      "cell_type": "code",
      "source": [
        "from sklearn.metrics import accuracy_score, confusion_matrix\n",
        "\n",
        "\n",
        "Xprod, yprod = gen_data()\n",
        "\n",
        "prod_pred_y = best.predict(Xprod)\n",
        "accscore = accuracy_score(yprod, prod_pred_y)\n",
        "confmatrix = confusion_matrix(yprod, prod_pred_y)\n",
        "\n",
        "print('Production Data Results')\n",
        "print(f' Accuracy: {accscore}')\n",
        "print(f' Confusion Matrix: {confmatrix}')"
      ],
      "metadata": {
        "colab": {
          "base_uri": "https://localhost:8080/"
        },
        "id": "0-zbhtHI1ZAx",
        "outputId": "d3158d7e-2572-45d3-8200-93cf1a7baa98"
      },
      "execution_count": 21,
      "outputs": [
        {
          "output_type": "stream",
          "name": "stdout",
          "text": [
            "Production Data Results\n",
            " Accuracy: 0.74\n",
            " Confusion Matrix: [[206  94]\n",
            " [ 62 238]]\n"
          ]
        }
      ]
    }
  ]
}