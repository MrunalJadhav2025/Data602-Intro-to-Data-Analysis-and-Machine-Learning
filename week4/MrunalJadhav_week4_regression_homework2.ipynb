{
  "cells": [
    {
      "cell_type": "markdown",
      "metadata": {
        "id": "LUCmyuk4rrux"
      },
      "source": [
        "# Week4 - Homework 2\n",
        "\n",
        "- Execute the below code, then answer the numbered questions.\n",
        "- You can create additinal code and markdown blocks"
      ]
    },
    {
      "cell_type": "code",
      "execution_count": 207,
      "metadata": {
        "colab": {
          "base_uri": "https://localhost:8080/"
        },
        "id": "wpbuYUB1rru1",
        "outputId": "9430d048-d9de-4cbf-e241-9fcf114f03aa"
      },
      "outputs": [
        {
          "output_type": "stream",
          "name": "stdout",
          "text": [
            "<class 'pandas.core.frame.DataFrame'>\n",
            "RangeIndex: 9055 entries, 0 to 9054\n",
            "Data columns (total 7 columns):\n",
            " #   Column         Non-Null Count  Dtype  \n",
            "---  ------         --------------  -----  \n",
            " 0   make           8164 non-null   object \n",
            " 1   transmission   8106 non-null   object \n",
            " 2   state          8152 non-null   object \n",
            " 3   condition      8173 non-null   float64\n",
            " 4   odometer       8178 non-null   float64\n",
            " 5   auction_value  8107 non-null   float64\n",
            " 6   selling_price  9055 non-null   float64\n",
            "dtypes: float64(4), object(3)\n",
            "memory usage: 495.3+ KB\n"
          ]
        }
      ],
      "source": [
        "import pandas as pd\n",
        "from sklearn.impute import SimpleImputer\n",
        "from sklearn.pipeline import Pipeline\n",
        "from sklearn.preprocessing import StandardScaler\n",
        "from sklearn.preprocessing import OneHotEncoder\n",
        "from sklearn.compose import ColumnTransformer\n",
        "from sklearn.linear_model import LinearRegression\n",
        "from sklearn.metrics import r2_score\n",
        "import matplotlib.pyplot as plt\n",
        "import seaborn as sns\n",
        "from sklearn.linear_model import Ridge\n",
        "from collections import defaultdict\n",
        "\n",
        "df = pd.read_csv('https://raw.githubusercontent.com/msaricaumbc/DS_data/master/ds602/regression/car-reg-data.csv')\n",
        "df.info()"
      ]
    },
    {
      "cell_type": "markdown",
      "metadata": {
        "id": "Olb0OH_Vrru4"
      },
      "source": [
        "## Question 1:\n",
        "### Which features can we use?"
      ]
    },
    {
      "cell_type": "code",
      "execution_count": 208,
      "metadata": {
        "colab": {
          "base_uri": "https://localhost:8080/",
          "height": 206
        },
        "id": "fu7eFLMhrru4",
        "outputId": "a533187b-81c4-4ddd-8ff4-cd993c223046"
      },
      "outputs": [
        {
          "output_type": "execute_result",
          "data": {
            "text/plain": [
              "     make transmission state  condition  odometer  auction_value  \\\n",
              "0  nissan    automatic    md        4.8       NaN        14350.0   \n",
              "1    ford    automatic    mo        3.7   29398.0        17600.0   \n",
              "2    ford    automatic    fl        3.2   32180.0        19100.0   \n",
              "3  nissan    automatic    ca        NaN   30798.0        11950.0   \n",
              "4    ford    automatic    nj        2.8   29526.0        28000.0   \n",
              "\n",
              "   selling_price  \n",
              "0        13600.0  \n",
              "1        17100.0  \n",
              "2        17600.0  \n",
              "3        10700.0  \n",
              "4        26100.0  "
            ],
            "text/html": [
              "\n",
              "  <div id=\"df-df6d3943-471b-4fe8-a759-6958b9d7925f\" class=\"colab-df-container\">\n",
              "    <div>\n",
              "<style scoped>\n",
              "    .dataframe tbody tr th:only-of-type {\n",
              "        vertical-align: middle;\n",
              "    }\n",
              "\n",
              "    .dataframe tbody tr th {\n",
              "        vertical-align: top;\n",
              "    }\n",
              "\n",
              "    .dataframe thead th {\n",
              "        text-align: right;\n",
              "    }\n",
              "</style>\n",
              "<table border=\"1\" class=\"dataframe\">\n",
              "  <thead>\n",
              "    <tr style=\"text-align: right;\">\n",
              "      <th></th>\n",
              "      <th>make</th>\n",
              "      <th>transmission</th>\n",
              "      <th>state</th>\n",
              "      <th>condition</th>\n",
              "      <th>odometer</th>\n",
              "      <th>auction_value</th>\n",
              "      <th>selling_price</th>\n",
              "    </tr>\n",
              "  </thead>\n",
              "  <tbody>\n",
              "    <tr>\n",
              "      <th>0</th>\n",
              "      <td>nissan</td>\n",
              "      <td>automatic</td>\n",
              "      <td>md</td>\n",
              "      <td>4.8</td>\n",
              "      <td>NaN</td>\n",
              "      <td>14350.0</td>\n",
              "      <td>13600.0</td>\n",
              "    </tr>\n",
              "    <tr>\n",
              "      <th>1</th>\n",
              "      <td>ford</td>\n",
              "      <td>automatic</td>\n",
              "      <td>mo</td>\n",
              "      <td>3.7</td>\n",
              "      <td>29398.0</td>\n",
              "      <td>17600.0</td>\n",
              "      <td>17100.0</td>\n",
              "    </tr>\n",
              "    <tr>\n",
              "      <th>2</th>\n",
              "      <td>ford</td>\n",
              "      <td>automatic</td>\n",
              "      <td>fl</td>\n",
              "      <td>3.2</td>\n",
              "      <td>32180.0</td>\n",
              "      <td>19100.0</td>\n",
              "      <td>17600.0</td>\n",
              "    </tr>\n",
              "    <tr>\n",
              "      <th>3</th>\n",
              "      <td>nissan</td>\n",
              "      <td>automatic</td>\n",
              "      <td>ca</td>\n",
              "      <td>NaN</td>\n",
              "      <td>30798.0</td>\n",
              "      <td>11950.0</td>\n",
              "      <td>10700.0</td>\n",
              "    </tr>\n",
              "    <tr>\n",
              "      <th>4</th>\n",
              "      <td>ford</td>\n",
              "      <td>automatic</td>\n",
              "      <td>nj</td>\n",
              "      <td>2.8</td>\n",
              "      <td>29526.0</td>\n",
              "      <td>28000.0</td>\n",
              "      <td>26100.0</td>\n",
              "    </tr>\n",
              "  </tbody>\n",
              "</table>\n",
              "</div>\n",
              "    <div class=\"colab-df-buttons\">\n",
              "\n",
              "  <div class=\"colab-df-container\">\n",
              "    <button class=\"colab-df-convert\" onclick=\"convertToInteractive('df-df6d3943-471b-4fe8-a759-6958b9d7925f')\"\n",
              "            title=\"Convert this dataframe to an interactive table.\"\n",
              "            style=\"display:none;\">\n",
              "\n",
              "  <svg xmlns=\"http://www.w3.org/2000/svg\" height=\"24px\" viewBox=\"0 -960 960 960\">\n",
              "    <path d=\"M120-120v-720h720v720H120Zm60-500h600v-160H180v160Zm220 220h160v-160H400v160Zm0 220h160v-160H400v160ZM180-400h160v-160H180v160Zm440 0h160v-160H620v160ZM180-180h160v-160H180v160Zm440 0h160v-160H620v160Z\"/>\n",
              "  </svg>\n",
              "    </button>\n",
              "\n",
              "  <style>\n",
              "    .colab-df-container {\n",
              "      display:flex;\n",
              "      gap: 12px;\n",
              "    }\n",
              "\n",
              "    .colab-df-convert {\n",
              "      background-color: #E8F0FE;\n",
              "      border: none;\n",
              "      border-radius: 50%;\n",
              "      cursor: pointer;\n",
              "      display: none;\n",
              "      fill: #1967D2;\n",
              "      height: 32px;\n",
              "      padding: 0 0 0 0;\n",
              "      width: 32px;\n",
              "    }\n",
              "\n",
              "    .colab-df-convert:hover {\n",
              "      background-color: #E2EBFA;\n",
              "      box-shadow: 0px 1px 2px rgba(60, 64, 67, 0.3), 0px 1px 3px 1px rgba(60, 64, 67, 0.15);\n",
              "      fill: #174EA6;\n",
              "    }\n",
              "\n",
              "    .colab-df-buttons div {\n",
              "      margin-bottom: 4px;\n",
              "    }\n",
              "\n",
              "    [theme=dark] .colab-df-convert {\n",
              "      background-color: #3B4455;\n",
              "      fill: #D2E3FC;\n",
              "    }\n",
              "\n",
              "    [theme=dark] .colab-df-convert:hover {\n",
              "      background-color: #434B5C;\n",
              "      box-shadow: 0px 1px 3px 1px rgba(0, 0, 0, 0.15);\n",
              "      filter: drop-shadow(0px 1px 2px rgba(0, 0, 0, 0.3));\n",
              "      fill: #FFFFFF;\n",
              "    }\n",
              "  </style>\n",
              "\n",
              "    <script>\n",
              "      const buttonEl =\n",
              "        document.querySelector('#df-df6d3943-471b-4fe8-a759-6958b9d7925f button.colab-df-convert');\n",
              "      buttonEl.style.display =\n",
              "        google.colab.kernel.accessAllowed ? 'block' : 'none';\n",
              "\n",
              "      async function convertToInteractive(key) {\n",
              "        const element = document.querySelector('#df-df6d3943-471b-4fe8-a759-6958b9d7925f');\n",
              "        const dataTable =\n",
              "          await google.colab.kernel.invokeFunction('convertToInteractive',\n",
              "                                                    [key], {});\n",
              "        if (!dataTable) return;\n",
              "\n",
              "        const docLinkHtml = 'Like what you see? Visit the ' +\n",
              "          '<a target=\"_blank\" href=https://colab.research.google.com/notebooks/data_table.ipynb>data table notebook</a>'\n",
              "          + ' to learn more about interactive tables.';\n",
              "        element.innerHTML = '';\n",
              "        dataTable['output_type'] = 'display_data';\n",
              "        await google.colab.output.renderOutput(dataTable, element);\n",
              "        const docLink = document.createElement('div');\n",
              "        docLink.innerHTML = docLinkHtml;\n",
              "        element.appendChild(docLink);\n",
              "      }\n",
              "    </script>\n",
              "  </div>\n",
              "\n",
              "\n",
              "<div id=\"df-dd411d63-3e48-4959-8446-98dd16de0e10\">\n",
              "  <button class=\"colab-df-quickchart\" onclick=\"quickchart('df-dd411d63-3e48-4959-8446-98dd16de0e10')\"\n",
              "            title=\"Suggest charts\"\n",
              "            style=\"display:none;\">\n",
              "\n",
              "<svg xmlns=\"http://www.w3.org/2000/svg\" height=\"24px\"viewBox=\"0 0 24 24\"\n",
              "     width=\"24px\">\n",
              "    <g>\n",
              "        <path d=\"M19 3H5c-1.1 0-2 .9-2 2v14c0 1.1.9 2 2 2h14c1.1 0 2-.9 2-2V5c0-1.1-.9-2-2-2zM9 17H7v-7h2v7zm4 0h-2V7h2v10zm4 0h-2v-4h2v4z\"/>\n",
              "    </g>\n",
              "</svg>\n",
              "  </button>\n",
              "\n",
              "<style>\n",
              "  .colab-df-quickchart {\n",
              "      --bg-color: #E8F0FE;\n",
              "      --fill-color: #1967D2;\n",
              "      --hover-bg-color: #E2EBFA;\n",
              "      --hover-fill-color: #174EA6;\n",
              "      --disabled-fill-color: #AAA;\n",
              "      --disabled-bg-color: #DDD;\n",
              "  }\n",
              "\n",
              "  [theme=dark] .colab-df-quickchart {\n",
              "      --bg-color: #3B4455;\n",
              "      --fill-color: #D2E3FC;\n",
              "      --hover-bg-color: #434B5C;\n",
              "      --hover-fill-color: #FFFFFF;\n",
              "      --disabled-bg-color: #3B4455;\n",
              "      --disabled-fill-color: #666;\n",
              "  }\n",
              "\n",
              "  .colab-df-quickchart {\n",
              "    background-color: var(--bg-color);\n",
              "    border: none;\n",
              "    border-radius: 50%;\n",
              "    cursor: pointer;\n",
              "    display: none;\n",
              "    fill: var(--fill-color);\n",
              "    height: 32px;\n",
              "    padding: 0;\n",
              "    width: 32px;\n",
              "  }\n",
              "\n",
              "  .colab-df-quickchart:hover {\n",
              "    background-color: var(--hover-bg-color);\n",
              "    box-shadow: 0 1px 2px rgba(60, 64, 67, 0.3), 0 1px 3px 1px rgba(60, 64, 67, 0.15);\n",
              "    fill: var(--button-hover-fill-color);\n",
              "  }\n",
              "\n",
              "  .colab-df-quickchart-complete:disabled,\n",
              "  .colab-df-quickchart-complete:disabled:hover {\n",
              "    background-color: var(--disabled-bg-color);\n",
              "    fill: var(--disabled-fill-color);\n",
              "    box-shadow: none;\n",
              "  }\n",
              "\n",
              "  .colab-df-spinner {\n",
              "    border: 2px solid var(--fill-color);\n",
              "    border-color: transparent;\n",
              "    border-bottom-color: var(--fill-color);\n",
              "    animation:\n",
              "      spin 1s steps(1) infinite;\n",
              "  }\n",
              "\n",
              "  @keyframes spin {\n",
              "    0% {\n",
              "      border-color: transparent;\n",
              "      border-bottom-color: var(--fill-color);\n",
              "      border-left-color: var(--fill-color);\n",
              "    }\n",
              "    20% {\n",
              "      border-color: transparent;\n",
              "      border-left-color: var(--fill-color);\n",
              "      border-top-color: var(--fill-color);\n",
              "    }\n",
              "    30% {\n",
              "      border-color: transparent;\n",
              "      border-left-color: var(--fill-color);\n",
              "      border-top-color: var(--fill-color);\n",
              "      border-right-color: var(--fill-color);\n",
              "    }\n",
              "    40% {\n",
              "      border-color: transparent;\n",
              "      border-right-color: var(--fill-color);\n",
              "      border-top-color: var(--fill-color);\n",
              "    }\n",
              "    60% {\n",
              "      border-color: transparent;\n",
              "      border-right-color: var(--fill-color);\n",
              "    }\n",
              "    80% {\n",
              "      border-color: transparent;\n",
              "      border-right-color: var(--fill-color);\n",
              "      border-bottom-color: var(--fill-color);\n",
              "    }\n",
              "    90% {\n",
              "      border-color: transparent;\n",
              "      border-bottom-color: var(--fill-color);\n",
              "    }\n",
              "  }\n",
              "</style>\n",
              "\n",
              "  <script>\n",
              "    async function quickchart(key) {\n",
              "      const quickchartButtonEl =\n",
              "        document.querySelector('#' + key + ' button');\n",
              "      quickchartButtonEl.disabled = true;  // To prevent multiple clicks.\n",
              "      quickchartButtonEl.classList.add('colab-df-spinner');\n",
              "      try {\n",
              "        const charts = await google.colab.kernel.invokeFunction(\n",
              "            'suggestCharts', [key], {});\n",
              "      } catch (error) {\n",
              "        console.error('Error during call to suggestCharts:', error);\n",
              "      }\n",
              "      quickchartButtonEl.classList.remove('colab-df-spinner');\n",
              "      quickchartButtonEl.classList.add('colab-df-quickchart-complete');\n",
              "    }\n",
              "    (() => {\n",
              "      let quickchartButtonEl =\n",
              "        document.querySelector('#df-dd411d63-3e48-4959-8446-98dd16de0e10 button');\n",
              "      quickchartButtonEl.style.display =\n",
              "        google.colab.kernel.accessAllowed ? 'block' : 'none';\n",
              "    })();\n",
              "  </script>\n",
              "</div>\n",
              "\n",
              "    </div>\n",
              "  </div>\n"
            ],
            "application/vnd.google.colaboratory.intrinsic+json": {
              "type": "dataframe",
              "variable_name": "df",
              "summary": "{\n  \"name\": \"df\",\n  \"rows\": 9055,\n  \"fields\": [\n    {\n      \"column\": \"make\",\n      \"properties\": {\n        \"dtype\": \"category\",\n        \"num_unique_values\": 10,\n        \"samples\": [\n          \"toyota\",\n          \"ford\",\n          \"chevrolet\"\n        ],\n        \"semantic_type\": \"\",\n        \"description\": \"\"\n      }\n    },\n    {\n      \"column\": \"transmission\",\n      \"properties\": {\n        \"dtype\": \"category\",\n        \"num_unique_values\": 2,\n        \"samples\": [\n          \"manual\",\n          \"automatic\"\n        ],\n        \"semantic_type\": \"\",\n        \"description\": \"\"\n      }\n    },\n    {\n      \"column\": \"state\",\n      \"properties\": {\n        \"dtype\": \"category\",\n        \"num_unique_values\": 32,\n        \"samples\": [\n          \"hi\",\n          \"tn\"\n        ],\n        \"semantic_type\": \"\",\n        \"description\": \"\"\n      }\n    },\n    {\n      \"column\": \"condition\",\n      \"properties\": {\n        \"dtype\": \"number\",\n        \"std\": 0.8174766692496179,\n        \"min\": 1.0,\n        \"max\": 5.0,\n        \"num_unique_values\": 36,\n        \"samples\": [\n          1.6,\n          2.9\n        ],\n        \"semantic_type\": \"\",\n        \"description\": \"\"\n      }\n    },\n    {\n      \"column\": \"odometer\",\n      \"properties\": {\n        \"dtype\": \"number\",\n        \"std\": 30163.811145858086,\n        \"min\": 1.0,\n        \"max\": 999999.0,\n        \"num_unique_values\": 7721,\n        \"samples\": [\n          45876.0,\n          42562.0\n        ],\n        \"semantic_type\": \"\",\n        \"description\": \"\"\n      }\n    },\n    {\n      \"column\": \"auction_value\",\n      \"properties\": {\n        \"dtype\": \"number\",\n        \"std\": 7775.612072774115,\n        \"min\": 2350.0,\n        \"max\": 161000.0,\n        \"num_unique_values\": 719,\n        \"samples\": [\n          18750.0,\n          15150.0\n        ],\n        \"semantic_type\": \"\",\n        \"description\": \"\"\n      }\n    },\n    {\n      \"column\": \"selling_price\",\n      \"properties\": {\n        \"dtype\": \"number\",\n        \"std\": 7910.00888083125,\n        \"min\": 600.0,\n        \"max\": 161000.0,\n        \"num_unique_values\": 571,\n        \"samples\": [\n          37100.0,\n          39000.0\n        ],\n        \"semantic_type\": \"\",\n        \"description\": \"\"\n      }\n    }\n  ]\n}"
            }
          },
          "metadata": {},
          "execution_count": 208
        }
      ],
      "source": [
        "# analysis code\n",
        "df.head()"
      ]
    },
    {
      "cell_type": "code",
      "source": [
        "df.tail()"
      ],
      "metadata": {
        "colab": {
          "base_uri": "https://localhost:8080/",
          "height": 206
        },
        "id": "2HJRjF7dsErq",
        "outputId": "c3238fbd-bc33-40d1-eb09-8c5e26f35932"
      },
      "execution_count": 209,
      "outputs": [
        {
          "output_type": "execute_result",
          "data": {
            "text/plain": [
              "        make transmission state  condition  odometer  auction_value  \\\n",
              "9050     NaN    automatic    il        4.2   41186.0            NaN   \n",
              "9051    ford    automatic    fl        NaN   38810.0        16250.0   \n",
              "9052  nissan          NaN    ga        4.7    4551.0        12500.0   \n",
              "9053    ford    automatic    il        4.6   33114.0        21800.0   \n",
              "9054    ford    automatic    ga        3.7   23776.0        28800.0   \n",
              "\n",
              "      selling_price  \n",
              "9050        11600.0  \n",
              "9051        17300.0  \n",
              "9052        13800.0  \n",
              "9053        27000.0  \n",
              "9054        29800.0  "
            ],
            "text/html": [
              "\n",
              "  <div id=\"df-f0a12cf3-c744-407a-807c-1eb852b6a0d8\" class=\"colab-df-container\">\n",
              "    <div>\n",
              "<style scoped>\n",
              "    .dataframe tbody tr th:only-of-type {\n",
              "        vertical-align: middle;\n",
              "    }\n",
              "\n",
              "    .dataframe tbody tr th {\n",
              "        vertical-align: top;\n",
              "    }\n",
              "\n",
              "    .dataframe thead th {\n",
              "        text-align: right;\n",
              "    }\n",
              "</style>\n",
              "<table border=\"1\" class=\"dataframe\">\n",
              "  <thead>\n",
              "    <tr style=\"text-align: right;\">\n",
              "      <th></th>\n",
              "      <th>make</th>\n",
              "      <th>transmission</th>\n",
              "      <th>state</th>\n",
              "      <th>condition</th>\n",
              "      <th>odometer</th>\n",
              "      <th>auction_value</th>\n",
              "      <th>selling_price</th>\n",
              "    </tr>\n",
              "  </thead>\n",
              "  <tbody>\n",
              "    <tr>\n",
              "      <th>9050</th>\n",
              "      <td>NaN</td>\n",
              "      <td>automatic</td>\n",
              "      <td>il</td>\n",
              "      <td>4.2</td>\n",
              "      <td>41186.0</td>\n",
              "      <td>NaN</td>\n",
              "      <td>11600.0</td>\n",
              "    </tr>\n",
              "    <tr>\n",
              "      <th>9051</th>\n",
              "      <td>ford</td>\n",
              "      <td>automatic</td>\n",
              "      <td>fl</td>\n",
              "      <td>NaN</td>\n",
              "      <td>38810.0</td>\n",
              "      <td>16250.0</td>\n",
              "      <td>17300.0</td>\n",
              "    </tr>\n",
              "    <tr>\n",
              "      <th>9052</th>\n",
              "      <td>nissan</td>\n",
              "      <td>NaN</td>\n",
              "      <td>ga</td>\n",
              "      <td>4.7</td>\n",
              "      <td>4551.0</td>\n",
              "      <td>12500.0</td>\n",
              "      <td>13800.0</td>\n",
              "    </tr>\n",
              "    <tr>\n",
              "      <th>9053</th>\n",
              "      <td>ford</td>\n",
              "      <td>automatic</td>\n",
              "      <td>il</td>\n",
              "      <td>4.6</td>\n",
              "      <td>33114.0</td>\n",
              "      <td>21800.0</td>\n",
              "      <td>27000.0</td>\n",
              "    </tr>\n",
              "    <tr>\n",
              "      <th>9054</th>\n",
              "      <td>ford</td>\n",
              "      <td>automatic</td>\n",
              "      <td>ga</td>\n",
              "      <td>3.7</td>\n",
              "      <td>23776.0</td>\n",
              "      <td>28800.0</td>\n",
              "      <td>29800.0</td>\n",
              "    </tr>\n",
              "  </tbody>\n",
              "</table>\n",
              "</div>\n",
              "    <div class=\"colab-df-buttons\">\n",
              "\n",
              "  <div class=\"colab-df-container\">\n",
              "    <button class=\"colab-df-convert\" onclick=\"convertToInteractive('df-f0a12cf3-c744-407a-807c-1eb852b6a0d8')\"\n",
              "            title=\"Convert this dataframe to an interactive table.\"\n",
              "            style=\"display:none;\">\n",
              "\n",
              "  <svg xmlns=\"http://www.w3.org/2000/svg\" height=\"24px\" viewBox=\"0 -960 960 960\">\n",
              "    <path d=\"M120-120v-720h720v720H120Zm60-500h600v-160H180v160Zm220 220h160v-160H400v160Zm0 220h160v-160H400v160ZM180-400h160v-160H180v160Zm440 0h160v-160H620v160ZM180-180h160v-160H180v160Zm440 0h160v-160H620v160Z\"/>\n",
              "  </svg>\n",
              "    </button>\n",
              "\n",
              "  <style>\n",
              "    .colab-df-container {\n",
              "      display:flex;\n",
              "      gap: 12px;\n",
              "    }\n",
              "\n",
              "    .colab-df-convert {\n",
              "      background-color: #E8F0FE;\n",
              "      border: none;\n",
              "      border-radius: 50%;\n",
              "      cursor: pointer;\n",
              "      display: none;\n",
              "      fill: #1967D2;\n",
              "      height: 32px;\n",
              "      padding: 0 0 0 0;\n",
              "      width: 32px;\n",
              "    }\n",
              "\n",
              "    .colab-df-convert:hover {\n",
              "      background-color: #E2EBFA;\n",
              "      box-shadow: 0px 1px 2px rgba(60, 64, 67, 0.3), 0px 1px 3px 1px rgba(60, 64, 67, 0.15);\n",
              "      fill: #174EA6;\n",
              "    }\n",
              "\n",
              "    .colab-df-buttons div {\n",
              "      margin-bottom: 4px;\n",
              "    }\n",
              "\n",
              "    [theme=dark] .colab-df-convert {\n",
              "      background-color: #3B4455;\n",
              "      fill: #D2E3FC;\n",
              "    }\n",
              "\n",
              "    [theme=dark] .colab-df-convert:hover {\n",
              "      background-color: #434B5C;\n",
              "      box-shadow: 0px 1px 3px 1px rgba(0, 0, 0, 0.15);\n",
              "      filter: drop-shadow(0px 1px 2px rgba(0, 0, 0, 0.3));\n",
              "      fill: #FFFFFF;\n",
              "    }\n",
              "  </style>\n",
              "\n",
              "    <script>\n",
              "      const buttonEl =\n",
              "        document.querySelector('#df-f0a12cf3-c744-407a-807c-1eb852b6a0d8 button.colab-df-convert');\n",
              "      buttonEl.style.display =\n",
              "        google.colab.kernel.accessAllowed ? 'block' : 'none';\n",
              "\n",
              "      async function convertToInteractive(key) {\n",
              "        const element = document.querySelector('#df-f0a12cf3-c744-407a-807c-1eb852b6a0d8');\n",
              "        const dataTable =\n",
              "          await google.colab.kernel.invokeFunction('convertToInteractive',\n",
              "                                                    [key], {});\n",
              "        if (!dataTable) return;\n",
              "\n",
              "        const docLinkHtml = 'Like what you see? Visit the ' +\n",
              "          '<a target=\"_blank\" href=https://colab.research.google.com/notebooks/data_table.ipynb>data table notebook</a>'\n",
              "          + ' to learn more about interactive tables.';\n",
              "        element.innerHTML = '';\n",
              "        dataTable['output_type'] = 'display_data';\n",
              "        await google.colab.output.renderOutput(dataTable, element);\n",
              "        const docLink = document.createElement('div');\n",
              "        docLink.innerHTML = docLinkHtml;\n",
              "        element.appendChild(docLink);\n",
              "      }\n",
              "    </script>\n",
              "  </div>\n",
              "\n",
              "\n",
              "<div id=\"df-1ae96495-3a4e-474e-95c6-48dc20d63b4b\">\n",
              "  <button class=\"colab-df-quickchart\" onclick=\"quickchart('df-1ae96495-3a4e-474e-95c6-48dc20d63b4b')\"\n",
              "            title=\"Suggest charts\"\n",
              "            style=\"display:none;\">\n",
              "\n",
              "<svg xmlns=\"http://www.w3.org/2000/svg\" height=\"24px\"viewBox=\"0 0 24 24\"\n",
              "     width=\"24px\">\n",
              "    <g>\n",
              "        <path d=\"M19 3H5c-1.1 0-2 .9-2 2v14c0 1.1.9 2 2 2h14c1.1 0 2-.9 2-2V5c0-1.1-.9-2-2-2zM9 17H7v-7h2v7zm4 0h-2V7h2v10zm4 0h-2v-4h2v4z\"/>\n",
              "    </g>\n",
              "</svg>\n",
              "  </button>\n",
              "\n",
              "<style>\n",
              "  .colab-df-quickchart {\n",
              "      --bg-color: #E8F0FE;\n",
              "      --fill-color: #1967D2;\n",
              "      --hover-bg-color: #E2EBFA;\n",
              "      --hover-fill-color: #174EA6;\n",
              "      --disabled-fill-color: #AAA;\n",
              "      --disabled-bg-color: #DDD;\n",
              "  }\n",
              "\n",
              "  [theme=dark] .colab-df-quickchart {\n",
              "      --bg-color: #3B4455;\n",
              "      --fill-color: #D2E3FC;\n",
              "      --hover-bg-color: #434B5C;\n",
              "      --hover-fill-color: #FFFFFF;\n",
              "      --disabled-bg-color: #3B4455;\n",
              "      --disabled-fill-color: #666;\n",
              "  }\n",
              "\n",
              "  .colab-df-quickchart {\n",
              "    background-color: var(--bg-color);\n",
              "    border: none;\n",
              "    border-radius: 50%;\n",
              "    cursor: pointer;\n",
              "    display: none;\n",
              "    fill: var(--fill-color);\n",
              "    height: 32px;\n",
              "    padding: 0;\n",
              "    width: 32px;\n",
              "  }\n",
              "\n",
              "  .colab-df-quickchart:hover {\n",
              "    background-color: var(--hover-bg-color);\n",
              "    box-shadow: 0 1px 2px rgba(60, 64, 67, 0.3), 0 1px 3px 1px rgba(60, 64, 67, 0.15);\n",
              "    fill: var(--button-hover-fill-color);\n",
              "  }\n",
              "\n",
              "  .colab-df-quickchart-complete:disabled,\n",
              "  .colab-df-quickchart-complete:disabled:hover {\n",
              "    background-color: var(--disabled-bg-color);\n",
              "    fill: var(--disabled-fill-color);\n",
              "    box-shadow: none;\n",
              "  }\n",
              "\n",
              "  .colab-df-spinner {\n",
              "    border: 2px solid var(--fill-color);\n",
              "    border-color: transparent;\n",
              "    border-bottom-color: var(--fill-color);\n",
              "    animation:\n",
              "      spin 1s steps(1) infinite;\n",
              "  }\n",
              "\n",
              "  @keyframes spin {\n",
              "    0% {\n",
              "      border-color: transparent;\n",
              "      border-bottom-color: var(--fill-color);\n",
              "      border-left-color: var(--fill-color);\n",
              "    }\n",
              "    20% {\n",
              "      border-color: transparent;\n",
              "      border-left-color: var(--fill-color);\n",
              "      border-top-color: var(--fill-color);\n",
              "    }\n",
              "    30% {\n",
              "      border-color: transparent;\n",
              "      border-left-color: var(--fill-color);\n",
              "      border-top-color: var(--fill-color);\n",
              "      border-right-color: var(--fill-color);\n",
              "    }\n",
              "    40% {\n",
              "      border-color: transparent;\n",
              "      border-right-color: var(--fill-color);\n",
              "      border-top-color: var(--fill-color);\n",
              "    }\n",
              "    60% {\n",
              "      border-color: transparent;\n",
              "      border-right-color: var(--fill-color);\n",
              "    }\n",
              "    80% {\n",
              "      border-color: transparent;\n",
              "      border-right-color: var(--fill-color);\n",
              "      border-bottom-color: var(--fill-color);\n",
              "    }\n",
              "    90% {\n",
              "      border-color: transparent;\n",
              "      border-bottom-color: var(--fill-color);\n",
              "    }\n",
              "  }\n",
              "</style>\n",
              "\n",
              "  <script>\n",
              "    async function quickchart(key) {\n",
              "      const quickchartButtonEl =\n",
              "        document.querySelector('#' + key + ' button');\n",
              "      quickchartButtonEl.disabled = true;  // To prevent multiple clicks.\n",
              "      quickchartButtonEl.classList.add('colab-df-spinner');\n",
              "      try {\n",
              "        const charts = await google.colab.kernel.invokeFunction(\n",
              "            'suggestCharts', [key], {});\n",
              "      } catch (error) {\n",
              "        console.error('Error during call to suggestCharts:', error);\n",
              "      }\n",
              "      quickchartButtonEl.classList.remove('colab-df-spinner');\n",
              "      quickchartButtonEl.classList.add('colab-df-quickchart-complete');\n",
              "    }\n",
              "    (() => {\n",
              "      let quickchartButtonEl =\n",
              "        document.querySelector('#df-1ae96495-3a4e-474e-95c6-48dc20d63b4b button');\n",
              "      quickchartButtonEl.style.display =\n",
              "        google.colab.kernel.accessAllowed ? 'block' : 'none';\n",
              "    })();\n",
              "  </script>\n",
              "</div>\n",
              "\n",
              "    </div>\n",
              "  </div>\n"
            ],
            "application/vnd.google.colaboratory.intrinsic+json": {
              "type": "dataframe",
              "summary": "{\n  \"name\": \"df\",\n  \"rows\": 5,\n  \"fields\": [\n    {\n      \"column\": \"make\",\n      \"properties\": {\n        \"dtype\": \"category\",\n        \"num_unique_values\": 2,\n        \"samples\": [\n          \"nissan\",\n          \"ford\"\n        ],\n        \"semantic_type\": \"\",\n        \"description\": \"\"\n      }\n    },\n    {\n      \"column\": \"transmission\",\n      \"properties\": {\n        \"dtype\": \"category\",\n        \"num_unique_values\": 1,\n        \"samples\": [\n          \"automatic\"\n        ],\n        \"semantic_type\": \"\",\n        \"description\": \"\"\n      }\n    },\n    {\n      \"column\": \"state\",\n      \"properties\": {\n        \"dtype\": \"string\",\n        \"num_unique_values\": 3,\n        \"samples\": [\n          \"il\"\n        ],\n        \"semantic_type\": \"\",\n        \"description\": \"\"\n      }\n    },\n    {\n      \"column\": \"condition\",\n      \"properties\": {\n        \"dtype\": \"number\",\n        \"std\": 0.45460605656619507,\n        \"min\": 3.7,\n        \"max\": 4.7,\n        \"num_unique_values\": 4,\n        \"samples\": [\n          4.7\n        ],\n        \"semantic_type\": \"\",\n        \"description\": \"\"\n      }\n    },\n    {\n      \"column\": \"odometer\",\n      \"properties\": {\n        \"dtype\": \"number\",\n        \"std\": 14867.45165790022,\n        \"min\": 4551.0,\n        \"max\": 41186.0,\n        \"num_unique_values\": 5,\n        \"samples\": [\n          38810.0\n        ],\n        \"semantic_type\": \"\",\n        \"description\": \"\"\n      }\n    },\n    {\n      \"column\": \"auction_value\",\n      \"properties\": {\n        \"dtype\": \"number\",\n        \"std\": 7091.940848597089,\n        \"min\": 12500.0,\n        \"max\": 28800.0,\n        \"num_unique_values\": 4,\n        \"samples\": [\n          12500.0\n        ],\n        \"semantic_type\": \"\",\n        \"description\": \"\"\n      }\n    },\n    {\n      \"column\": \"selling_price\",\n      \"properties\": {\n        \"dtype\": \"number\",\n        \"std\": 8082.0789404707,\n        \"min\": 11600.0,\n        \"max\": 29800.0,\n        \"num_unique_values\": 5,\n        \"samples\": [\n          17300.0\n        ],\n        \"semantic_type\": \"\",\n        \"description\": \"\"\n      }\n    }\n  ]\n}"
            }
          },
          "metadata": {},
          "execution_count": 209
        }
      ]
    },
    {
      "cell_type": "code",
      "source": [
        "df.dtypes"
      ],
      "metadata": {
        "colab": {
          "base_uri": "https://localhost:8080/",
          "height": 303
        },
        "id": "84SIQvvYsFtr",
        "outputId": "2d3b2265-9c62-475e-fbc3-c1dffdae6470"
      },
      "execution_count": 210,
      "outputs": [
        {
          "output_type": "execute_result",
          "data": {
            "text/plain": [
              "make              object\n",
              "transmission      object\n",
              "state             object\n",
              "condition        float64\n",
              "odometer         float64\n",
              "auction_value    float64\n",
              "selling_price    float64\n",
              "dtype: object"
            ],
            "text/html": [
              "<div>\n",
              "<style scoped>\n",
              "    .dataframe tbody tr th:only-of-type {\n",
              "        vertical-align: middle;\n",
              "    }\n",
              "\n",
              "    .dataframe tbody tr th {\n",
              "        vertical-align: top;\n",
              "    }\n",
              "\n",
              "    .dataframe thead th {\n",
              "        text-align: right;\n",
              "    }\n",
              "</style>\n",
              "<table border=\"1\" class=\"dataframe\">\n",
              "  <thead>\n",
              "    <tr style=\"text-align: right;\">\n",
              "      <th></th>\n",
              "      <th>0</th>\n",
              "    </tr>\n",
              "  </thead>\n",
              "  <tbody>\n",
              "    <tr>\n",
              "      <th>make</th>\n",
              "      <td>object</td>\n",
              "    </tr>\n",
              "    <tr>\n",
              "      <th>transmission</th>\n",
              "      <td>object</td>\n",
              "    </tr>\n",
              "    <tr>\n",
              "      <th>state</th>\n",
              "      <td>object</td>\n",
              "    </tr>\n",
              "    <tr>\n",
              "      <th>condition</th>\n",
              "      <td>float64</td>\n",
              "    </tr>\n",
              "    <tr>\n",
              "      <th>odometer</th>\n",
              "      <td>float64</td>\n",
              "    </tr>\n",
              "    <tr>\n",
              "      <th>auction_value</th>\n",
              "      <td>float64</td>\n",
              "    </tr>\n",
              "    <tr>\n",
              "      <th>selling_price</th>\n",
              "      <td>float64</td>\n",
              "    </tr>\n",
              "  </tbody>\n",
              "</table>\n",
              "</div><br><label><b>dtype:</b> object</label>"
            ]
          },
          "metadata": {},
          "execution_count": 210
        }
      ]
    },
    {
      "cell_type": "markdown",
      "metadata": {
        "id": "eGm0fH5drru5"
      },
      "source": [
        "Your explanation?"
      ]
    },
    {
      "cell_type": "code",
      "source": [
        "df.columns"
      ],
      "metadata": {
        "colab": {
          "base_uri": "https://localhost:8080/"
        },
        "id": "9ZaT32WjsVBB",
        "outputId": "b4157838-eda4-4946-a0e9-60ce0af4d808"
      },
      "execution_count": 211,
      "outputs": [
        {
          "output_type": "execute_result",
          "data": {
            "text/plain": [
              "Index(['make', 'transmission', 'state', 'condition', 'odometer',\n",
              "       'auction_value', 'selling_price'],\n",
              "      dtype='object')"
            ]
          },
          "metadata": {},
          "execution_count": 211
        }
      ]
    },
    {
      "cell_type": "code",
      "source": [
        "df.isnull().sum()"
      ],
      "metadata": {
        "colab": {
          "base_uri": "https://localhost:8080/",
          "height": 303
        },
        "id": "mhIk_wsTsXFz",
        "outputId": "f621b142-3508-426a-c0d4-b9a9532b62c5"
      },
      "execution_count": 212,
      "outputs": [
        {
          "output_type": "execute_result",
          "data": {
            "text/plain": [
              "make             891\n",
              "transmission     949\n",
              "state            903\n",
              "condition        882\n",
              "odometer         877\n",
              "auction_value    948\n",
              "selling_price      0\n",
              "dtype: int64"
            ],
            "text/html": [
              "<div>\n",
              "<style scoped>\n",
              "    .dataframe tbody tr th:only-of-type {\n",
              "        vertical-align: middle;\n",
              "    }\n",
              "\n",
              "    .dataframe tbody tr th {\n",
              "        vertical-align: top;\n",
              "    }\n",
              "\n",
              "    .dataframe thead th {\n",
              "        text-align: right;\n",
              "    }\n",
              "</style>\n",
              "<table border=\"1\" class=\"dataframe\">\n",
              "  <thead>\n",
              "    <tr style=\"text-align: right;\">\n",
              "      <th></th>\n",
              "      <th>0</th>\n",
              "    </tr>\n",
              "  </thead>\n",
              "  <tbody>\n",
              "    <tr>\n",
              "      <th>make</th>\n",
              "      <td>891</td>\n",
              "    </tr>\n",
              "    <tr>\n",
              "      <th>transmission</th>\n",
              "      <td>949</td>\n",
              "    </tr>\n",
              "    <tr>\n",
              "      <th>state</th>\n",
              "      <td>903</td>\n",
              "    </tr>\n",
              "    <tr>\n",
              "      <th>condition</th>\n",
              "      <td>882</td>\n",
              "    </tr>\n",
              "    <tr>\n",
              "      <th>odometer</th>\n",
              "      <td>877</td>\n",
              "    </tr>\n",
              "    <tr>\n",
              "      <th>auction_value</th>\n",
              "      <td>948</td>\n",
              "    </tr>\n",
              "    <tr>\n",
              "      <th>selling_price</th>\n",
              "      <td>0</td>\n",
              "    </tr>\n",
              "  </tbody>\n",
              "</table>\n",
              "</div><br><label><b>dtype:</b> int64</label>"
            ]
          },
          "metadata": {},
          "execution_count": 212
        }
      ]
    },
    {
      "cell_type": "code",
      "source": [
        "df.sample(5)"
      ],
      "metadata": {
        "colab": {
          "base_uri": "https://localhost:8080/",
          "height": 206
        },
        "id": "Do73EJHzsmqT",
        "outputId": "85c88adf-c0bc-4cce-9714-67daed163b3f"
      },
      "execution_count": 213,
      "outputs": [
        {
          "output_type": "execute_result",
          "data": {
            "text/plain": [
              "           make transmission state  condition  odometer  auction_value  \\\n",
              "5267       ford    automatic    mi        3.5   19590.0        16550.0   \n",
              "4902  chevrolet    automatic    ca        4.0   85450.0        12900.0   \n",
              "1062       ford    automatic    az        3.1   31401.0        16250.0   \n",
              "7299      dodge    automatic    nc        3.6   53237.0        10450.0   \n",
              "7611      dodge    automatic    fl        2.5   61691.0            NaN   \n",
              "\n",
              "      selling_price  \n",
              "5267        16100.0  \n",
              "4902        16000.0  \n",
              "1062        15500.0  \n",
              "7299        10500.0  \n",
              "7611        10200.0  "
            ],
            "text/html": [
              "\n",
              "  <div id=\"df-a3ae9a11-572a-479a-a6d3-71f3e0f37214\" class=\"colab-df-container\">\n",
              "    <div>\n",
              "<style scoped>\n",
              "    .dataframe tbody tr th:only-of-type {\n",
              "        vertical-align: middle;\n",
              "    }\n",
              "\n",
              "    .dataframe tbody tr th {\n",
              "        vertical-align: top;\n",
              "    }\n",
              "\n",
              "    .dataframe thead th {\n",
              "        text-align: right;\n",
              "    }\n",
              "</style>\n",
              "<table border=\"1\" class=\"dataframe\">\n",
              "  <thead>\n",
              "    <tr style=\"text-align: right;\">\n",
              "      <th></th>\n",
              "      <th>make</th>\n",
              "      <th>transmission</th>\n",
              "      <th>state</th>\n",
              "      <th>condition</th>\n",
              "      <th>odometer</th>\n",
              "      <th>auction_value</th>\n",
              "      <th>selling_price</th>\n",
              "    </tr>\n",
              "  </thead>\n",
              "  <tbody>\n",
              "    <tr>\n",
              "      <th>5267</th>\n",
              "      <td>ford</td>\n",
              "      <td>automatic</td>\n",
              "      <td>mi</td>\n",
              "      <td>3.5</td>\n",
              "      <td>19590.0</td>\n",
              "      <td>16550.0</td>\n",
              "      <td>16100.0</td>\n",
              "    </tr>\n",
              "    <tr>\n",
              "      <th>4902</th>\n",
              "      <td>chevrolet</td>\n",
              "      <td>automatic</td>\n",
              "      <td>ca</td>\n",
              "      <td>4.0</td>\n",
              "      <td>85450.0</td>\n",
              "      <td>12900.0</td>\n",
              "      <td>16000.0</td>\n",
              "    </tr>\n",
              "    <tr>\n",
              "      <th>1062</th>\n",
              "      <td>ford</td>\n",
              "      <td>automatic</td>\n",
              "      <td>az</td>\n",
              "      <td>3.1</td>\n",
              "      <td>31401.0</td>\n",
              "      <td>16250.0</td>\n",
              "      <td>15500.0</td>\n",
              "    </tr>\n",
              "    <tr>\n",
              "      <th>7299</th>\n",
              "      <td>dodge</td>\n",
              "      <td>automatic</td>\n",
              "      <td>nc</td>\n",
              "      <td>3.6</td>\n",
              "      <td>53237.0</td>\n",
              "      <td>10450.0</td>\n",
              "      <td>10500.0</td>\n",
              "    </tr>\n",
              "    <tr>\n",
              "      <th>7611</th>\n",
              "      <td>dodge</td>\n",
              "      <td>automatic</td>\n",
              "      <td>fl</td>\n",
              "      <td>2.5</td>\n",
              "      <td>61691.0</td>\n",
              "      <td>NaN</td>\n",
              "      <td>10200.0</td>\n",
              "    </tr>\n",
              "  </tbody>\n",
              "</table>\n",
              "</div>\n",
              "    <div class=\"colab-df-buttons\">\n",
              "\n",
              "  <div class=\"colab-df-container\">\n",
              "    <button class=\"colab-df-convert\" onclick=\"convertToInteractive('df-a3ae9a11-572a-479a-a6d3-71f3e0f37214')\"\n",
              "            title=\"Convert this dataframe to an interactive table.\"\n",
              "            style=\"display:none;\">\n",
              "\n",
              "  <svg xmlns=\"http://www.w3.org/2000/svg\" height=\"24px\" viewBox=\"0 -960 960 960\">\n",
              "    <path d=\"M120-120v-720h720v720H120Zm60-500h600v-160H180v160Zm220 220h160v-160H400v160Zm0 220h160v-160H400v160ZM180-400h160v-160H180v160Zm440 0h160v-160H620v160ZM180-180h160v-160H180v160Zm440 0h160v-160H620v160Z\"/>\n",
              "  </svg>\n",
              "    </button>\n",
              "\n",
              "  <style>\n",
              "    .colab-df-container {\n",
              "      display:flex;\n",
              "      gap: 12px;\n",
              "    }\n",
              "\n",
              "    .colab-df-convert {\n",
              "      background-color: #E8F0FE;\n",
              "      border: none;\n",
              "      border-radius: 50%;\n",
              "      cursor: pointer;\n",
              "      display: none;\n",
              "      fill: #1967D2;\n",
              "      height: 32px;\n",
              "      padding: 0 0 0 0;\n",
              "      width: 32px;\n",
              "    }\n",
              "\n",
              "    .colab-df-convert:hover {\n",
              "      background-color: #E2EBFA;\n",
              "      box-shadow: 0px 1px 2px rgba(60, 64, 67, 0.3), 0px 1px 3px 1px rgba(60, 64, 67, 0.15);\n",
              "      fill: #174EA6;\n",
              "    }\n",
              "\n",
              "    .colab-df-buttons div {\n",
              "      margin-bottom: 4px;\n",
              "    }\n",
              "\n",
              "    [theme=dark] .colab-df-convert {\n",
              "      background-color: #3B4455;\n",
              "      fill: #D2E3FC;\n",
              "    }\n",
              "\n",
              "    [theme=dark] .colab-df-convert:hover {\n",
              "      background-color: #434B5C;\n",
              "      box-shadow: 0px 1px 3px 1px rgba(0, 0, 0, 0.15);\n",
              "      filter: drop-shadow(0px 1px 2px rgba(0, 0, 0, 0.3));\n",
              "      fill: #FFFFFF;\n",
              "    }\n",
              "  </style>\n",
              "\n",
              "    <script>\n",
              "      const buttonEl =\n",
              "        document.querySelector('#df-a3ae9a11-572a-479a-a6d3-71f3e0f37214 button.colab-df-convert');\n",
              "      buttonEl.style.display =\n",
              "        google.colab.kernel.accessAllowed ? 'block' : 'none';\n",
              "\n",
              "      async function convertToInteractive(key) {\n",
              "        const element = document.querySelector('#df-a3ae9a11-572a-479a-a6d3-71f3e0f37214');\n",
              "        const dataTable =\n",
              "          await google.colab.kernel.invokeFunction('convertToInteractive',\n",
              "                                                    [key], {});\n",
              "        if (!dataTable) return;\n",
              "\n",
              "        const docLinkHtml = 'Like what you see? Visit the ' +\n",
              "          '<a target=\"_blank\" href=https://colab.research.google.com/notebooks/data_table.ipynb>data table notebook</a>'\n",
              "          + ' to learn more about interactive tables.';\n",
              "        element.innerHTML = '';\n",
              "        dataTable['output_type'] = 'display_data';\n",
              "        await google.colab.output.renderOutput(dataTable, element);\n",
              "        const docLink = document.createElement('div');\n",
              "        docLink.innerHTML = docLinkHtml;\n",
              "        element.appendChild(docLink);\n",
              "      }\n",
              "    </script>\n",
              "  </div>\n",
              "\n",
              "\n",
              "<div id=\"df-5e27add4-5c20-479c-a133-ac6e31f0c6a8\">\n",
              "  <button class=\"colab-df-quickchart\" onclick=\"quickchart('df-5e27add4-5c20-479c-a133-ac6e31f0c6a8')\"\n",
              "            title=\"Suggest charts\"\n",
              "            style=\"display:none;\">\n",
              "\n",
              "<svg xmlns=\"http://www.w3.org/2000/svg\" height=\"24px\"viewBox=\"0 0 24 24\"\n",
              "     width=\"24px\">\n",
              "    <g>\n",
              "        <path d=\"M19 3H5c-1.1 0-2 .9-2 2v14c0 1.1.9 2 2 2h14c1.1 0 2-.9 2-2V5c0-1.1-.9-2-2-2zM9 17H7v-7h2v7zm4 0h-2V7h2v10zm4 0h-2v-4h2v4z\"/>\n",
              "    </g>\n",
              "</svg>\n",
              "  </button>\n",
              "\n",
              "<style>\n",
              "  .colab-df-quickchart {\n",
              "      --bg-color: #E8F0FE;\n",
              "      --fill-color: #1967D2;\n",
              "      --hover-bg-color: #E2EBFA;\n",
              "      --hover-fill-color: #174EA6;\n",
              "      --disabled-fill-color: #AAA;\n",
              "      --disabled-bg-color: #DDD;\n",
              "  }\n",
              "\n",
              "  [theme=dark] .colab-df-quickchart {\n",
              "      --bg-color: #3B4455;\n",
              "      --fill-color: #D2E3FC;\n",
              "      --hover-bg-color: #434B5C;\n",
              "      --hover-fill-color: #FFFFFF;\n",
              "      --disabled-bg-color: #3B4455;\n",
              "      --disabled-fill-color: #666;\n",
              "  }\n",
              "\n",
              "  .colab-df-quickchart {\n",
              "    background-color: var(--bg-color);\n",
              "    border: none;\n",
              "    border-radius: 50%;\n",
              "    cursor: pointer;\n",
              "    display: none;\n",
              "    fill: var(--fill-color);\n",
              "    height: 32px;\n",
              "    padding: 0;\n",
              "    width: 32px;\n",
              "  }\n",
              "\n",
              "  .colab-df-quickchart:hover {\n",
              "    background-color: var(--hover-bg-color);\n",
              "    box-shadow: 0 1px 2px rgba(60, 64, 67, 0.3), 0 1px 3px 1px rgba(60, 64, 67, 0.15);\n",
              "    fill: var(--button-hover-fill-color);\n",
              "  }\n",
              "\n",
              "  .colab-df-quickchart-complete:disabled,\n",
              "  .colab-df-quickchart-complete:disabled:hover {\n",
              "    background-color: var(--disabled-bg-color);\n",
              "    fill: var(--disabled-fill-color);\n",
              "    box-shadow: none;\n",
              "  }\n",
              "\n",
              "  .colab-df-spinner {\n",
              "    border: 2px solid var(--fill-color);\n",
              "    border-color: transparent;\n",
              "    border-bottom-color: var(--fill-color);\n",
              "    animation:\n",
              "      spin 1s steps(1) infinite;\n",
              "  }\n",
              "\n",
              "  @keyframes spin {\n",
              "    0% {\n",
              "      border-color: transparent;\n",
              "      border-bottom-color: var(--fill-color);\n",
              "      border-left-color: var(--fill-color);\n",
              "    }\n",
              "    20% {\n",
              "      border-color: transparent;\n",
              "      border-left-color: var(--fill-color);\n",
              "      border-top-color: var(--fill-color);\n",
              "    }\n",
              "    30% {\n",
              "      border-color: transparent;\n",
              "      border-left-color: var(--fill-color);\n",
              "      border-top-color: var(--fill-color);\n",
              "      border-right-color: var(--fill-color);\n",
              "    }\n",
              "    40% {\n",
              "      border-color: transparent;\n",
              "      border-right-color: var(--fill-color);\n",
              "      border-top-color: var(--fill-color);\n",
              "    }\n",
              "    60% {\n",
              "      border-color: transparent;\n",
              "      border-right-color: var(--fill-color);\n",
              "    }\n",
              "    80% {\n",
              "      border-color: transparent;\n",
              "      border-right-color: var(--fill-color);\n",
              "      border-bottom-color: var(--fill-color);\n",
              "    }\n",
              "    90% {\n",
              "      border-color: transparent;\n",
              "      border-bottom-color: var(--fill-color);\n",
              "    }\n",
              "  }\n",
              "</style>\n",
              "\n",
              "  <script>\n",
              "    async function quickchart(key) {\n",
              "      const quickchartButtonEl =\n",
              "        document.querySelector('#' + key + ' button');\n",
              "      quickchartButtonEl.disabled = true;  // To prevent multiple clicks.\n",
              "      quickchartButtonEl.classList.add('colab-df-spinner');\n",
              "      try {\n",
              "        const charts = await google.colab.kernel.invokeFunction(\n",
              "            'suggestCharts', [key], {});\n",
              "      } catch (error) {\n",
              "        console.error('Error during call to suggestCharts:', error);\n",
              "      }\n",
              "      quickchartButtonEl.classList.remove('colab-df-spinner');\n",
              "      quickchartButtonEl.classList.add('colab-df-quickchart-complete');\n",
              "    }\n",
              "    (() => {\n",
              "      let quickchartButtonEl =\n",
              "        document.querySelector('#df-5e27add4-5c20-479c-a133-ac6e31f0c6a8 button');\n",
              "      quickchartButtonEl.style.display =\n",
              "        google.colab.kernel.accessAllowed ? 'block' : 'none';\n",
              "    })();\n",
              "  </script>\n",
              "</div>\n",
              "\n",
              "    </div>\n",
              "  </div>\n"
            ],
            "application/vnd.google.colaboratory.intrinsic+json": {
              "type": "dataframe",
              "summary": "{\n  \"name\": \"df\",\n  \"rows\": 5,\n  \"fields\": [\n    {\n      \"column\": \"make\",\n      \"properties\": {\n        \"dtype\": \"string\",\n        \"num_unique_values\": 3,\n        \"samples\": [\n          \"ford\",\n          \"chevrolet\",\n          \"dodge\"\n        ],\n        \"semantic_type\": \"\",\n        \"description\": \"\"\n      }\n    },\n    {\n      \"column\": \"transmission\",\n      \"properties\": {\n        \"dtype\": \"category\",\n        \"num_unique_values\": 1,\n        \"samples\": [\n          \"automatic\"\n        ],\n        \"semantic_type\": \"\",\n        \"description\": \"\"\n      }\n    },\n    {\n      \"column\": \"state\",\n      \"properties\": {\n        \"dtype\": \"string\",\n        \"num_unique_values\": 5,\n        \"samples\": [\n          \"ca\"\n        ],\n        \"semantic_type\": \"\",\n        \"description\": \"\"\n      }\n    },\n    {\n      \"column\": \"condition\",\n      \"properties\": {\n        \"dtype\": \"number\",\n        \"std\": 0.5683308895353129,\n        \"min\": 2.5,\n        \"max\": 4.0,\n        \"num_unique_values\": 5,\n        \"samples\": [\n          4.0\n        ],\n        \"semantic_type\": \"\",\n        \"description\": \"\"\n      }\n    },\n    {\n      \"column\": \"odometer\",\n      \"properties\": {\n        \"dtype\": \"number\",\n        \"std\": 25856.2188786373,\n        \"min\": 19590.0,\n        \"max\": 85450.0,\n        \"num_unique_values\": 5,\n        \"samples\": [\n          85450.0\n        ],\n        \"semantic_type\": \"\",\n        \"description\": \"\"\n      }\n    },\n    {\n      \"column\": \"auction_value\",\n      \"properties\": {\n        \"dtype\": \"number\",\n        \"std\": 2908.142305092147,\n        \"min\": 10450.0,\n        \"max\": 16550.0,\n        \"num_unique_values\": 4,\n        \"samples\": [\n          12900.0\n        ],\n        \"semantic_type\": \"\",\n        \"description\": \"\"\n      }\n    },\n    {\n      \"column\": \"selling_price\",\n      \"properties\": {\n        \"dtype\": \"number\",\n        \"std\": 3031.9960422137756,\n        \"min\": 10200.0,\n        \"max\": 16100.0,\n        \"num_unique_values\": 5,\n        \"samples\": [\n          16000.0\n        ],\n        \"semantic_type\": \"\",\n        \"description\": \"\"\n      }\n    }\n  ]\n}"
            }
          },
          "metadata": {},
          "execution_count": 213
        }
      ]
    },
    {
      "cell_type": "markdown",
      "source": [
        "Your explanation?\n",
        "Answer: I removed state as its not relevant when predecting the selling price."
      ],
      "metadata": {
        "id": "chCWfTIrv_cQ"
      }
    },
    {
      "cell_type": "code",
      "execution_count": 214,
      "metadata": {
        "colab": {
          "base_uri": "https://localhost:8080/"
        },
        "id": "s5-DJFjWrru5",
        "outputId": "b62da78c-47d6-4d0f-de9f-e5a2d644353b"
      },
      "outputs": [
        {
          "output_type": "stream",
          "name": "stdout",
          "text": [
            "Records in training data: 7,244\n",
            "Records in test data: 1,811\n",
            "\n",
            "Features:\n",
            "make\n",
            "transmission\n",
            "condition\n",
            "odometer\n",
            "auction_value\n"
          ]
        }
      ],
      "source": [
        "from sklearn.model_selection import train_test_split\n",
        "features = [ 'make','transmission','condition','odometer','auction_value'\n",
        "    # enter features you selected\n",
        "]\n",
        "\n",
        "X = df[features]\n",
        "y = df['selling_price']\n",
        "\n",
        "X_train, X_test, y_train, y_test = train_test_split(X, y, test_size=0.2, random_state=100)\n",
        "\n",
        "print(f'Records in training data: {X_train.shape[0]:,}')\n",
        "print(f'Records in test data: {X_test.shape[0]:,}')\n",
        "print('\\nFeatures:')\n",
        "print(*X_train.columns, sep='\\n')"
      ]
    },
    {
      "cell_type": "markdown",
      "metadata": {
        "id": "qY_o0NPprru6"
      },
      "source": [
        "## Question 2:\n",
        "Split the features into two lists, one for the numerical features and another for the categorical features."
      ]
    },
    {
      "cell_type": "code",
      "execution_count": 215,
      "metadata": {
        "colab": {
          "base_uri": "https://localhost:8080/"
        },
        "id": "eauCw4mdrru7",
        "outputId": "611b72ee-b80c-44d2-c41f-4121cb4486dc"
      },
      "outputs": [
        {
          "output_type": "stream",
          "name": "stdout",
          "text": [
            "The numerical features: ['condition', 'odometer', 'auction_value']\n",
            "The categorical features: ['make', 'transmission']\n"
          ]
        }
      ],
      "source": [
        "# insert code here\n",
        "Numerical = [col for col in df.columns if df[col].dtype == 'float64']\n",
        "Categorical = [col for col in df.columns if df[col].dtype == 'object']\n",
        "\n",
        "Categorical.remove('state')\n",
        "Numerical.remove('selling_price')\n",
        "\n",
        "print('The numerical features:', Numerical)\n",
        "print('The categorical features:', Categorical)"
      ]
    },
    {
      "cell_type": "markdown",
      "metadata": {
        "id": "gpNtccHBrru8"
      },
      "source": [
        "## Question 3:\n",
        " Using the numerical variables, create a pipeline that replaces the missing values with the median and then standardizes the values using a standard scaler."
      ]
    },
    {
      "cell_type": "code",
      "execution_count": 216,
      "metadata": {
        "id": "VvnaWjtXrru8"
      },
      "outputs": [],
      "source": [
        "# insert code here\n",
        "#To create the pipeline and missing values to be replaced with the median\n",
        "numvar_pipeline = Pipeline([('handling_missing_values', SimpleImputer(strategy='median')),('value_scaling', StandardScaler())])"
      ]
    },
    {
      "cell_type": "markdown",
      "metadata": {
        "id": "O5IUtj8prru8"
      },
      "source": [
        "## Question 4:\n",
        "Using the categorical variables, create a pipeline that replaces the missing values with the most frequent and then use one-hot encoding to convert the data to numerical arrays.\n",
        "- You should be dropping one category from each variable when using the one-hot encoder.  \n",
        "- To ensure the pipeline doesn't break when it receives new/unexpected categories, you should ignore new categories.\n",
        "- Use a fit transformer on the training dataset to validate all the columns are now numeric and to determine how many columns the transformed data contains."
      ]
    },
    {
      "cell_type": "code",
      "execution_count": 217,
      "metadata": {
        "id": "i75nBTqArru8"
      },
      "outputs": [],
      "source": [
        "# insert code here\n",
        "#To craete a pipeline to replace missing values with most frequent\n",
        "#Then using one-hot encoding to convert the categorical data to numerical arrays\n",
        "\n",
        "catvar_pipeline = Pipeline([('handling_missing_values', SimpleImputer(strategy='most_frequent')),('encoder', OneHotEncoder(drop='first', handle_unknown='ignore'))])"
      ]
    },
    {
      "cell_type": "markdown",
      "metadata": {
        "id": "ji-Tcfkbrru9"
      },
      "source": [
        "## Question 5:\n",
        "\n",
        "Combine the numerical and categorical pipelines into one data processing pipeline.\n",
        "- Use a fit transformers and the training dataset to verify the data has no missing values and the correct number of columns."
      ]
    },
    {
      "cell_type": "code",
      "execution_count": 218,
      "metadata": {
        "colab": {
          "base_uri": "https://localhost:8080/"
        },
        "id": "vB2e1Cl9rru9",
        "outputId": "360a40f2-3150-4af1-850d-fd56ed7b5b64"
      },
      "outputs": [
        {
          "output_type": "stream",
          "name": "stdout",
          "text": [
            "Combined data pre-processing pipeline: ColumnTransformer(transformers=[('Numerical_pipe',\n",
            "                                 Pipeline(steps=[('handling_missing_values',\n",
            "                                                  SimpleImputer(strategy='median')),\n",
            "                                                 ('value_scaling',\n",
            "                                                  StandardScaler())]),\n",
            "                                 ['condition', 'odometer', 'auction_value']),\n",
            "                                ('Categorical_pipe',\n",
            "                                 Pipeline(steps=[('handling_missing_values',\n",
            "                                                  SimpleImputer(strategy='most_frequent')),\n",
            "                                                 ('encoder',\n",
            "                                                  OneHotEncoder(drop='first',\n",
            "                                                                handle_unknown='ignore'))]),\n",
            "                                 ['make', 'transmission'])])\n"
          ]
        }
      ],
      "source": [
        "# insert code here\n",
        "#To create one data processing pipeline by binding numerical and categorical pipelines\n",
        "\n",
        "data_processing_pipeline = ColumnTransformer(transformers=[('Numerical_pipe',numvar_pipeline, Numerical),('Categorical_pipe', catvar_pipeline, Categorical)])\n",
        "print('Combined data pre-processing pipeline:', data_processing_pipeline)"
      ]
    },
    {
      "cell_type": "code",
      "source": [
        "transform_X = data_processing_pipeline.fit_transform(X)\n",
        "encode_cat = data_processing_pipeline.named_transformers_['Categorical_pipe'].named_steps['encoder'].get_feature_names_out(Categorical)\n",
        "allfeatures = Numerical + list(encode_cat)\n",
        "transform_data = pd.DataFrame(transform_X, columns=allfeatures)\n",
        "print(transform_data)"
      ],
      "metadata": {
        "colab": {
          "base_uri": "https://localhost:8080/"
        },
        "id": "QxB28ynW4Vwu",
        "outputId": "03993419-8db8-4581-fadc-59227b55c0e7"
      },
      "execution_count": 219,
      "outputs": [
        {
          "output_type": "stream",
          "name": "stdout",
          "text": [
            "      condition  odometer  auction_value  make_chevrolet  make_chrysler  \\\n",
            "0      1.333059 -0.185336      -0.191185             0.0            0.0   \n",
            "1     -0.081007 -0.410985       0.249020             0.0            0.0   \n",
            "2     -0.723764 -0.314109       0.452192             0.0            0.0   \n",
            "3      0.176096 -0.362234      -0.516260             0.0            0.0   \n",
            "4     -1.237969 -0.406528       1.657678             0.0            0.0   \n",
            "...         ...       ...            ...             ...            ...   \n",
            "9050   0.561750 -0.000498      -0.245364             0.0            0.0   \n",
            "9051   0.176096 -0.083236       0.066166             0.0            0.0   \n",
            "9052   1.204507 -1.276220      -0.441764             0.0            0.0   \n",
            "9053   1.075956 -0.281585       0.817901             0.0            0.0   \n",
            "9054  -0.081007 -0.606757       1.766037             0.0            0.0   \n",
            "\n",
            "      make_dodge  make_ford  make_honda  make_hyundai  make_kia  make_nissan  \\\n",
            "0            0.0        0.0         0.0           0.0       0.0          1.0   \n",
            "1            0.0        1.0         0.0           0.0       0.0          0.0   \n",
            "2            0.0        1.0         0.0           0.0       0.0          0.0   \n",
            "3            0.0        0.0         0.0           0.0       0.0          1.0   \n",
            "4            0.0        1.0         0.0           0.0       0.0          0.0   \n",
            "...          ...        ...         ...           ...       ...          ...   \n",
            "9050         0.0        1.0         0.0           0.0       0.0          0.0   \n",
            "9051         0.0        1.0         0.0           0.0       0.0          0.0   \n",
            "9052         0.0        0.0         0.0           0.0       0.0          1.0   \n",
            "9053         0.0        1.0         0.0           0.0       0.0          0.0   \n",
            "9054         0.0        1.0         0.0           0.0       0.0          0.0   \n",
            "\n",
            "      make_toyota  transmission_manual  \n",
            "0             0.0                  0.0  \n",
            "1             0.0                  0.0  \n",
            "2             0.0                  0.0  \n",
            "3             0.0                  0.0  \n",
            "4             0.0                  0.0  \n",
            "...           ...                  ...  \n",
            "9050          0.0                  0.0  \n",
            "9051          0.0                  0.0  \n",
            "9052          0.0                  0.0  \n",
            "9053          0.0                  0.0  \n",
            "9054          0.0                  0.0  \n",
            "\n",
            "[9055 rows x 13 columns]\n"
          ]
        }
      ]
    },
    {
      "cell_type": "code",
      "source": [
        "transform_data.isnull().sum()"
      ],
      "metadata": {
        "colab": {
          "base_uri": "https://localhost:8080/",
          "height": 491
        },
        "id": "qVDVlD5l86lW",
        "outputId": "82bb8bd7-d8ab-4c2b-b379-9e37c5513d0a"
      },
      "execution_count": 220,
      "outputs": [
        {
          "output_type": "execute_result",
          "data": {
            "text/plain": [
              "condition              0\n",
              "odometer               0\n",
              "auction_value          0\n",
              "make_chevrolet         0\n",
              "make_chrysler          0\n",
              "make_dodge             0\n",
              "make_ford              0\n",
              "make_honda             0\n",
              "make_hyundai           0\n",
              "make_kia               0\n",
              "make_nissan            0\n",
              "make_toyota            0\n",
              "transmission_manual    0\n",
              "dtype: int64"
            ],
            "text/html": [
              "<div>\n",
              "<style scoped>\n",
              "    .dataframe tbody tr th:only-of-type {\n",
              "        vertical-align: middle;\n",
              "    }\n",
              "\n",
              "    .dataframe tbody tr th {\n",
              "        vertical-align: top;\n",
              "    }\n",
              "\n",
              "    .dataframe thead th {\n",
              "        text-align: right;\n",
              "    }\n",
              "</style>\n",
              "<table border=\"1\" class=\"dataframe\">\n",
              "  <thead>\n",
              "    <tr style=\"text-align: right;\">\n",
              "      <th></th>\n",
              "      <th>0</th>\n",
              "    </tr>\n",
              "  </thead>\n",
              "  <tbody>\n",
              "    <tr>\n",
              "      <th>condition</th>\n",
              "      <td>0</td>\n",
              "    </tr>\n",
              "    <tr>\n",
              "      <th>odometer</th>\n",
              "      <td>0</td>\n",
              "    </tr>\n",
              "    <tr>\n",
              "      <th>auction_value</th>\n",
              "      <td>0</td>\n",
              "    </tr>\n",
              "    <tr>\n",
              "      <th>make_chevrolet</th>\n",
              "      <td>0</td>\n",
              "    </tr>\n",
              "    <tr>\n",
              "      <th>make_chrysler</th>\n",
              "      <td>0</td>\n",
              "    </tr>\n",
              "    <tr>\n",
              "      <th>make_dodge</th>\n",
              "      <td>0</td>\n",
              "    </tr>\n",
              "    <tr>\n",
              "      <th>make_ford</th>\n",
              "      <td>0</td>\n",
              "    </tr>\n",
              "    <tr>\n",
              "      <th>make_honda</th>\n",
              "      <td>0</td>\n",
              "    </tr>\n",
              "    <tr>\n",
              "      <th>make_hyundai</th>\n",
              "      <td>0</td>\n",
              "    </tr>\n",
              "    <tr>\n",
              "      <th>make_kia</th>\n",
              "      <td>0</td>\n",
              "    </tr>\n",
              "    <tr>\n",
              "      <th>make_nissan</th>\n",
              "      <td>0</td>\n",
              "    </tr>\n",
              "    <tr>\n",
              "      <th>make_toyota</th>\n",
              "      <td>0</td>\n",
              "    </tr>\n",
              "    <tr>\n",
              "      <th>transmission_manual</th>\n",
              "      <td>0</td>\n",
              "    </tr>\n",
              "  </tbody>\n",
              "</table>\n",
              "</div><br><label><b>dtype:</b> int64</label>"
            ]
          },
          "metadata": {},
          "execution_count": 220
        }
      ]
    },
    {
      "cell_type": "markdown",
      "metadata": {
        "id": "5bptohNDrru9"
      },
      "source": [
        "## Question 6:\n",
        "\n",
        "Add a linear regression model to the pipeline.\n",
        "- Report what the $R^2$ is using the `test` data.  "
      ]
    },
    {
      "cell_type": "code",
      "source": [
        "LRM_pipeline = Pipeline([('processing_pipeline', data_processing_pipeline), ('LRM', LinearRegression())])\n",
        "print(LRM_pipeline)"
      ],
      "metadata": {
        "colab": {
          "base_uri": "https://localhost:8080/"
        },
        "id": "dWjFbOB_9BXt",
        "outputId": "d953e86f-8067-42e1-c94d-7fb8bd8a51c0"
      },
      "execution_count": 221,
      "outputs": [
        {
          "output_type": "stream",
          "name": "stdout",
          "text": [
            "Pipeline(steps=[('processing_pipeline',\n",
            "                 ColumnTransformer(transformers=[('Numerical_pipe',\n",
            "                                                  Pipeline(steps=[('handling_missing_values',\n",
            "                                                                   SimpleImputer(strategy='median')),\n",
            "                                                                  ('value_scaling',\n",
            "                                                                   StandardScaler())]),\n",
            "                                                  ['condition', 'odometer',\n",
            "                                                   'auction_value']),\n",
            "                                                 ('Categorical_pipe',\n",
            "                                                  Pipeline(steps=[('handling_missing_values',\n",
            "                                                                   SimpleImputer(strategy='most_frequent')),\n",
            "                                                                  ('encoder',\n",
            "                                                                   OneHotEncoder(drop='first',\n",
            "                                                                                 handle_unknown='ignore'))]),\n",
            "                                                  ['make', 'transmission'])])),\n",
            "                ('LRM', LinearRegression())])\n"
          ]
        }
      ]
    },
    {
      "cell_type": "code",
      "source": [
        "LRM_pipeline.fit(X_train, y_train)\n",
        "testing_transformX = data_processing_pipeline.transform(X_test)\n",
        "sellprice_Predection = LRM_pipeline.predict(X_test)"
      ],
      "metadata": {
        "id": "dds9lgfM-Ct6"
      },
      "execution_count": 222,
      "outputs": []
    },
    {
      "cell_type": "code",
      "source": [
        "R2 = r2_score(y_test, sellprice_Predection)\n",
        "print('R2 value:', R2)"
      ],
      "metadata": {
        "colab": {
          "base_uri": "https://localhost:8080/"
        },
        "id": "Udj6AywOITLK",
        "outputId": "63e71d2c-6859-4316-eb72-cfb9072249c7"
      },
      "execution_count": 223,
      "outputs": [
        {
          "output_type": "stream",
          "name": "stdout",
          "text": [
            "R2 value: 0.8844724016792995\n"
          ]
        }
      ]
    },
    {
      "cell_type": "markdown",
      "source": [
        "Report what the  𝑅2  is using the test data ->R2 is the metric to indicate how well the model fits the data"
      ],
      "metadata": {
        "id": "YQodJ3SaJKrd"
      }
    },
    {
      "cell_type": "markdown",
      "metadata": {
        "id": "TTdop4rlrru9"
      },
      "source": [
        "## Question 7:\n",
        "\n",
        "Create a plot(s) of the residuals. Do you have any concerns about patterns in the residuals that the model is neglecting to pick-up?\n",
        "- Include a sentence or two on what you observe."
      ]
    },
    {
      "cell_type": "code",
      "execution_count": 224,
      "metadata": {
        "colab": {
          "base_uri": "https://localhost:8080/",
          "height": 452
        },
        "id": "kNVBWdYqrru9",
        "outputId": "090d82c2-de95-4ff2-d166-b8240d5b383c"
      },
      "outputs": [
        {
          "output_type": "display_data",
          "data": {
            "text/plain": [
              "<Figure size 640x480 with 1 Axes>"
            ],
            "image/png": "[encoded data removed]"
          },
          "metadata": {}
        }
      ],
      "source": [
        "# insert code here\n",
        "residual = sellprice_Predection-y_test\n",
        "plt.plot(residual, marker='o', linestyle='')\n",
        "plt.title('Residual Plot')\n",
        "plt.show()"
      ]
    },
    {
      "cell_type": "markdown",
      "metadata": {
        "id": "T84o4T7Brru-"
      },
      "source": [
        "Insert description here."
      ]
    },
    {
      "cell_type": "markdown",
      "source": [
        "1. most values are near zero means the performance of model is good.\n",
        "2. there are few outliers as observed which may impact the predection"
      ],
      "metadata": {
        "id": "dvUqG4MTM--q"
      }
    },
    {
      "cell_type": "markdown",
      "metadata": {
        "id": "7z-xAt74rru-"
      },
      "source": [
        "## Question 8:\n",
        "\n",
        "Modify the pipeline to use a ridge regression model with an alpha value of 100. How does this change the $R^2$?"
      ]
    },
    {
      "cell_type": "code",
      "execution_count": 225,
      "metadata": {
        "colab": {
          "base_uri": "https://localhost:8080/"
        },
        "id": "60R-aflZrru-",
        "outputId": "9b305da9-fbe4-4be0-ec70-7386c724664b"
      },
      "outputs": [
        {
          "output_type": "execute_result",
          "data": {
            "text/plain": [
              "array([  898.93686386,  -233.35263989,  6835.17976382, -1978.6085442 ,\n",
              "       -2250.56338671, -2049.35457704, -1916.97423571, -1955.97411384,\n",
              "       -2604.79462891, -2836.08999385, -2371.67366947, -1908.11545878,\n",
              "        -586.4595733 ])"
            ]
          },
          "metadata": {},
          "execution_count": 225
        }
      ],
      "source": [
        "RRM_pipeline = Pipeline([('ridge_processing', data_processing_pipeline),('Ridgepipeline', Ridge(alpha=0))])\n",
        "RRM_pipeline.fit(X_train, y_train)\n",
        "RRM_pipeline['Ridgepipeline'].coef_"
      ]
    },
    {
      "cell_type": "code",
      "source": [
        "Alpha_val = [0, 1, 2, 5, 10, 50, 100]\n",
        "endresult = defaultdict(dict)\n",
        "for alpha in Alpha_val:\n",
        "  RRM_pipeline = Pipeline([('ridge_processing', data_processing_pipeline),('Ridgepipeline', Ridge(alpha=alpha))])\n",
        "  RRM_pipeline.fit(X_train, y_train)\n",
        "  endresult['coeff'][alpha] = RRM_pipeline['Ridgepipeline'].coef_\n",
        "  endresult['train score'][alpha] = RRM_pipeline.score(X_train, y_train)\n",
        "  endresult['test score'][alpha] = RRM_pipeline.score(X_test, y_test)\n",
        "\n",
        "Ridge_coef = pd.DataFrame.from_dict(endresult['coeff'])\n",
        "Ridge_coef = Ridge_coef.reset_index()\n",
        "Ridge_coef = Ridge_coef.rename(columns={'index':'coef_nbr'})\n",
        "Ridge_coef = Ridge_coef.melt(id_vars='coef_nbr', var_name='Alpha_val', value_name='coef')\n",
        "(Ridge_coef.pivot_table(index='Alpha_val', columns='coef_nbr', values='coef').plot(figsize=(8,5)))\n",
        "\n",
        "plt.title('Ridge Coefficients')\n",
        "plt.xlabel('Alpha values')\n",
        "plt.ylabel('Coefficient values')\n",
        "plt.show()"
      ],
      "metadata": {
        "colab": {
          "base_uri": "https://localhost:8080/",
          "height": 487
        },
        "id": "y1BCj-4VPgHC",
        "outputId": "ce637d19-19e3-4791-9565-04f7748d72e7"
      },
      "execution_count": 226,
      "outputs": [
        {
          "output_type": "display_data",
          "data": {
            "text/plain": [
              "<Figure size 800x500 with 1 Axes>"
            ],
            "image/png": "[encoded data removed]"
          },
          "metadata": {}
        }
      ]
    },
    {
      "cell_type": "code",
      "source": [
        "Ridge_R2train = pd.Series(endresult['train score'])\n",
        "Ridge_R2test = pd.Series(endresult['test score'])\n",
        "Ridge_R2train.plot()\n",
        "Ridge_R2test.plot()\n",
        "plt.title('r2: ridge regression')\n",
        "plt.legend(['Train','Test'])\n",
        "plt.xlabel('Alpha values')\n",
        "plt.ylabel('Variance')\n",
        "plt.show()"
      ],
      "metadata": {
        "colab": {
          "base_uri": "https://localhost:8080/",
          "height": 472
        },
        "id": "al-02toLWZfk",
        "outputId": "5107f16c-f4e7-4f72-9941-69544fbf8314"
      },
      "execution_count": 227,
      "outputs": [
        {
          "output_type": "display_data",
          "data": {
            "text/plain": [
              "<Figure size 640x480 with 1 Axes>"
            ],
            "image/png": "[encoded data removed]"
          },
          "metadata": {}
        }
      ]
    }
  ],
  "metadata": {
    "kernelspec": {
      "display_name": "Python 3 (ipykernel)",
      "language": "python",
      "name": "python3"
    },
    "language_info": {
      "codemirror_mode": {
        "name": "ipython",
        "version": 3
      },
      "file_extension": ".py",
      "mimetype": "text/x-python",
      "name": "python",
      "nbconvert_exporter": "python",
      "pygments_lexer": "ipython3",
      "version": "3.12.7"
    },
    "toc": {
      "base_numbering": 1,
      "nav_menu": {},
      "number_sections": true,
      "sideBar": true,
      "skip_h1_title": false,
      "title_cell": "Table of Contents",
      "title_sidebar": "Contents",
      "toc_cell": false,
      "toc_position": {},
      "toc_section_display": true,
      "toc_window_display": false
    },
    "colab": {
      "provenance": []
    }
  },
  "nbformat": 4,
  "nbformat_minor": 0
}