{
  "cells": [
    {
      "cell_type": "markdown",
      "metadata": {
        "id": "X3a2jxsmo6Gm"
      },
      "source": [
        "# Week6 - Classifier Evaluation Assignment\n",
        "\n",
        "- Complete this Jupyter Notebook.  \n",
        "- Execute the initial cells and answer the numbered questions.  \n",
        "- Don't import other libraries."
      ]
    },
    {
      "cell_type": "code",
      "execution_count": 30,
      "metadata": {
        "colab": {
          "base_uri": "https://localhost:8080/",
          "height": 206
        },
        "id": "VG0ZlDN8o6Gp",
        "outputId": "a1db4aca-f324-496c-f1c4-8d3b2b92726d"
      },
      "outputs": [
        {
          "output_type": "execute_result",
          "data": {
            "text/plain": [
              "   actual      prob\n",
              "0     0.0  0.380052\n",
              "1     1.0  0.827923\n",
              "2     1.0  0.929093\n",
              "3     1.0  0.472508\n",
              "4     1.0  0.906988"
            ],
            "text/html": [
              "\n",
              "  <div id=\"df-ca13cdac-8300-40d0-ac68-efaf596095fe\" class=\"colab-df-container\">\n",
              "    <div>\n",
              "<style scoped>\n",
              "    .dataframe tbody tr th:only-of-type {\n",
              "        vertical-align: middle;\n",
              "    }\n",
              "\n",
              "    .dataframe tbody tr th {\n",
              "        vertical-align: top;\n",
              "    }\n",
              "\n",
              "    .dataframe thead th {\n",
              "        text-align: right;\n",
              "    }\n",
              "</style>\n",
              "<table border=\"1\" class=\"dataframe\">\n",
              "  <thead>\n",
              "    <tr style=\"text-align: right;\">\n",
              "      <th></th>\n",
              "      <th>actual</th>\n",
              "      <th>prob</th>\n",
              "    </tr>\n",
              "  </thead>\n",
              "  <tbody>\n",
              "    <tr>\n",
              "      <th>0</th>\n",
              "      <td>0.0</td>\n",
              "      <td>0.380052</td>\n",
              "    </tr>\n",
              "    <tr>\n",
              "      <th>1</th>\n",
              "      <td>1.0</td>\n",
              "      <td>0.827923</td>\n",
              "    </tr>\n",
              "    <tr>\n",
              "      <th>2</th>\n",
              "      <td>1.0</td>\n",
              "      <td>0.929093</td>\n",
              "    </tr>\n",
              "    <tr>\n",
              "      <th>3</th>\n",
              "      <td>1.0</td>\n",
              "      <td>0.472508</td>\n",
              "    </tr>\n",
              "    <tr>\n",
              "      <th>4</th>\n",
              "      <td>1.0</td>\n",
              "      <td>0.906988</td>\n",
              "    </tr>\n",
              "  </tbody>\n",
              "</table>\n",
              "</div>\n",
              "    <div class=\"colab-df-buttons\">\n",
              "\n",
              "  <div class=\"colab-df-container\">\n",
              "    <button class=\"colab-df-convert\" onclick=\"convertToInteractive('df-ca13cdac-8300-40d0-ac68-efaf596095fe')\"\n",
              "            title=\"Convert this dataframe to an interactive table.\"\n",
              "            style=\"display:none;\">\n",
              "\n",
              "  <svg xmlns=\"http://www.w3.org/2000/svg\" height=\"24px\" viewBox=\"0 -960 960 960\">\n",
              "    <path d=\"M120-120v-720h720v720H120Zm60-500h600v-160H180v160Zm220 220h160v-160H400v160Zm0 220h160v-160H400v160ZM180-400h160v-160H180v160Zm440 0h160v-160H620v160ZM180-180h160v-160H180v160Zm440 0h160v-160H620v160Z\"/>\n",
              "  </svg>\n",
              "    </button>\n",
              "\n",
              "  <style>\n",
              "    .colab-df-container {\n",
              "      display:flex;\n",
              "      gap: 12px;\n",
              "    }\n",
              "\n",
              "    .colab-df-convert {\n",
              "      background-color: #E8F0FE;\n",
              "      border: none;\n",
              "      border-radius: 50%;\n",
              "      cursor: pointer;\n",
              "      display: none;\n",
              "      fill: #1967D2;\n",
              "      height: 32px;\n",
              "      padding: 0 0 0 0;\n",
              "      width: 32px;\n",
              "    }\n",
              "\n",
              "    .colab-df-convert:hover {\n",
              "      background-color: #E2EBFA;\n",
              "      box-shadow: 0px 1px 2px rgba(60, 64, 67, 0.3), 0px 1px 3px 1px rgba(60, 64, 67, 0.15);\n",
              "      fill: #174EA6;\n",
              "    }\n",
              "\n",
              "    .colab-df-buttons div {\n",
              "      margin-bottom: 4px;\n",
              "    }\n",
              "\n",
              "    [theme=dark] .colab-df-convert {\n",
              "      background-color: #3B4455;\n",
              "      fill: #D2E3FC;\n",
              "    }\n",
              "\n",
              "    [theme=dark] .colab-df-convert:hover {\n",
              "      background-color: #434B5C;\n",
              "      box-shadow: 0px 1px 3px 1px rgba(0, 0, 0, 0.15);\n",
              "      filter: drop-shadow(0px 1px 2px rgba(0, 0, 0, 0.3));\n",
              "      fill: #FFFFFF;\n",
              "    }\n",
              "  </style>\n",
              "\n",
              "    <script>\n",
              "      const buttonEl =\n",
              "        document.querySelector('#df-ca13cdac-8300-40d0-ac68-efaf596095fe button.colab-df-convert');\n",
              "      buttonEl.style.display =\n",
              "        google.colab.kernel.accessAllowed ? 'block' : 'none';\n",
              "\n",
              "      async function convertToInteractive(key) {\n",
              "        const element = document.querySelector('#df-ca13cdac-8300-40d0-ac68-efaf596095fe');\n",
              "        const dataTable =\n",
              "          await google.colab.kernel.invokeFunction('convertToInteractive',\n",
              "                                                    [key], {});\n",
              "        if (!dataTable) return;\n",
              "\n",
              "        const docLinkHtml = 'Like what you see? Visit the ' +\n",
              "          '<a target=\"_blank\" href=https://colab.research.google.com/notebooks/data_table.ipynb>data table notebook</a>'\n",
              "          + ' to learn more about interactive tables.';\n",
              "        element.innerHTML = '';\n",
              "        dataTable['output_type'] = 'display_data';\n",
              "        await google.colab.output.renderOutput(dataTable, element);\n",
              "        const docLink = document.createElement('div');\n",
              "        docLink.innerHTML = docLinkHtml;\n",
              "        element.appendChild(docLink);\n",
              "      }\n",
              "    </script>\n",
              "  </div>\n",
              "\n",
              "\n",
              "<div id=\"df-1f5bb300-18b0-423a-9c49-a15f982c344e\">\n",
              "  <button class=\"colab-df-quickchart\" onclick=\"quickchart('df-1f5bb300-18b0-423a-9c49-a15f982c344e')\"\n",
              "            title=\"Suggest charts\"\n",
              "            style=\"display:none;\">\n",
              "\n",
              "<svg xmlns=\"http://www.w3.org/2000/svg\" height=\"24px\"viewBox=\"0 0 24 24\"\n",
              "     width=\"24px\">\n",
              "    <g>\n",
              "        <path d=\"M19 3H5c-1.1 0-2 .9-2 2v14c0 1.1.9 2 2 2h14c1.1 0 2-.9 2-2V5c0-1.1-.9-2-2-2zM9 17H7v-7h2v7zm4 0h-2V7h2v10zm4 0h-2v-4h2v4z\"/>\n",
              "    </g>\n",
              "</svg>\n",
              "  </button>\n",
              "\n",
              "<style>\n",
              "  .colab-df-quickchart {\n",
              "      --bg-color: #E8F0FE;\n",
              "      --fill-color: #1967D2;\n",
              "      --hover-bg-color: #E2EBFA;\n",
              "      --hover-fill-color: #174EA6;\n",
              "      --disabled-fill-color: #AAA;\n",
              "      --disabled-bg-color: #DDD;\n",
              "  }\n",
              "\n",
              "  [theme=dark] .colab-df-quickchart {\n",
              "      --bg-color: #3B4455;\n",
              "      --fill-color: #D2E3FC;\n",
              "      --hover-bg-color: #434B5C;\n",
              "      --hover-fill-color: #FFFFFF;\n",
              "      --disabled-bg-color: #3B4455;\n",
              "      --disabled-fill-color: #666;\n",
              "  }\n",
              "\n",
              "  .colab-df-quickchart {\n",
              "    background-color: var(--bg-color);\n",
              "    border: none;\n",
              "    border-radius: 50%;\n",
              "    cursor: pointer;\n",
              "    display: none;\n",
              "    fill: var(--fill-color);\n",
              "    height: 32px;\n",
              "    padding: 0;\n",
              "    width: 32px;\n",
              "  }\n",
              "\n",
              "  .colab-df-quickchart:hover {\n",
              "    background-color: var(--hover-bg-color);\n",
              "    box-shadow: 0 1px 2px rgba(60, 64, 67, 0.3), 0 1px 3px 1px rgba(60, 64, 67, 0.15);\n",
              "    fill: var(--button-hover-fill-color);\n",
              "  }\n",
              "\n",
              "  .colab-df-quickchart-complete:disabled,\n",
              "  .colab-df-quickchart-complete:disabled:hover {\n",
              "    background-color: var(--disabled-bg-color);\n",
              "    fill: var(--disabled-fill-color);\n",
              "    box-shadow: none;\n",
              "  }\n",
              "\n",
              "  .colab-df-spinner {\n",
              "    border: 2px solid var(--fill-color);\n",
              "    border-color: transparent;\n",
              "    border-bottom-color: var(--fill-color);\n",
              "    animation:\n",
              "      spin 1s steps(1) infinite;\n",
              "  }\n",
              "\n",
              "  @keyframes spin {\n",
              "    0% {\n",
              "      border-color: transparent;\n",
              "      border-bottom-color: var(--fill-color);\n",
              "      border-left-color: var(--fill-color);\n",
              "    }\n",
              "    20% {\n",
              "      border-color: transparent;\n",
              "      border-left-color: var(--fill-color);\n",
              "      border-top-color: var(--fill-color);\n",
              "    }\n",
              "    30% {\n",
              "      border-color: transparent;\n",
              "      border-left-color: var(--fill-color);\n",
              "      border-top-color: var(--fill-color);\n",
              "      border-right-color: var(--fill-color);\n",
              "    }\n",
              "    40% {\n",
              "      border-color: transparent;\n",
              "      border-right-color: var(--fill-color);\n",
              "      border-top-color: var(--fill-color);\n",
              "    }\n",
              "    60% {\n",
              "      border-color: transparent;\n",
              "      border-right-color: var(--fill-color);\n",
              "    }\n",
              "    80% {\n",
              "      border-color: transparent;\n",
              "      border-right-color: var(--fill-color);\n",
              "      border-bottom-color: var(--fill-color);\n",
              "    }\n",
              "    90% {\n",
              "      border-color: transparent;\n",
              "      border-bottom-color: var(--fill-color);\n",
              "    }\n",
              "  }\n",
              "</style>\n",
              "\n",
              "  <script>\n",
              "    async function quickchart(key) {\n",
              "      const quickchartButtonEl =\n",
              "        document.querySelector('#' + key + ' button');\n",
              "      quickchartButtonEl.disabled = true;  // To prevent multiple clicks.\n",
              "      quickchartButtonEl.classList.add('colab-df-spinner');\n",
              "      try {\n",
              "        const charts = await google.colab.kernel.invokeFunction(\n",
              "            'suggestCharts', [key], {});\n",
              "      } catch (error) {\n",
              "        console.error('Error during call to suggestCharts:', error);\n",
              "      }\n",
              "      quickchartButtonEl.classList.remove('colab-df-spinner');\n",
              "      quickchartButtonEl.classList.add('colab-df-quickchart-complete');\n",
              "    }\n",
              "    (() => {\n",
              "      let quickchartButtonEl =\n",
              "        document.querySelector('#df-1f5bb300-18b0-423a-9c49-a15f982c344e button');\n",
              "      quickchartButtonEl.style.display =\n",
              "        google.colab.kernel.accessAllowed ? 'block' : 'none';\n",
              "    })();\n",
              "  </script>\n",
              "</div>\n",
              "\n",
              "    </div>\n",
              "  </div>\n"
            ],
            "application/vnd.google.colaboratory.intrinsic+json": {
              "type": "dataframe",
              "variable_name": "results",
              "summary": "{\n  \"name\": \"results\",\n  \"rows\": 5000,\n  \"fields\": [\n    {\n      \"column\": \"actual\",\n      \"properties\": {\n        \"dtype\": \"number\",\n        \"std\": 0.4899469457011854,\n        \"min\": 0.0,\n        \"max\": 1.0,\n        \"num_unique_values\": 2,\n        \"samples\": [\n          1.0,\n          0.0\n        ],\n        \"semantic_type\": \"\",\n        \"description\": \"\"\n      }\n    },\n    {\n      \"column\": \"prob\",\n      \"properties\": {\n        \"dtype\": \"number\",\n        \"std\": 0.2602641016985257,\n        \"min\": 0.0048239902106531,\n        \"max\": 0.9968628422523764,\n        \"num_unique_values\": 5000,\n        \"samples\": [\n          0.8717394230305937,\n          0.1580895636661466\n        ],\n        \"semantic_type\": \"\",\n        \"description\": \"\"\n      }\n    }\n  ]\n}"
            }
          },
          "metadata": {},
          "execution_count": 30
        }
      ],
      "source": [
        "import pandas as pd\n",
        "import numpy as np\n",
        "import matplotlib.pyplot as plt\n",
        "%matplotlib inline\n",
        "\n",
        "results = pd.read_csv('https://raw.githubusercontent.com/msaricaumbc/DS_data/master/ds602/lab-evaluation-data.csv')\n",
        "results.head()"
      ]
    },
    {
      "cell_type": "markdown",
      "metadata": {
        "id": "CpFQxUzgo6Gq"
      },
      "source": [
        "## Data Definitions\n",
        "- `actual`: Whether the event was true or not. A value of 1.0 is True and 0.0 is False.  \n",
        "- `prob`: The probability that the event was True. This is estimated from a classification model."
      ]
    },
    {
      "cell_type": "markdown",
      "metadata": {
        "id": "5MtBnSVlo6Gq"
      },
      "source": [
        "## Question 1\n",
        "- Determine the distribution of the actual event.\n",
        "- Would you be concerned about bias due to imbalance?"
      ]
    },
    {
      "cell_type": "code",
      "execution_count": 31,
      "metadata": {
        "colab": {
          "base_uri": "https://localhost:8080/",
          "height": 560
        },
        "id": "_wJvdoTno6Gq",
        "outputId": "988813c7-3c77-484d-cc5e-8f39bcd6777f"
      },
      "outputs": [
        {
          "output_type": "stream",
          "name": "stdout",
          "text": [
            "Distribution of the actual event: actual\n",
            "1.0    3000\n",
            "0.0    2000\n",
            "Name: count, dtype: int64\n"
          ]
        },
        {
          "output_type": "display_data",
          "data": {
            "text/plain": [
              "<Figure size 600x500 with 1 Axes>"
            ],
            "image/png": "[encoded data removed]"
          },
          "metadata": {}
        }
      ],
      "source": [
        "#insert code here\n",
        "#Distribution of the actual event\n",
        "\n",
        "dist_actual = results['actual'].value_counts()\n",
        "print('Distribution of the actual event:', dist_actual)\n",
        "\n",
        "#Graph to display the distribution\n",
        "plt.figure(figsize = (6,5))\n",
        "plt.bar(dist_actual.index, dist_actual.values, color=['lightblue','lightpink'])\n",
        "plt.xlabel('Actual Event')\n",
        "plt.ylabel('Count')\n",
        "plt.title('Distribution of the actual event')\n",
        "plt.show()"
      ]
    },
    {
      "cell_type": "markdown",
      "metadata": {
        "id": "Ze1ai_jzo6Gq"
      },
      "source": [
        "The distribution is 3000 (1.0 = True) and 2000 (0.0 = False) which states that there are more true events than that of the false events. The model is not that imbalanced with a difference of 1000 so there should be no problem with bias due to imbalance."
      ]
    },
    {
      "cell_type": "markdown",
      "metadata": {
        "id": "6vGKPpm8o6Gr"
      },
      "source": [
        "## Question 2\n",
        "- Create a histogram that shows the distribution of the probabilities for the True and False classes.  \n",
        "- Describe what you observe."
      ]
    },
    {
      "cell_type": "code",
      "execution_count": 32,
      "metadata": {
        "colab": {
          "base_uri": "https://localhost:8080/",
          "height": 487
        },
        "id": "_sBjlsx5o6Gr",
        "outputId": "2766f2a1-0448-49d2-fe92-74ab13d751cf"
      },
      "outputs": [
        {
          "output_type": "display_data",
          "data": {
            "text/plain": [
              "<Figure size 600x500 with 1 Axes>"
            ],
            "image/png": "[encoded data removed]"
          },
          "metadata": {}
        }
      ],
      "source": [
        "#insert code here\n",
        "#Getting the Probabilities and displaying the histogram\n",
        "true_event = results[results['actual'] == 1.0]['prob']\n",
        "false_event = results[results['actual'] == 0.0]['prob']\n",
        "\n",
        "#Histogram\n",
        "plt.figure(figsize = (6,5))\n",
        "plt.hist(true_event, bins=20, alpha=0.7, label='True events (1.0)',color='lightgreen', edgecolor='black')\n",
        "plt.hist(false_event, bins=20, alpha=0.7, label='False events (0.0)',color='lightblue', edgecolor='black')\n",
        "plt.xlabel('Probabilities')\n",
        "plt.ylabel('Count')\n",
        "plt.title('Probabilities True vs. False events')\n",
        "plt.show()"
      ]
    },
    {
      "cell_type": "markdown",
      "metadata": {
        "id": "AAW-g0Koo6Gr"
      },
      "source": [
        "1. Green: Display True events with high probability between 0.8 to 0.9\n",
        "2. Blue: Display False events with high probability between 0.2 to 0.3\n",
        "3. Obviously true probability are higher as per the distribution\n",
        "4. There is a clear distinction between both events"
      ]
    },
    {
      "cell_type": "markdown",
      "metadata": {
        "id": "KZ0Jy493o6Gr"
      },
      "source": [
        "## Question 3\n",
        "- Create a simple confusion matrix. Use `0.5` as the threshold for whether an observation should be considered True or False.  \n",
        "- Comment on what you observe."
      ]
    },
    {
      "cell_type": "code",
      "execution_count": 33,
      "metadata": {
        "colab": {
          "base_uri": "https://localhost:8080/"
        },
        "id": "1mMnDnd1o6Gr",
        "outputId": "4042283d-86f4-4148-e47b-7414fcea4e9b"
      },
      "outputs": [
        {
          "output_type": "stream",
          "name": "stdout",
          "text": [
            "The confusion matrix is as follows:\n",
            "[[1790  210]\n",
            " [ 377 2623]]\n"
          ]
        }
      ],
      "source": [
        "# insert code here\n",
        "Threshold = 0.5\n",
        "results['new'] = np.where(results['prob'] >= Threshold, 1.0, 0.0)\n",
        "positive_T = ((results['actual'] == 1.0) & (results['new'] == 1.0)).sum()\n",
        "positive_F = ((results['actual'] == 0.0) & (results['new'] == 1.0)).sum()\n",
        "negative_T = ((results['actual'] == 0.0) & (results['new'] == 0.0)).sum()\n",
        "negative_F = ((results['actual'] == 1.0) & (results['new'] == 0.0)).sum()\n",
        "\n",
        "Confusion_Matrix = np.array([[negative_T, positive_F], [negative_F, positive_T]])\n",
        "print('The confusion matrix is as follows:')\n",
        "print(Confusion_Matrix)"
      ]
    },
    {
      "cell_type": "markdown",
      "metadata": {
        "id": "mHf2lI61o6Gr"
      },
      "source": [
        "1. True positives are 2623. Which is high is terms of number which means that the model is predecting the true event correctly\n",
        "2. False positives are 210. Which is the value predicted by model as true when they are actually false. Value is relatively low.\n",
        "3. True negatives are 1790. The model correctly defined the false events. Again, the model predicted false events as false correctly means it is performing better.\n",
        "4. False negatives are 377. Value predicted by model as false when it is true.  \n"
      ]
    },
    {
      "cell_type": "markdown",
      "metadata": {
        "id": "qM_WDutoo6Gr"
      },
      "source": [
        "## Question 4\n",
        "- Calculate the accuracy, precision, and recall `without` using any pre-built functions.\n",
        "- Which measure would you use if this was your model and why?"
      ]
    },
    {
      "cell_type": "code",
      "execution_count": 34,
      "metadata": {
        "colab": {
          "base_uri": "https://localhost:8080/"
        },
        "id": "lTzTtjG6o6Gr",
        "outputId": "25beb9d2-4c9d-4916-faf6-b91023c85605"
      },
      "outputs": [
        {
          "output_type": "stream",
          "name": "stdout",
          "text": [
            "Accuracy: 0.8826\n",
            "Precision: 0.9258736321920226\n",
            "Recall: 0.8743333333333333\n"
          ]
        }
      ],
      "source": [
        "#insert code here\n",
        "#1. Calculating the accuracy\n",
        "\n",
        "Predections_Total = np.sum(Confusion_Matrix)\n",
        "Predections_True = Confusion_Matrix[0,0] + Confusion_Matrix[1,1]\n",
        "Accuracy_value = Predections_True/Predections_Total\n",
        "print('Accuracy:', Accuracy_value)\n",
        "\n",
        "#2. Calculating the precision\n",
        "Positive_T = Confusion_Matrix[1,1]\n",
        "Predections_P = np.sum(Confusion_Matrix[:,1])\n",
        "Precision_value = Positive_T/Predections_P\n",
        "print('Precision:', Precision_value)\n",
        "\n",
        "#3. Calculating the recall\n",
        "Actual_Positive = np.sum(Confusion_Matrix[1,:])\n",
        "Recall_value = Positive_T/Actual_Positive\n",
        "print('Recall:', Recall_value)"
      ]
    },
    {
      "cell_type": "markdown",
      "metadata": {
        "id": "XKIz8m8Eo6Gr"
      },
      "source": [
        "I would consider the F1 score as it consideres both false positive and negative and balances both recall and precision. As accuracy depends on majority set while precision on false positive and recall on false negative. This is crucial as our data is not balanced. Hence, F1 is the best option as it provides an evaluation which is balanced depending on models performance."
      ]
    },
    {
      "cell_type": "markdown",
      "metadata": {
        "id": "gyVC_MP4o6Gr"
      },
      "source": [
        "## Question 5\n",
        "- Construct a ROC curve plot.  \n",
        "- Comment on the fit of the model based on this chart."
      ]
    },
    {
      "cell_type": "code",
      "execution_count": 36,
      "metadata": {
        "colab": {
          "base_uri": "https://localhost:8080/",
          "height": 487
        },
        "id": "9QQauYrGo6Gr",
        "outputId": "79837549-8676-467e-86ee-793045e19e67"
      },
      "outputs": [
        {
          "output_type": "display_data",
          "data": {
            "text/plain": [
              "<Figure size 600x500 with 1 Axes>"
            ],
            "image/png": "[encoded data removed]"
          },
          "metadata": {}
        }
      ],
      "source": [
        "#Insert code here\n",
        "P = results[results['actual'] == 1]\n",
        "N = results[results['actual'] == 0]\n",
        "Total_P = len(P)\n",
        "Total_N = len(N)\n",
        "TPR = []\n",
        "FPR = []\n",
        "\n",
        "#To calculate TPR and FPR by using for loop over thresholds\n",
        "for Threshold in np.linspace(0, 1, 100):\n",
        "  Positive_T = sum(P['prob'] >= Threshold)\n",
        "  Positive_F = sum(N ['prob'] >= Threshold)\n",
        "  TPR_val = Positive_T / Total_P\n",
        "  FPR_val = Positive_F / Total_N\n",
        "  TPR.append(TPR_val)\n",
        "  FPR.append(FPR_val)\n",
        "\n",
        "#Plotting the ROC curve plot\n",
        "plt.figure(figsize = (6,5))\n",
        "plt.plot(FPR, TPR, color='green', label='Curve')\n",
        "plt.plot([0,1],[0,1], color='lightpink', linestyle='--', label='Random')\n",
        "plt.xlabel('FPR: False positive rate')\n",
        "plt.ylabel('TPR: True positive rate')\n",
        "plt.title('ROC curve plot')\n",
        "plt.legend()\n",
        "plt.grid(True)\n",
        "plt.show()"
      ]
    },
    {
      "cell_type": "markdown",
      "metadata": {
        "id": "waGwOkF6o6Gr"
      },
      "source": [
        "The true positive rate is high than that of the false negative rate. This displays significantly in the curve that the model is performing better than random guessing."
      ]
    }
  ],
  "metadata": {
    "kernelspec": {
      "display_name": "Python 3 (ipykernel)",
      "language": "python",
      "name": "python3"
    },
    "language_info": {
      "codemirror_mode": {
        "name": "ipython",
        "version": 3
      },
      "file_extension": ".py",
      "mimetype": "text/x-python",
      "name": "python",
      "nbconvert_exporter": "python",
      "pygments_lexer": "ipython3",
      "version": "3.12.7"
    },
    "toc": {
      "base_numbering": 1,
      "nav_menu": {},
      "number_sections": false,
      "sideBar": true,
      "skip_h1_title": false,
      "title_cell": "Table of Contents",
      "title_sidebar": "Contents",
      "toc_cell": false,
      "toc_position": {},
      "toc_section_display": true,
      "toc_window_display": false
    },
    "colab": {
      "provenance": []
    }
  },
  "nbformat": 4,
  "nbformat_minor": 0
}